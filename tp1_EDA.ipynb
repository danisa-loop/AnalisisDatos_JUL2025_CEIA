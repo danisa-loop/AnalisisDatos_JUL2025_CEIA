{
 "cells": [
  {
   "cell_type": "code",
   "execution_count": null,
   "id": "cda61f43",
   "metadata": {
    "tags": [
     "parameters"
    ]
   },
   "outputs": [],
   "source": [
    "!pip install geopandas\n",
    "!pip install contextily\n",
    "!pip install plotly.express\n",
    "!pip install --upgrade nbformat\n"
   ]
  },
  {
   "cell_type": "code",
   "execution_count": null,
   "id": "a43febc9",
   "metadata": {},
   "outputs": [],
   "source": [
    "!pip install missingno\n",
    "!pip install statsmodels"
   ]
  },
  {
   "cell_type": "markdown",
   "id": "ec68961d",
   "metadata": {},
   "source": [
    "# TP Análisis de datos - Parte 1\n",
    "\n",
    "#### Integrantes:\n",
    "* Daniela Putrino\n",
    "* Dimas Torres"
   ]
  },
  {
   "cell_type": "markdown",
   "id": "f7b64f19",
   "metadata": {},
   "source": [
    "El objetivo de este trabajo es realizar un **análisis exploratorio de datos (EDA)** completo sobre un conjunto de registros extraidos de la web del Servicio Meteorológico Nacional (SMN) Argentino.\n",
    "\n",
    "El dataset se conforma con dos archivos descargados y unidos convenientemente:\n",
    "1. DatoHorario: consta de valores por hora para las *features*\n",
    "    * Temperatura (TEMP)\n",
    "    * Humedad (HUM)\n",
    "    * Presión Normal Media (PNM)    \n",
    "    * DD\n",
    "    * FF\n",
    "3. EstacionesSMN: información sobre la localización de las distintas estaciones meteorológicas (latitud, longitud, altitud y provincia).\n",
    "\n",
    "Luego, con el dataframe limpio se podrá implementar (a futuro) un modelo de machine learning supervisado de regresión para predecir la temperatura (variable target, *y*) a cada hora, por estación, a partir de las otras variables climáticas y geográficas disponibles."
   ]
  },
  {
   "cell_type": "code",
   "execution_count": 38,
   "id": "704fb825",
   "metadata": {},
   "outputs": [],
   "source": [
    "# Importamos las librerías necesarias\n",
    "import pandas as pd\n",
    "import numpy as np\n",
    "import matplotlib.pyplot as plt\n",
    "import seaborn as sns\n",
    "import geopandas as gpd\n",
    "import contextily as ctx\n",
    "import missingno as msno\n",
    "import statsmodels.api as sm"
   ]
  },
  {
   "cell_type": "code",
   "execution_count": 39,
   "id": "93cd7141",
   "metadata": {},
   "outputs": [
    {
     "data": {
      "text/html": [
       "<div>\n",
       "<style scoped>\n",
       "    .dataframe tbody tr th:only-of-type {\n",
       "        vertical-align: middle;\n",
       "    }\n",
       "\n",
       "    .dataframe tbody tr th {\n",
       "        vertical-align: top;\n",
       "    }\n",
       "\n",
       "    .dataframe thead th {\n",
       "        text-align: right;\n",
       "    }\n",
       "</style>\n",
       "<table border=\"1\" class=\"dataframe\">\n",
       "  <thead>\n",
       "    <tr style=\"text-align: right;\">\n",
       "      <th></th>\n",
       "      <th>FECHA (ddmmyyyy)</th>\n",
       "      <th>HORA</th>\n",
       "      <th>TEMP (°C)</th>\n",
       "      <th>HUM (%)</th>\n",
       "      <th>PNM (hPa)</th>\n",
       "      <th>DD (g)</th>\n",
       "      <th>FF (km/h)</th>\n",
       "      <th>ESTACION</th>\n",
       "    </tr>\n",
       "  </thead>\n",
       "  <tbody>\n",
       "    <tr>\n",
       "      <th>0</th>\n",
       "      <td>15072025.0</td>\n",
       "      <td>0.0</td>\n",
       "      <td>13.7</td>\n",
       "      <td>88.0</td>\n",
       "      <td>1020.2</td>\n",
       "      <td>80.0</td>\n",
       "      <td>13.0</td>\n",
       "      <td>AEROPARQUE AERO</td>\n",
       "    </tr>\n",
       "    <tr>\n",
       "      <th>1</th>\n",
       "      <td>15072025.0</td>\n",
       "      <td>1.0</td>\n",
       "      <td>13.6</td>\n",
       "      <td>91.0</td>\n",
       "      <td>1019.6</td>\n",
       "      <td>80.0</td>\n",
       "      <td>11.0</td>\n",
       "      <td>AEROPARQUE AERO</td>\n",
       "    </tr>\n",
       "    <tr>\n",
       "      <th>2</th>\n",
       "      <td>15072025.0</td>\n",
       "      <td>2.0</td>\n",
       "      <td>13.4</td>\n",
       "      <td>91.0</td>\n",
       "      <td>1019.3</td>\n",
       "      <td>80.0</td>\n",
       "      <td>11.0</td>\n",
       "      <td>AEROPARQUE AERO</td>\n",
       "    </tr>\n",
       "    <tr>\n",
       "      <th>3</th>\n",
       "      <td>15072025.0</td>\n",
       "      <td>3.0</td>\n",
       "      <td>13.4</td>\n",
       "      <td>94.0</td>\n",
       "      <td>1018.7</td>\n",
       "      <td>80.0</td>\n",
       "      <td>13.0</td>\n",
       "      <td>AEROPARQUE AERO</td>\n",
       "    </tr>\n",
       "    <tr>\n",
       "      <th>4</th>\n",
       "      <td>15072025.0</td>\n",
       "      <td>4.0</td>\n",
       "      <td>13.7</td>\n",
       "      <td>91.0</td>\n",
       "      <td>1018.2</td>\n",
       "      <td>90.0</td>\n",
       "      <td>9.0</td>\n",
       "      <td>AEROPARQUE AERO</td>\n",
       "    </tr>\n",
       "  </tbody>\n",
       "</table>\n",
       "</div>"
      ],
      "text/plain": [
       "   FECHA (ddmmyyyy)  HORA  TEMP (°C)  HUM (%)  PNM (hPa)  DD (g)  FF (km/h)  \\\n",
       "0        15072025.0   0.0       13.7     88.0     1020.2    80.0       13.0   \n",
       "1        15072025.0   1.0       13.6     91.0     1019.6    80.0       11.0   \n",
       "2        15072025.0   2.0       13.4     91.0     1019.3    80.0       11.0   \n",
       "3        15072025.0   3.0       13.4     94.0     1018.7    80.0       13.0   \n",
       "4        15072025.0   4.0       13.7     91.0     1018.2    90.0        9.0   \n",
       "\n",
       "          ESTACION  \n",
       "0  AEROPARQUE AERO  \n",
       "1  AEROPARQUE AERO  \n",
       "2  AEROPARQUE AERO  \n",
       "3  AEROPARQUE AERO  \n",
       "4  AEROPARQUE AERO  "
      ]
     },
     "execution_count": 39,
     "metadata": {},
     "output_type": "execute_result"
    }
   ],
   "source": [
    "# Definimos la ruta de los datos\n",
    "path = \"SMN_data/\"\n",
    "# Cargamos el archivo de datos horarios\n",
    "# Debemos utilizar el función read_fwf para leer archivos de ancho fijo, separando por tabulaciones\n",
    "# Omitimos las dos primeras filas y definimos los nombres de las columnas, con sus respectivas unidades.\n",
    "# Definimos el encoding como 'latin1' para evitar problemas con caracteres especiales.\n",
    "df_hor = pd.read_fwf(path+\"datohorario20250715.txt\", encoding='latin1', sep='\\t', skiprows=2, names=[\"FECHA (ddmmyyyy)\", \"HORA\", \"TEMP (°C)\", \"HUM (%)\", \"PNM (hPa)\", \"DD (g)\", \"FF (km/h)\", \"ESTACION\"])\n",
    "\n",
    "df_hor.head()  # Mostramos las primeras filas del DataFrame para verificar que se ha cargado correctamente"
   ]
  },
  {
   "cell_type": "code",
   "execution_count": 40,
   "id": "c8c8535f",
   "metadata": {},
   "outputs": [
    {
     "name": "stdout",
     "output_type": "stream",
     "text": [
      "<class 'pandas.core.frame.DataFrame'>\n",
      "RangeIndex: 2074 entries, 0 to 2073\n",
      "Data columns (total 8 columns):\n",
      " #   Column            Non-Null Count  Dtype  \n",
      "---  ------            --------------  -----  \n",
      " 0   FECHA (ddmmyyyy)  2035 non-null   float64\n",
      " 1   HORA              2035 non-null   float64\n",
      " 2   TEMP (°C)         2035 non-null   float64\n",
      " 3   HUM (%)           2035 non-null   float64\n",
      " 4   PNM (hPa)         1828 non-null   float64\n",
      " 5   DD (g)            2034 non-null   float64\n",
      " 6   FF (km/h)         2034 non-null   float64\n",
      " 7   ESTACION          2074 non-null   object \n",
      "dtypes: float64(7), object(1)\n",
      "memory usage: 129.8+ KB\n"
     ]
    }
   ],
   "source": [
    "# Analizamos los tipos de datos\n",
    "df_hor.info()"
   ]
  },
  {
   "cell_type": "code",
   "execution_count": 41,
   "id": "93f0dd11",
   "metadata": {},
   "outputs": [
    {
     "name": "stdout",
     "output_type": "stream",
     "text": [
      "<class 'pandas.core.frame.DataFrame'>\n",
      "RangeIndex: 2074 entries, 0 to 2073\n",
      "Data columns (total 8 columns):\n",
      " #   Column            Non-Null Count  Dtype         \n",
      "---  ------            --------------  -----         \n",
      " 0   FECHA (ddmmyyyy)  2035 non-null   datetime64[ns]\n",
      " 1   HORA              2035 non-null   Int64         \n",
      " 2   TEMP (°C)         2035 non-null   Float64       \n",
      " 3   HUM (%)           2035 non-null   Int64         \n",
      " 4   PNM (hPa)         1828 non-null   float64       \n",
      " 5   DD (g)            2034 non-null   Int64         \n",
      " 6   FF (km/h)         2034 non-null   Int64         \n",
      " 7   ESTACION          2074 non-null   object        \n",
      "dtypes: Float64(1), Int64(4), datetime64[ns](1), float64(1), object(1)\n",
      "memory usage: 139.9+ KB\n"
     ]
    }
   ],
   "source": [
    "# Convertimos las columnas a los tipos de datos adecuados\n",
    "# OBS: Necesitamos convertir los datos a tipos que soporten valores nulos; se identifican con mayúscula inicial\n",
    "df_hor['FECHA (ddmmyyyy)'] = pd.to_datetime(df_hor['FECHA (ddmmyyyy)'], format='%d%m%Y') # Convertir a tipo fecha, aunque no tiene sentido ya que no utilizaremos esta columna por tener un único valor; son todos datos del mismo día.\n",
    "df_hor[\"HORA\"] = df_hor[\"HORA\"].astype(\"Int64\")\n",
    "df_hor[\"TEMP (°C)\"] = df_hor[\"TEMP (°C)\"].astype(\"Float64\")\n",
    "df_hor[\"HUM (%)\"] = df_hor[\"HUM (%)\"].astype(\"Int64\")\n",
    "df_hor[\"DD (g)\"] = df_hor[\"DD (g)\"].astype(\"Int64\")\n",
    "df_hor[\"FF (km/h)\"] = df_hor[\"FF (km/h)\"].astype(\"Int64\")\n",
    "\n",
    "df_hor.info()  # Verificamos que los tipos de datos se han actualizado correctamente"
   ]
  },
  {
   "cell_type": "code",
   "execution_count": 42,
   "id": "5e88183d",
   "metadata": {},
   "outputs": [
    {
     "data": {
      "text/html": [
       "<div>\n",
       "<style scoped>\n",
       "    .dataframe tbody tr th:only-of-type {\n",
       "        vertical-align: middle;\n",
       "    }\n",
       "\n",
       "    .dataframe tbody tr th {\n",
       "        vertical-align: top;\n",
       "    }\n",
       "\n",
       "    .dataframe thead th {\n",
       "        text-align: right;\n",
       "    }\n",
       "</style>\n",
       "<table border=\"1\" class=\"dataframe\">\n",
       "  <thead>\n",
       "    <tr style=\"text-align: right;\">\n",
       "      <th></th>\n",
       "      <th>FECHA (ddmmyyyy)</th>\n",
       "      <th>HORA</th>\n",
       "      <th>TEMP (°C)</th>\n",
       "      <th>HUM (%)</th>\n",
       "      <th>PNM (hPa)</th>\n",
       "      <th>DD (g)</th>\n",
       "      <th>FF (km/h)</th>\n",
       "      <th>ESTACION</th>\n",
       "    </tr>\n",
       "  </thead>\n",
       "  <tbody>\n",
       "    <tr>\n",
       "      <th>0</th>\n",
       "      <td>2025-07-15</td>\n",
       "      <td>0</td>\n",
       "      <td>13.7</td>\n",
       "      <td>88</td>\n",
       "      <td>1020.2</td>\n",
       "      <td>80</td>\n",
       "      <td>13</td>\n",
       "      <td>AEROPARQUE AERO</td>\n",
       "    </tr>\n",
       "    <tr>\n",
       "      <th>1</th>\n",
       "      <td>2025-07-15</td>\n",
       "      <td>1</td>\n",
       "      <td>13.6</td>\n",
       "      <td>91</td>\n",
       "      <td>1019.6</td>\n",
       "      <td>80</td>\n",
       "      <td>11</td>\n",
       "      <td>AEROPARQUE AERO</td>\n",
       "    </tr>\n",
       "    <tr>\n",
       "      <th>2</th>\n",
       "      <td>2025-07-15</td>\n",
       "      <td>2</td>\n",
       "      <td>13.4</td>\n",
       "      <td>91</td>\n",
       "      <td>1019.3</td>\n",
       "      <td>80</td>\n",
       "      <td>11</td>\n",
       "      <td>AEROPARQUE AERO</td>\n",
       "    </tr>\n",
       "    <tr>\n",
       "      <th>3</th>\n",
       "      <td>2025-07-15</td>\n",
       "      <td>3</td>\n",
       "      <td>13.4</td>\n",
       "      <td>94</td>\n",
       "      <td>1018.7</td>\n",
       "      <td>80</td>\n",
       "      <td>13</td>\n",
       "      <td>AEROPARQUE AERO</td>\n",
       "    </tr>\n",
       "    <tr>\n",
       "      <th>4</th>\n",
       "      <td>2025-07-15</td>\n",
       "      <td>4</td>\n",
       "      <td>13.7</td>\n",
       "      <td>91</td>\n",
       "      <td>1018.2</td>\n",
       "      <td>90</td>\n",
       "      <td>9</td>\n",
       "      <td>AEROPARQUE AERO</td>\n",
       "    </tr>\n",
       "  </tbody>\n",
       "</table>\n",
       "</div>"
      ],
      "text/plain": [
       "  FECHA (ddmmyyyy)  HORA  TEMP (°C)  HUM (%)  PNM (hPa)  DD (g)  FF (km/h)  \\\n",
       "0       2025-07-15     0       13.7       88     1020.2      80         13   \n",
       "1       2025-07-15     1       13.6       91     1019.6      80         11   \n",
       "2       2025-07-15     2       13.4       91     1019.3      80         11   \n",
       "3       2025-07-15     3       13.4       94     1018.7      80         13   \n",
       "4       2025-07-15     4       13.7       91     1018.2      90          9   \n",
       "\n",
       "          ESTACION  \n",
       "0  AEROPARQUE AERO  \n",
       "1  AEROPARQUE AERO  \n",
       "2  AEROPARQUE AERO  \n",
       "3  AEROPARQUE AERO  \n",
       "4  AEROPARQUE AERO  "
      ]
     },
     "execution_count": 42,
     "metadata": {},
     "output_type": "execute_result"
    }
   ],
   "source": [
    "df_hor.head()  # Mostramos nuevamente las primeras filas para ver los cambios realizados"
   ]
  },
  {
   "cell_type": "code",
   "execution_count": 43,
   "id": "5680e65c",
   "metadata": {},
   "outputs": [
    {
     "data": {
      "text/plain": [
       "FECHA (ddmmyyyy)     1.88\n",
       "HORA                 1.88\n",
       "TEMP (°C)            1.88\n",
       "HUM (%)              1.88\n",
       "PNM (hPa)           11.86\n",
       "DD (g)               1.93\n",
       "FF (km/h)            1.93\n",
       "ESTACION             0.00\n",
       "dtype: float64"
      ]
     },
     "execution_count": 43,
     "metadata": {},
     "output_type": "execute_result"
    }
   ],
   "source": [
    "df_hor.isna().mean().round(4)*100"
   ]
  },
  {
   "cell_type": "code",
   "execution_count": 44,
   "id": "b51e64c8",
   "metadata": {},
   "outputs": [
    {
     "data": {
      "text/plain": [
       "RangeIndex(start=0, stop=2074, step=1)"
      ]
     },
     "execution_count": 44,
     "metadata": {},
     "output_type": "execute_result"
    }
   ],
   "source": [
    "df_hor.isna().index"
   ]
  },
  {
   "cell_type": "code",
   "execution_count": 45,
   "id": "fa831f25",
   "metadata": {},
   "outputs": [
    {
     "data": {
      "text/plain": [
       "(1827, 8)"
      ]
     },
     "execution_count": 45,
     "metadata": {},
     "output_type": "execute_result"
    }
   ],
   "source": [
    "df_hor.dropna(subset=[\"TEMP (°C)\", \"HUM (%)\", \"PNM (hPa)\", \"DD (g)\", \"FF (km/h)\"], inplace=True)  # Eliminamos filas con valores nulos en las columnas de interés\n",
    "df_hor.reset_index(drop=True, inplace=True)  # Reseteamos el índice del DataFrame\n",
    "df_hor.shape  # Verificamos la forma del DataFrame después de eliminar filas"
   ]
  },
  {
   "cell_type": "code",
   "execution_count": 46,
   "id": "dd16cc30",
   "metadata": {},
   "outputs": [
    {
     "data": {
      "image/png": "[encoded data removed]",
      "text/plain": [
       "<Figure size 1500x800 with 3 Axes>"
      ]
     },
     "metadata": {},
     "output_type": "display_data"
    }
   ],
   "source": [
    "msno.bar(df_hor, fontsize=15, figsize=(15,8))\n",
    "plt.title(\"Cantidad de datos no nulos por variable\", fontsize=20)\n",
    "plt.show()"
   ]
  },
  {
   "cell_type": "code",
   "execution_count": 47,
   "id": "10b9f6c8",
   "metadata": {},
   "outputs": [
    {
     "data": {
      "text/plain": [
       "<Axes: >"
      ]
     },
     "execution_count": 47,
     "metadata": {},
     "output_type": "execute_result"
    },
    {
     "data": {
      "image/png": "[encoded data removed]",
      "text/plain": [
       "<Figure size 2000x800 with 2 Axes>"
      ]
     },
     "metadata": {},
     "output_type": "display_data"
    }
   ],
   "source": [
    "# Matriz de valores faltantes\n",
    "msno.matrix(df_hor, figsize=(20,8))"
   ]
  },
  {
   "cell_type": "code",
   "execution_count": 48,
   "id": "123e1ff1",
   "metadata": {},
   "outputs": [
    {
     "data": {
      "text/html": [
       "<div>\n",
       "<style scoped>\n",
       "    .dataframe tbody tr th:only-of-type {\n",
       "        vertical-align: middle;\n",
       "    }\n",
       "\n",
       "    .dataframe tbody tr th {\n",
       "        vertical-align: top;\n",
       "    }\n",
       "\n",
       "    .dataframe thead th {\n",
       "        text-align: right;\n",
       "    }\n",
       "</style>\n",
       "<table border=\"1\" class=\"dataframe\">\n",
       "  <thead>\n",
       "    <tr style=\"text-align: right;\">\n",
       "      <th></th>\n",
       "      <th>min</th>\n",
       "      <th>max</th>\n",
       "      <th>mean</th>\n",
       "    </tr>\n",
       "    <tr>\n",
       "      <th>ESTACION</th>\n",
       "      <th></th>\n",
       "      <th></th>\n",
       "      <th></th>\n",
       "    </tr>\n",
       "  </thead>\n",
       "  <tbody>\n",
       "    <tr>\n",
       "      <th>AEROPARQUE AERO</th>\n",
       "      <td>13.4</td>\n",
       "      <td>17.2</td>\n",
       "      <td>15.2375</td>\n",
       "    </tr>\n",
       "    <tr>\n",
       "      <th>AZUL AERO</th>\n",
       "      <td>8.8</td>\n",
       "      <td>13.6</td>\n",
       "      <td>10.9875</td>\n",
       "    </tr>\n",
       "    <tr>\n",
       "      <th>BAHIA BLANCA AERO</th>\n",
       "      <td>9.6</td>\n",
       "      <td>16.7</td>\n",
       "      <td>12.625</td>\n",
       "    </tr>\n",
       "    <tr>\n",
       "      <th>BASE BELGRANO II</th>\n",
       "      <td>-18.3</td>\n",
       "      <td>-16.8</td>\n",
       "      <td>-17.55</td>\n",
       "    </tr>\n",
       "    <tr>\n",
       "      <th>BASE CARLINI (EX</th>\n",
       "      <td>-6.3</td>\n",
       "      <td>-2.3</td>\n",
       "      <td>-4.7625</td>\n",
       "    </tr>\n",
       "    <tr>\n",
       "      <th>...</th>\n",
       "      <td>...</td>\n",
       "      <td>...</td>\n",
       "      <td>...</td>\n",
       "    </tr>\n",
       "    <tr>\n",
       "      <th>VIEDMA AERO</th>\n",
       "      <td>6.2</td>\n",
       "      <td>15.5</td>\n",
       "      <td>10.7</td>\n",
       "    </tr>\n",
       "    <tr>\n",
       "      <th>VILLA DE MARIA DE</th>\n",
       "      <td>9.5</td>\n",
       "      <td>28.4</td>\n",
       "      <td>18.994444</td>\n",
       "    </tr>\n",
       "    <tr>\n",
       "      <th>VILLA DOLORES AER</th>\n",
       "      <td>11.6</td>\n",
       "      <td>24.8</td>\n",
       "      <td>17.879167</td>\n",
       "    </tr>\n",
       "    <tr>\n",
       "      <th>VILLA GESELL AERO</th>\n",
       "      <td>10.5</td>\n",
       "      <td>12.2</td>\n",
       "      <td>11.328571</td>\n",
       "    </tr>\n",
       "    <tr>\n",
       "      <th>VILLA REYNOLDS AE</th>\n",
       "      <td>7.4</td>\n",
       "      <td>21.8</td>\n",
       "      <td>13.2625</td>\n",
       "    </tr>\n",
       "  </tbody>\n",
       "</table>\n",
       "<p>104 rows × 3 columns</p>\n",
       "</div>"
      ],
      "text/plain": [
       "                    min   max       mean\n",
       "ESTACION                                \n",
       "AEROPARQUE AERO    13.4  17.2    15.2375\n",
       "AZUL AERO           8.8  13.6    10.9875\n",
       "BAHIA BLANCA AERO   9.6  16.7     12.625\n",
       "BASE BELGRANO II  -18.3 -16.8     -17.55\n",
       "BASE CARLINI (EX   -6.3  -2.3    -4.7625\n",
       "...                 ...   ...        ...\n",
       "VIEDMA AERO         6.2  15.5       10.7\n",
       "VILLA DE MARIA DE   9.5  28.4  18.994444\n",
       "VILLA DOLORES AER  11.6  24.8  17.879167\n",
       "VILLA GESELL AERO  10.5  12.2  11.328571\n",
       "VILLA REYNOLDS AE   7.4  21.8    13.2625\n",
       "\n",
       "[104 rows x 3 columns]"
      ]
     },
     "execution_count": 48,
     "metadata": {},
     "output_type": "execute_result"
    }
   ],
   "source": [
    "df_hor.groupby(\"ESTACION\")[\"TEMP (°C)\"].agg([\"min\", \"max\", \"mean\"])  # Agrupamos por estación y calculamos las estadísticas de temperatura"
   ]
  },
  {
   "cell_type": "code",
   "execution_count": 49,
   "id": "83e39342",
   "metadata": {},
   "outputs": [
    {
     "data": {
      "text/html": [
       "<div>\n",
       "<style scoped>\n",
       "    .dataframe tbody tr th:only-of-type {\n",
       "        vertical-align: middle;\n",
       "    }\n",
       "\n",
       "    .dataframe tbody tr th {\n",
       "        vertical-align: top;\n",
       "    }\n",
       "\n",
       "    .dataframe thead th {\n",
       "        text-align: right;\n",
       "    }\n",
       "</style>\n",
       "<table border=\"1\" class=\"dataframe\">\n",
       "  <thead>\n",
       "    <tr style=\"text-align: right;\">\n",
       "      <th></th>\n",
       "      <th>ESTACION</th>\n",
       "      <th>PROVINCIA</th>\n",
       "      <th>LAT_GRAD</th>\n",
       "      <th>LAT_MIN</th>\n",
       "      <th>LON_GRAD</th>\n",
       "      <th>LON_MIN</th>\n",
       "      <th>ALTURA</th>\n",
       "      <th>NUM</th>\n",
       "      <th>NroOACI</th>\n",
       "    </tr>\n",
       "  </thead>\n",
       "  <tbody>\n",
       "    <tr>\n",
       "      <th>0</th>\n",
       "      <td>BASE BELGRANO II</td>\n",
       "      <td>ANTARTIDA</td>\n",
       "      <td>-77.0</td>\n",
       "      <td>52.0</td>\n",
       "      <td>-34.0</td>\n",
       "      <td>37.0</td>\n",
       "      <td>256.0</td>\n",
       "      <td>89034.0</td>\n",
       "      <td>SAYB</td>\n",
       "    </tr>\n",
       "    <tr>\n",
       "      <th>1</th>\n",
       "      <td>BASE CARLINI (EX JUBANY)</td>\n",
       "      <td>ANTARTIDA</td>\n",
       "      <td>-62.0</td>\n",
       "      <td>14.0</td>\n",
       "      <td>-58.0</td>\n",
       "      <td>39.0</td>\n",
       "      <td>11.0</td>\n",
       "      <td>89053.0</td>\n",
       "      <td>SAYJ</td>\n",
       "    </tr>\n",
       "    <tr>\n",
       "      <th>2</th>\n",
       "      <td>BASE ESPERANZA</td>\n",
       "      <td>ANTARTIDA</td>\n",
       "      <td>-63.0</td>\n",
       "      <td>23.0</td>\n",
       "      <td>-56.0</td>\n",
       "      <td>59.0</td>\n",
       "      <td>24.0</td>\n",
       "      <td>88963.0</td>\n",
       "      <td>SAYE</td>\n",
       "    </tr>\n",
       "    <tr>\n",
       "      <th>3</th>\n",
       "      <td>BASE MARAMBIO</td>\n",
       "      <td>ANTARTIDA</td>\n",
       "      <td>-64.0</td>\n",
       "      <td>14.0</td>\n",
       "      <td>-56.0</td>\n",
       "      <td>37.0</td>\n",
       "      <td>198.0</td>\n",
       "      <td>89055.0</td>\n",
       "      <td>SAWB</td>\n",
       "    </tr>\n",
       "    <tr>\n",
       "      <th>4</th>\n",
       "      <td>BASE ORCADAS</td>\n",
       "      <td>ANTARTIDA</td>\n",
       "      <td>-60.0</td>\n",
       "      <td>44.0</td>\n",
       "      <td>-44.0</td>\n",
       "      <td>44.0</td>\n",
       "      <td>12.0</td>\n",
       "      <td>88968.0</td>\n",
       "      <td>SAYO</td>\n",
       "    </tr>\n",
       "    <tr>\n",
       "      <th>...</th>\n",
       "      <td>...</td>\n",
       "      <td>...</td>\n",
       "      <td>...</td>\n",
       "      <td>...</td>\n",
       "      <td>...</td>\n",
       "      <td>...</td>\n",
       "      <td>...</td>\n",
       "      <td>...</td>\n",
       "      <td>...</td>\n",
       "    </tr>\n",
       "    <tr>\n",
       "      <th>115</th>\n",
       "      <td>SANTIAGO DEL ESTERO AERO</td>\n",
       "      <td>SANTIAGO DEL ES</td>\n",
       "      <td>-27.0</td>\n",
       "      <td>45.0</td>\n",
       "      <td>-64.0</td>\n",
       "      <td>17.0</td>\n",
       "      <td>199.0</td>\n",
       "      <td>87129.0</td>\n",
       "      <td>SANE</td>\n",
       "    </tr>\n",
       "    <tr>\n",
       "      <th>116</th>\n",
       "      <td>TERMAS DE RIO HONDO AERO</td>\n",
       "      <td>SANTIAGO DEL ES</td>\n",
       "      <td>-27.0</td>\n",
       "      <td>30.0</td>\n",
       "      <td>-64.0</td>\n",
       "      <td>56.0</td>\n",
       "      <td>280.0</td>\n",
       "      <td>87127.0</td>\n",
       "      <td>SANR</td>\n",
       "    </tr>\n",
       "    <tr>\n",
       "      <th>117</th>\n",
       "      <td>RIO GRANDE B.A.</td>\n",
       "      <td>TIERRA DEL FUEG</td>\n",
       "      <td>-53.0</td>\n",
       "      <td>46.0</td>\n",
       "      <td>-67.0</td>\n",
       "      <td>45.0</td>\n",
       "      <td>22.0</td>\n",
       "      <td>87934.0</td>\n",
       "      <td>SAWE</td>\n",
       "    </tr>\n",
       "    <tr>\n",
       "      <th>118</th>\n",
       "      <td>USHUAIA AERO</td>\n",
       "      <td>TIERRA DEL FUEG</td>\n",
       "      <td>-54.0</td>\n",
       "      <td>50.0</td>\n",
       "      <td>-68.0</td>\n",
       "      <td>18.0</td>\n",
       "      <td>57.0</td>\n",
       "      <td>87938.0</td>\n",
       "      <td>SAWH</td>\n",
       "    </tr>\n",
       "    <tr>\n",
       "      <th>119</th>\n",
       "      <td>TUCUMAN AERO</td>\n",
       "      <td>TUCUMAN</td>\n",
       "      <td>-26.0</td>\n",
       "      <td>50.0</td>\n",
       "      <td>-65.0</td>\n",
       "      <td>6.0</td>\n",
       "      <td>450.0</td>\n",
       "      <td>87121.0</td>\n",
       "      <td>SANT</td>\n",
       "    </tr>\n",
       "  </tbody>\n",
       "</table>\n",
       "<p>120 rows × 9 columns</p>\n",
       "</div>"
      ],
      "text/plain": [
       "                     ESTACION        PROVINCIA  LAT_GRAD  LAT_MIN  LON_GRAD  \\\n",
       "0            BASE BELGRANO II        ANTARTIDA     -77.0     52.0     -34.0   \n",
       "1    BASE CARLINI (EX JUBANY)        ANTARTIDA     -62.0     14.0     -58.0   \n",
       "2              BASE ESPERANZA        ANTARTIDA     -63.0     23.0     -56.0   \n",
       "3               BASE MARAMBIO        ANTARTIDA     -64.0     14.0     -56.0   \n",
       "4                BASE ORCADAS        ANTARTIDA     -60.0     44.0     -44.0   \n",
       "..                        ...              ...       ...      ...       ...   \n",
       "115  SANTIAGO DEL ESTERO AERO  SANTIAGO DEL ES     -27.0     45.0     -64.0   \n",
       "116  TERMAS DE RIO HONDO AERO  SANTIAGO DEL ES     -27.0     30.0     -64.0   \n",
       "117           RIO GRANDE B.A.  TIERRA DEL FUEG     -53.0     46.0     -67.0   \n",
       "118              USHUAIA AERO  TIERRA DEL FUEG     -54.0     50.0     -68.0   \n",
       "119              TUCUMAN AERO          TUCUMAN     -26.0     50.0     -65.0   \n",
       "\n",
       "     LON_MIN  ALTURA      NUM NroOACI  \n",
       "0       37.0   256.0  89034.0    SAYB  \n",
       "1       39.0    11.0  89053.0    SAYJ  \n",
       "2       59.0    24.0  88963.0    SAYE  \n",
       "3       37.0   198.0  89055.0    SAWB  \n",
       "4       44.0    12.0  88968.0    SAYO  \n",
       "..       ...     ...      ...     ...  \n",
       "115     17.0   199.0  87129.0    SANE  \n",
       "116     56.0   280.0  87127.0    SANR  \n",
       "117     45.0    22.0  87934.0    SAWE  \n",
       "118     18.0    57.0  87938.0    SAWH  \n",
       "119      6.0   450.0  87121.0    SANT  \n",
       "\n",
       "[120 rows x 9 columns]"
      ]
     },
     "execution_count": 49,
     "metadata": {},
     "output_type": "execute_result"
    }
   ],
   "source": [
    "# Cargamos el archivo de datos de estaciones\n",
    "df_est = pd.read_fwf(path+\"estaciones_smn.txt\", encoding='latin1', sep='\\t', skiprows=2, names=[\"ESTACION\", \"PROVINCIA\", \"LAT_GRAD\", \"LAT_MIN\", \"LON_GRAD\", \"LON_MIN\", \"ALTURA\", \"NUM\", \"NroOACI\"])\n",
    "df_est"
   ]
  },
  {
   "cell_type": "code",
   "execution_count": 50,
   "id": "70ca70cb",
   "metadata": {},
   "outputs": [],
   "source": [
    "# Generamos las coordenadas de latitud y longitud a partir de los grados y minutos. Debemos contemplar  el signo de modo de obtener la conversión correcta.\n",
    "df_est['LAT'] = (df_est['LAT_GRAD'] - df_est['LAT_MIN'] / 60)\n",
    "df_est['LON'] = (df_est['LON_GRAD'] - df_est['LON_MIN'] / 60)"
   ]
  },
  {
   "cell_type": "code",
   "execution_count": 51,
   "id": "21e33956",
   "metadata": {},
   "outputs": [
    {
     "data": {
      "text/plain": [
       "ESTACION     0.00\n",
       "PROVINCIA    1.67\n",
       "LAT_GRAD     1.67\n",
       "LAT_MIN      1.67\n",
       "LON_GRAD     1.67\n",
       "LON_MIN      1.67\n",
       "ALTURA       1.67\n",
       "NUM          1.67\n",
       "NroOACI      2.50\n",
       "LAT          1.67\n",
       "LON          1.67\n",
       "dtype: float64"
      ]
     },
     "execution_count": 51,
     "metadata": {},
     "output_type": "execute_result"
    }
   ],
   "source": [
    "df_est.isna().mean().round(4)*100"
   ]
  },
  {
   "cell_type": "code",
   "execution_count": 52,
   "id": "1af613e7",
   "metadata": {},
   "outputs": [
    {
     "data": {
      "text/plain": [
       "RangeIndex(start=0, stop=120, step=1)"
      ]
     },
     "execution_count": 52,
     "metadata": {},
     "output_type": "execute_result"
    }
   ],
   "source": [
    "df_est.isna().index"
   ]
  },
  {
   "cell_type": "code",
   "execution_count": 53,
   "id": "821996e1",
   "metadata": {},
   "outputs": [
    {
     "data": {
      "text/html": [
       "<div>\n",
       "<style scoped>\n",
       "    .dataframe tbody tr th:only-of-type {\n",
       "        vertical-align: middle;\n",
       "    }\n",
       "\n",
       "    .dataframe tbody tr th {\n",
       "        vertical-align: top;\n",
       "    }\n",
       "\n",
       "    .dataframe thead th {\n",
       "        text-align: right;\n",
       "    }\n",
       "</style>\n",
       "<table border=\"1\" class=\"dataframe\">\n",
       "  <thead>\n",
       "    <tr style=\"text-align: right;\">\n",
       "      <th></th>\n",
       "      <th>FECHA (ddmmyyyy)</th>\n",
       "      <th>HORA</th>\n",
       "      <th>TEMP (°C)</th>\n",
       "      <th>HUM (%)</th>\n",
       "      <th>PNM (hPa)</th>\n",
       "      <th>DD (g)</th>\n",
       "      <th>FF (km/h)</th>\n",
       "      <th>ESTACION</th>\n",
       "      <th>PROVINCIA</th>\n",
       "      <th>LAT_GRAD</th>\n",
       "      <th>LAT_MIN</th>\n",
       "      <th>LON_GRAD</th>\n",
       "      <th>LON_MIN</th>\n",
       "      <th>ALTURA</th>\n",
       "      <th>NUM</th>\n",
       "      <th>NroOACI</th>\n",
       "      <th>LAT</th>\n",
       "      <th>LON</th>\n",
       "    </tr>\n",
       "  </thead>\n",
       "  <tbody>\n",
       "    <tr>\n",
       "      <th>0</th>\n",
       "      <td>2025-07-15</td>\n",
       "      <td>0</td>\n",
       "      <td>13.7</td>\n",
       "      <td>88</td>\n",
       "      <td>1020.2</td>\n",
       "      <td>80</td>\n",
       "      <td>13</td>\n",
       "      <td>AEROPARQUE AERO</td>\n",
       "      <td>CAPITAL FEDERAL</td>\n",
       "      <td>-34.0</td>\n",
       "      <td>33.0</td>\n",
       "      <td>-58.0</td>\n",
       "      <td>25.0</td>\n",
       "      <td>6.0</td>\n",
       "      <td>87582.0</td>\n",
       "      <td>SABE</td>\n",
       "      <td>-34.550000</td>\n",
       "      <td>-58.416667</td>\n",
       "    </tr>\n",
       "    <tr>\n",
       "      <th>1</th>\n",
       "      <td>2025-07-15</td>\n",
       "      <td>1</td>\n",
       "      <td>13.6</td>\n",
       "      <td>91</td>\n",
       "      <td>1019.6</td>\n",
       "      <td>80</td>\n",
       "      <td>11</td>\n",
       "      <td>AEROPARQUE AERO</td>\n",
       "      <td>CAPITAL FEDERAL</td>\n",
       "      <td>-34.0</td>\n",
       "      <td>33.0</td>\n",
       "      <td>-58.0</td>\n",
       "      <td>25.0</td>\n",
       "      <td>6.0</td>\n",
       "      <td>87582.0</td>\n",
       "      <td>SABE</td>\n",
       "      <td>-34.550000</td>\n",
       "      <td>-58.416667</td>\n",
       "    </tr>\n",
       "    <tr>\n",
       "      <th>2</th>\n",
       "      <td>2025-07-15</td>\n",
       "      <td>2</td>\n",
       "      <td>13.4</td>\n",
       "      <td>91</td>\n",
       "      <td>1019.3</td>\n",
       "      <td>80</td>\n",
       "      <td>11</td>\n",
       "      <td>AEROPARQUE AERO</td>\n",
       "      <td>CAPITAL FEDERAL</td>\n",
       "      <td>-34.0</td>\n",
       "      <td>33.0</td>\n",
       "      <td>-58.0</td>\n",
       "      <td>25.0</td>\n",
       "      <td>6.0</td>\n",
       "      <td>87582.0</td>\n",
       "      <td>SABE</td>\n",
       "      <td>-34.550000</td>\n",
       "      <td>-58.416667</td>\n",
       "    </tr>\n",
       "    <tr>\n",
       "      <th>3</th>\n",
       "      <td>2025-07-15</td>\n",
       "      <td>3</td>\n",
       "      <td>13.4</td>\n",
       "      <td>94</td>\n",
       "      <td>1018.7</td>\n",
       "      <td>80</td>\n",
       "      <td>13</td>\n",
       "      <td>AEROPARQUE AERO</td>\n",
       "      <td>CAPITAL FEDERAL</td>\n",
       "      <td>-34.0</td>\n",
       "      <td>33.0</td>\n",
       "      <td>-58.0</td>\n",
       "      <td>25.0</td>\n",
       "      <td>6.0</td>\n",
       "      <td>87582.0</td>\n",
       "      <td>SABE</td>\n",
       "      <td>-34.550000</td>\n",
       "      <td>-58.416667</td>\n",
       "    </tr>\n",
       "    <tr>\n",
       "      <th>4</th>\n",
       "      <td>2025-07-15</td>\n",
       "      <td>4</td>\n",
       "      <td>13.7</td>\n",
       "      <td>91</td>\n",
       "      <td>1018.2</td>\n",
       "      <td>90</td>\n",
       "      <td>9</td>\n",
       "      <td>AEROPARQUE AERO</td>\n",
       "      <td>CAPITAL FEDERAL</td>\n",
       "      <td>-34.0</td>\n",
       "      <td>33.0</td>\n",
       "      <td>-58.0</td>\n",
       "      <td>25.0</td>\n",
       "      <td>6.0</td>\n",
       "      <td>87582.0</td>\n",
       "      <td>SABE</td>\n",
       "      <td>-34.550000</td>\n",
       "      <td>-58.416667</td>\n",
       "    </tr>\n",
       "    <tr>\n",
       "      <th>...</th>\n",
       "      <td>...</td>\n",
       "      <td>...</td>\n",
       "      <td>...</td>\n",
       "      <td>...</td>\n",
       "      <td>...</td>\n",
       "      <td>...</td>\n",
       "      <td>...</td>\n",
       "      <td>...</td>\n",
       "      <td>...</td>\n",
       "      <td>...</td>\n",
       "      <td>...</td>\n",
       "      <td>...</td>\n",
       "      <td>...</td>\n",
       "      <td>...</td>\n",
       "      <td>...</td>\n",
       "      <td>...</td>\n",
       "      <td>...</td>\n",
       "      <td>...</td>\n",
       "    </tr>\n",
       "    <tr>\n",
       "      <th>1865</th>\n",
       "      <td>2025-07-15</td>\n",
       "      <td>20</td>\n",
       "      <td>14.8</td>\n",
       "      <td>83</td>\n",
       "      <td>1015.8</td>\n",
       "      <td>180</td>\n",
       "      <td>19</td>\n",
       "      <td>VILLA REYNOLDS AE</td>\n",
       "      <td>NaN</td>\n",
       "      <td>NaN</td>\n",
       "      <td>NaN</td>\n",
       "      <td>NaN</td>\n",
       "      <td>NaN</td>\n",
       "      <td>NaN</td>\n",
       "      <td>NaN</td>\n",
       "      <td>NaN</td>\n",
       "      <td>NaN</td>\n",
       "      <td>NaN</td>\n",
       "    </tr>\n",
       "    <tr>\n",
       "      <th>1866</th>\n",
       "      <td>2025-07-15</td>\n",
       "      <td>21</td>\n",
       "      <td>14.0</td>\n",
       "      <td>89</td>\n",
       "      <td>1016.4</td>\n",
       "      <td>180</td>\n",
       "      <td>17</td>\n",
       "      <td>VILLA REYNOLDS AE</td>\n",
       "      <td>NaN</td>\n",
       "      <td>NaN</td>\n",
       "      <td>NaN</td>\n",
       "      <td>NaN</td>\n",
       "      <td>NaN</td>\n",
       "      <td>NaN</td>\n",
       "      <td>NaN</td>\n",
       "      <td>NaN</td>\n",
       "      <td>NaN</td>\n",
       "      <td>NaN</td>\n",
       "    </tr>\n",
       "    <tr>\n",
       "      <th>1867</th>\n",
       "      <td>2025-07-15</td>\n",
       "      <td>22</td>\n",
       "      <td>11.6</td>\n",
       "      <td>96</td>\n",
       "      <td>1017.9</td>\n",
       "      <td>140</td>\n",
       "      <td>41</td>\n",
       "      <td>VILLA REYNOLDS AE</td>\n",
       "      <td>NaN</td>\n",
       "      <td>NaN</td>\n",
       "      <td>NaN</td>\n",
       "      <td>NaN</td>\n",
       "      <td>NaN</td>\n",
       "      <td>NaN</td>\n",
       "      <td>NaN</td>\n",
       "      <td>NaN</td>\n",
       "      <td>NaN</td>\n",
       "      <td>NaN</td>\n",
       "    </tr>\n",
       "    <tr>\n",
       "      <th>1868</th>\n",
       "      <td>2025-07-15</td>\n",
       "      <td>23</td>\n",
       "      <td>7.4</td>\n",
       "      <td>88</td>\n",
       "      <td>1021.3</td>\n",
       "      <td>180</td>\n",
       "      <td>19</td>\n",
       "      <td>VILLA REYNOLDS AE</td>\n",
       "      <td>NaN</td>\n",
       "      <td>NaN</td>\n",
       "      <td>NaN</td>\n",
       "      <td>NaN</td>\n",
       "      <td>NaN</td>\n",
       "      <td>NaN</td>\n",
       "      <td>NaN</td>\n",
       "      <td>NaN</td>\n",
       "      <td>NaN</td>\n",
       "      <td>NaN</td>\n",
       "    </tr>\n",
       "    <tr>\n",
       "      <th>1869</th>\n",
       "      <td>NaT</td>\n",
       "      <td>&lt;NA&gt;</td>\n",
       "      <td>&lt;NA&gt;</td>\n",
       "      <td>&lt;NA&gt;</td>\n",
       "      <td>NaN</td>\n",
       "      <td>&lt;NA&gt;</td>\n",
       "      <td>&lt;NA&gt;</td>\n",
       "      <td>VILLA REYNOLDS AERO</td>\n",
       "      <td>SAN LUIS</td>\n",
       "      <td>-33.0</td>\n",
       "      <td>43.0</td>\n",
       "      <td>-65.0</td>\n",
       "      <td>22.0</td>\n",
       "      <td>486.0</td>\n",
       "      <td>87448.0</td>\n",
       "      <td>SAOR</td>\n",
       "      <td>-33.716667</td>\n",
       "      <td>-65.366667</td>\n",
       "    </tr>\n",
       "  </tbody>\n",
       "</table>\n",
       "<p>1870 rows × 18 columns</p>\n",
       "</div>"
      ],
      "text/plain": [
       "     FECHA (ddmmyyyy)  HORA  TEMP (°C)  HUM (%)  PNM (hPa)  DD (g)  FF (km/h)  \\\n",
       "0          2025-07-15     0       13.7       88     1020.2      80         13   \n",
       "1          2025-07-15     1       13.6       91     1019.6      80         11   \n",
       "2          2025-07-15     2       13.4       91     1019.3      80         11   \n",
       "3          2025-07-15     3       13.4       94     1018.7      80         13   \n",
       "4          2025-07-15     4       13.7       91     1018.2      90          9   \n",
       "...               ...   ...        ...      ...        ...     ...        ...   \n",
       "1865       2025-07-15    20       14.8       83     1015.8     180         19   \n",
       "1866       2025-07-15    21       14.0       89     1016.4     180         17   \n",
       "1867       2025-07-15    22       11.6       96     1017.9     140         41   \n",
       "1868       2025-07-15    23        7.4       88     1021.3     180         19   \n",
       "1869              NaT  <NA>       <NA>     <NA>        NaN    <NA>       <NA>   \n",
       "\n",
       "                 ESTACION        PROVINCIA  LAT_GRAD  LAT_MIN  LON_GRAD  \\\n",
       "0         AEROPARQUE AERO  CAPITAL FEDERAL     -34.0     33.0     -58.0   \n",
       "1         AEROPARQUE AERO  CAPITAL FEDERAL     -34.0     33.0     -58.0   \n",
       "2         AEROPARQUE AERO  CAPITAL FEDERAL     -34.0     33.0     -58.0   \n",
       "3         AEROPARQUE AERO  CAPITAL FEDERAL     -34.0     33.0     -58.0   \n",
       "4         AEROPARQUE AERO  CAPITAL FEDERAL     -34.0     33.0     -58.0   \n",
       "...                   ...              ...       ...      ...       ...   \n",
       "1865    VILLA REYNOLDS AE              NaN       NaN      NaN       NaN   \n",
       "1866    VILLA REYNOLDS AE              NaN       NaN      NaN       NaN   \n",
       "1867    VILLA REYNOLDS AE              NaN       NaN      NaN       NaN   \n",
       "1868    VILLA REYNOLDS AE              NaN       NaN      NaN       NaN   \n",
       "1869  VILLA REYNOLDS AERO         SAN LUIS     -33.0     43.0     -65.0   \n",
       "\n",
       "      LON_MIN  ALTURA      NUM NroOACI        LAT        LON  \n",
       "0        25.0     6.0  87582.0    SABE -34.550000 -58.416667  \n",
       "1        25.0     6.0  87582.0    SABE -34.550000 -58.416667  \n",
       "2        25.0     6.0  87582.0    SABE -34.550000 -58.416667  \n",
       "3        25.0     6.0  87582.0    SABE -34.550000 -58.416667  \n",
       "4        25.0     6.0  87582.0    SABE -34.550000 -58.416667  \n",
       "...       ...     ...      ...     ...        ...        ...  \n",
       "1865      NaN     NaN      NaN     NaN        NaN        NaN  \n",
       "1866      NaN     NaN      NaN     NaN        NaN        NaN  \n",
       "1867      NaN     NaN      NaN     NaN        NaN        NaN  \n",
       "1868      NaN     NaN      NaN     NaN        NaN        NaN  \n",
       "1869     22.0   486.0  87448.0    SAOR -33.716667 -65.366667  \n",
       "\n",
       "[1870 rows x 18 columns]"
      ]
     },
     "execution_count": 53,
     "metadata": {},
     "output_type": "execute_result"
    }
   ],
   "source": [
    "# Unimos los DataFrames de datos horarios y estaciones por la columna 'ESTACION'\n",
    "# Utilizamos un merge externo para conservar todas las estaciones, incluso si no tienen datos horarios\n",
    "# --- esto último lo verificaremos más adelante ---\n",
    "df_combinado = pd.merge(df_hor, df_est, on='ESTACION', how='outer')\n",
    "df_combinado"
   ]
  },
  {
   "cell_type": "code",
   "execution_count": 54,
   "id": "bad213f9",
   "metadata": {},
   "outputs": [
    {
     "data": {
      "text/html": [
       "<div>\n",
       "<style scoped>\n",
       "    .dataframe tbody tr th:only-of-type {\n",
       "        vertical-align: middle;\n",
       "    }\n",
       "\n",
       "    .dataframe tbody tr th {\n",
       "        vertical-align: top;\n",
       "    }\n",
       "\n",
       "    .dataframe thead th {\n",
       "        text-align: right;\n",
       "    }\n",
       "</style>\n",
       "<table border=\"1\" class=\"dataframe\">\n",
       "  <thead>\n",
       "    <tr style=\"text-align: right;\">\n",
       "      <th></th>\n",
       "      <th>HORA</th>\n",
       "      <th>TEMP (°C)</th>\n",
       "      <th>HUM (%)</th>\n",
       "      <th>PNM (hPa)</th>\n",
       "      <th>DD (g)</th>\n",
       "      <th>FF (km/h)</th>\n",
       "      <th>PROVINCIA</th>\n",
       "      <th>ALTURA</th>\n",
       "      <th>LAT</th>\n",
       "      <th>LON</th>\n",
       "    </tr>\n",
       "  </thead>\n",
       "  <tbody>\n",
       "    <tr>\n",
       "      <th>0</th>\n",
       "      <td>0</td>\n",
       "      <td>13.7</td>\n",
       "      <td>88</td>\n",
       "      <td>1020.2</td>\n",
       "      <td>80</td>\n",
       "      <td>13</td>\n",
       "      <td>CAPITAL FEDERAL</td>\n",
       "      <td>6.0</td>\n",
       "      <td>-34.550000</td>\n",
       "      <td>-58.416667</td>\n",
       "    </tr>\n",
       "    <tr>\n",
       "      <th>1</th>\n",
       "      <td>1</td>\n",
       "      <td>13.6</td>\n",
       "      <td>91</td>\n",
       "      <td>1019.6</td>\n",
       "      <td>80</td>\n",
       "      <td>11</td>\n",
       "      <td>CAPITAL FEDERAL</td>\n",
       "      <td>6.0</td>\n",
       "      <td>-34.550000</td>\n",
       "      <td>-58.416667</td>\n",
       "    </tr>\n",
       "    <tr>\n",
       "      <th>2</th>\n",
       "      <td>2</td>\n",
       "      <td>13.4</td>\n",
       "      <td>91</td>\n",
       "      <td>1019.3</td>\n",
       "      <td>80</td>\n",
       "      <td>11</td>\n",
       "      <td>CAPITAL FEDERAL</td>\n",
       "      <td>6.0</td>\n",
       "      <td>-34.550000</td>\n",
       "      <td>-58.416667</td>\n",
       "    </tr>\n",
       "    <tr>\n",
       "      <th>3</th>\n",
       "      <td>3</td>\n",
       "      <td>13.4</td>\n",
       "      <td>94</td>\n",
       "      <td>1018.7</td>\n",
       "      <td>80</td>\n",
       "      <td>13</td>\n",
       "      <td>CAPITAL FEDERAL</td>\n",
       "      <td>6.0</td>\n",
       "      <td>-34.550000</td>\n",
       "      <td>-58.416667</td>\n",
       "    </tr>\n",
       "    <tr>\n",
       "      <th>4</th>\n",
       "      <td>4</td>\n",
       "      <td>13.7</td>\n",
       "      <td>91</td>\n",
       "      <td>1018.2</td>\n",
       "      <td>90</td>\n",
       "      <td>9</td>\n",
       "      <td>CAPITAL FEDERAL</td>\n",
       "      <td>6.0</td>\n",
       "      <td>-34.550000</td>\n",
       "      <td>-58.416667</td>\n",
       "    </tr>\n",
       "    <tr>\n",
       "      <th>...</th>\n",
       "      <td>...</td>\n",
       "      <td>...</td>\n",
       "      <td>...</td>\n",
       "      <td>...</td>\n",
       "      <td>...</td>\n",
       "      <td>...</td>\n",
       "      <td>...</td>\n",
       "      <td>...</td>\n",
       "      <td>...</td>\n",
       "      <td>...</td>\n",
       "    </tr>\n",
       "    <tr>\n",
       "      <th>1865</th>\n",
       "      <td>20</td>\n",
       "      <td>14.8</td>\n",
       "      <td>83</td>\n",
       "      <td>1015.8</td>\n",
       "      <td>180</td>\n",
       "      <td>19</td>\n",
       "      <td>NaN</td>\n",
       "      <td>NaN</td>\n",
       "      <td>NaN</td>\n",
       "      <td>NaN</td>\n",
       "    </tr>\n",
       "    <tr>\n",
       "      <th>1866</th>\n",
       "      <td>21</td>\n",
       "      <td>14.0</td>\n",
       "      <td>89</td>\n",
       "      <td>1016.4</td>\n",
       "      <td>180</td>\n",
       "      <td>17</td>\n",
       "      <td>NaN</td>\n",
       "      <td>NaN</td>\n",
       "      <td>NaN</td>\n",
       "      <td>NaN</td>\n",
       "    </tr>\n",
       "    <tr>\n",
       "      <th>1867</th>\n",
       "      <td>22</td>\n",
       "      <td>11.6</td>\n",
       "      <td>96</td>\n",
       "      <td>1017.9</td>\n",
       "      <td>140</td>\n",
       "      <td>41</td>\n",
       "      <td>NaN</td>\n",
       "      <td>NaN</td>\n",
       "      <td>NaN</td>\n",
       "      <td>NaN</td>\n",
       "    </tr>\n",
       "    <tr>\n",
       "      <th>1868</th>\n",
       "      <td>23</td>\n",
       "      <td>7.4</td>\n",
       "      <td>88</td>\n",
       "      <td>1021.3</td>\n",
       "      <td>180</td>\n",
       "      <td>19</td>\n",
       "      <td>NaN</td>\n",
       "      <td>NaN</td>\n",
       "      <td>NaN</td>\n",
       "      <td>NaN</td>\n",
       "    </tr>\n",
       "    <tr>\n",
       "      <th>1869</th>\n",
       "      <td>&lt;NA&gt;</td>\n",
       "      <td>&lt;NA&gt;</td>\n",
       "      <td>&lt;NA&gt;</td>\n",
       "      <td>NaN</td>\n",
       "      <td>&lt;NA&gt;</td>\n",
       "      <td>&lt;NA&gt;</td>\n",
       "      <td>SAN LUIS</td>\n",
       "      <td>486.0</td>\n",
       "      <td>-33.716667</td>\n",
       "      <td>-65.366667</td>\n",
       "    </tr>\n",
       "  </tbody>\n",
       "</table>\n",
       "<p>1870 rows × 10 columns</p>\n",
       "</div>"
      ],
      "text/plain": [
       "      HORA  TEMP (°C)  HUM (%)  PNM (hPa)  DD (g)  FF (km/h)        PROVINCIA  \\\n",
       "0        0       13.7       88     1020.2      80         13  CAPITAL FEDERAL   \n",
       "1        1       13.6       91     1019.6      80         11  CAPITAL FEDERAL   \n",
       "2        2       13.4       91     1019.3      80         11  CAPITAL FEDERAL   \n",
       "3        3       13.4       94     1018.7      80         13  CAPITAL FEDERAL   \n",
       "4        4       13.7       91     1018.2      90          9  CAPITAL FEDERAL   \n",
       "...    ...        ...      ...        ...     ...        ...              ...   \n",
       "1865    20       14.8       83     1015.8     180         19              NaN   \n",
       "1866    21       14.0       89     1016.4     180         17              NaN   \n",
       "1867    22       11.6       96     1017.9     140         41              NaN   \n",
       "1868    23        7.4       88     1021.3     180         19              NaN   \n",
       "1869  <NA>       <NA>     <NA>        NaN    <NA>       <NA>         SAN LUIS   \n",
       "\n",
       "      ALTURA        LAT        LON  \n",
       "0        6.0 -34.550000 -58.416667  \n",
       "1        6.0 -34.550000 -58.416667  \n",
       "2        6.0 -34.550000 -58.416667  \n",
       "3        6.0 -34.550000 -58.416667  \n",
       "4        6.0 -34.550000 -58.416667  \n",
       "...      ...        ...        ...  \n",
       "1865     NaN        NaN        NaN  \n",
       "1866     NaN        NaN        NaN  \n",
       "1867     NaN        NaN        NaN  \n",
       "1868     NaN        NaN        NaN  \n",
       "1869   486.0 -33.716667 -65.366667  \n",
       "\n",
       "[1870 rows x 10 columns]"
      ]
     },
     "execution_count": 54,
     "metadata": {},
     "output_type": "execute_result"
    }
   ],
   "source": [
    "# Obtenemos el dataframe que utilizaríamos para el modelado, eliminando las columnas que no aportan información o que presentan correlación muy alta con otras\n",
    "df_ok = df_combinado.drop(columns=[\"FECHA (ddmmyyyy)\", \"ESTACION\", \"LAT_GRAD\", \"LAT_MIN\", \"LON_GRAD\", \"LON_MIN\", \"NUM\", \"NroOACI\"])\n",
    "df_ok"
   ]
  },
  {
   "cell_type": "code",
   "execution_count": 55,
   "id": "c848a4b2",
   "metadata": {},
   "outputs": [],
   "source": [
    "# Creamos features para la hora, para que se interpreten los ciclos diarios\n",
    "df_ok['HORA_sen'] = np.sin(2 * np.pi * df_ok['HORA']/24.0)\n",
    "df_ok['HORA_cos'] = np.cos(2 * np.pi * df_ok['HORA']/24.0)"
   ]
  },
  {
   "cell_type": "code",
   "execution_count": 56,
   "id": "ec868b5b",
   "metadata": {},
   "outputs": [],
   "source": [
    "df_ok.drop(\"HORA\", axis=1, inplace=True)  # Eliminamos la columna HORA original, ya que no la utilizaremos"
   ]
  },
  {
   "cell_type": "code",
   "execution_count": 57,
   "id": "a48aa198",
   "metadata": {},
   "outputs": [
    {
     "data": {
      "text/html": [
       "<div>\n",
       "<style scoped>\n",
       "    .dataframe tbody tr th:only-of-type {\n",
       "        vertical-align: middle;\n",
       "    }\n",
       "\n",
       "    .dataframe tbody tr th {\n",
       "        vertical-align: top;\n",
       "    }\n",
       "\n",
       "    .dataframe thead th {\n",
       "        text-align: right;\n",
       "    }\n",
       "</style>\n",
       "<table border=\"1\" class=\"dataframe\">\n",
       "  <thead>\n",
       "    <tr style=\"text-align: right;\">\n",
       "      <th></th>\n",
       "      <th>TEMP (°C)</th>\n",
       "      <th>HUM (%)</th>\n",
       "      <th>PNM (hPa)</th>\n",
       "      <th>DD (g)</th>\n",
       "      <th>FF (km/h)</th>\n",
       "      <th>PROVINCIA</th>\n",
       "      <th>ALTURA</th>\n",
       "      <th>LAT</th>\n",
       "      <th>LON</th>\n",
       "      <th>HORA_sen</th>\n",
       "      <th>HORA_cos</th>\n",
       "    </tr>\n",
       "  </thead>\n",
       "  <tbody>\n",
       "    <tr>\n",
       "      <th>0</th>\n",
       "      <td>13.7</td>\n",
       "      <td>88</td>\n",
       "      <td>1020.2</td>\n",
       "      <td>80</td>\n",
       "      <td>13</td>\n",
       "      <td>CAPITAL FEDERAL</td>\n",
       "      <td>6.0</td>\n",
       "      <td>-34.550000</td>\n",
       "      <td>-58.416667</td>\n",
       "      <td>0.0</td>\n",
       "      <td>1.0</td>\n",
       "    </tr>\n",
       "    <tr>\n",
       "      <th>1</th>\n",
       "      <td>13.6</td>\n",
       "      <td>91</td>\n",
       "      <td>1019.6</td>\n",
       "      <td>80</td>\n",
       "      <td>11</td>\n",
       "      <td>CAPITAL FEDERAL</td>\n",
       "      <td>6.0</td>\n",
       "      <td>-34.550000</td>\n",
       "      <td>-58.416667</td>\n",
       "      <td>0.258819</td>\n",
       "      <td>0.965926</td>\n",
       "    </tr>\n",
       "    <tr>\n",
       "      <th>2</th>\n",
       "      <td>13.4</td>\n",
       "      <td>91</td>\n",
       "      <td>1019.3</td>\n",
       "      <td>80</td>\n",
       "      <td>11</td>\n",
       "      <td>CAPITAL FEDERAL</td>\n",
       "      <td>6.0</td>\n",
       "      <td>-34.550000</td>\n",
       "      <td>-58.416667</td>\n",
       "      <td>0.5</td>\n",
       "      <td>0.866025</td>\n",
       "    </tr>\n",
       "    <tr>\n",
       "      <th>3</th>\n",
       "      <td>13.4</td>\n",
       "      <td>94</td>\n",
       "      <td>1018.7</td>\n",
       "      <td>80</td>\n",
       "      <td>13</td>\n",
       "      <td>CAPITAL FEDERAL</td>\n",
       "      <td>6.0</td>\n",
       "      <td>-34.550000</td>\n",
       "      <td>-58.416667</td>\n",
       "      <td>0.707107</td>\n",
       "      <td>0.707107</td>\n",
       "    </tr>\n",
       "    <tr>\n",
       "      <th>4</th>\n",
       "      <td>13.7</td>\n",
       "      <td>91</td>\n",
       "      <td>1018.2</td>\n",
       "      <td>90</td>\n",
       "      <td>9</td>\n",
       "      <td>CAPITAL FEDERAL</td>\n",
       "      <td>6.0</td>\n",
       "      <td>-34.550000</td>\n",
       "      <td>-58.416667</td>\n",
       "      <td>0.866025</td>\n",
       "      <td>0.5</td>\n",
       "    </tr>\n",
       "    <tr>\n",
       "      <th>...</th>\n",
       "      <td>...</td>\n",
       "      <td>...</td>\n",
       "      <td>...</td>\n",
       "      <td>...</td>\n",
       "      <td>...</td>\n",
       "      <td>...</td>\n",
       "      <td>...</td>\n",
       "      <td>...</td>\n",
       "      <td>...</td>\n",
       "      <td>...</td>\n",
       "      <td>...</td>\n",
       "    </tr>\n",
       "    <tr>\n",
       "      <th>1865</th>\n",
       "      <td>14.8</td>\n",
       "      <td>83</td>\n",
       "      <td>1015.8</td>\n",
       "      <td>180</td>\n",
       "      <td>19</td>\n",
       "      <td>NaN</td>\n",
       "      <td>NaN</td>\n",
       "      <td>NaN</td>\n",
       "      <td>NaN</td>\n",
       "      <td>-0.866025</td>\n",
       "      <td>0.5</td>\n",
       "    </tr>\n",
       "    <tr>\n",
       "      <th>1866</th>\n",
       "      <td>14.0</td>\n",
       "      <td>89</td>\n",
       "      <td>1016.4</td>\n",
       "      <td>180</td>\n",
       "      <td>17</td>\n",
       "      <td>NaN</td>\n",
       "      <td>NaN</td>\n",
       "      <td>NaN</td>\n",
       "      <td>NaN</td>\n",
       "      <td>-0.707107</td>\n",
       "      <td>0.707107</td>\n",
       "    </tr>\n",
       "    <tr>\n",
       "      <th>1867</th>\n",
       "      <td>11.6</td>\n",
       "      <td>96</td>\n",
       "      <td>1017.9</td>\n",
       "      <td>140</td>\n",
       "      <td>41</td>\n",
       "      <td>NaN</td>\n",
       "      <td>NaN</td>\n",
       "      <td>NaN</td>\n",
       "      <td>NaN</td>\n",
       "      <td>-0.5</td>\n",
       "      <td>0.866025</td>\n",
       "    </tr>\n",
       "    <tr>\n",
       "      <th>1868</th>\n",
       "      <td>7.4</td>\n",
       "      <td>88</td>\n",
       "      <td>1021.3</td>\n",
       "      <td>180</td>\n",
       "      <td>19</td>\n",
       "      <td>NaN</td>\n",
       "      <td>NaN</td>\n",
       "      <td>NaN</td>\n",
       "      <td>NaN</td>\n",
       "      <td>-0.258819</td>\n",
       "      <td>0.965926</td>\n",
       "    </tr>\n",
       "    <tr>\n",
       "      <th>1869</th>\n",
       "      <td>&lt;NA&gt;</td>\n",
       "      <td>&lt;NA&gt;</td>\n",
       "      <td>NaN</td>\n",
       "      <td>&lt;NA&gt;</td>\n",
       "      <td>&lt;NA&gt;</td>\n",
       "      <td>SAN LUIS</td>\n",
       "      <td>486.0</td>\n",
       "      <td>-33.716667</td>\n",
       "      <td>-65.366667</td>\n",
       "      <td>&lt;NA&gt;</td>\n",
       "      <td>&lt;NA&gt;</td>\n",
       "    </tr>\n",
       "  </tbody>\n",
       "</table>\n",
       "<p>1870 rows × 11 columns</p>\n",
       "</div>"
      ],
      "text/plain": [
       "      TEMP (°C)  HUM (%)  PNM (hPa)  DD (g)  FF (km/h)        PROVINCIA  \\\n",
       "0          13.7       88     1020.2      80         13  CAPITAL FEDERAL   \n",
       "1          13.6       91     1019.6      80         11  CAPITAL FEDERAL   \n",
       "2          13.4       91     1019.3      80         11  CAPITAL FEDERAL   \n",
       "3          13.4       94     1018.7      80         13  CAPITAL FEDERAL   \n",
       "4          13.7       91     1018.2      90          9  CAPITAL FEDERAL   \n",
       "...         ...      ...        ...     ...        ...              ...   \n",
       "1865       14.8       83     1015.8     180         19              NaN   \n",
       "1866       14.0       89     1016.4     180         17              NaN   \n",
       "1867       11.6       96     1017.9     140         41              NaN   \n",
       "1868        7.4       88     1021.3     180         19              NaN   \n",
       "1869       <NA>     <NA>        NaN    <NA>       <NA>         SAN LUIS   \n",
       "\n",
       "      ALTURA        LAT        LON  HORA_sen  HORA_cos  \n",
       "0        6.0 -34.550000 -58.416667       0.0       1.0  \n",
       "1        6.0 -34.550000 -58.416667  0.258819  0.965926  \n",
       "2        6.0 -34.550000 -58.416667       0.5  0.866025  \n",
       "3        6.0 -34.550000 -58.416667  0.707107  0.707107  \n",
       "4        6.0 -34.550000 -58.416667  0.866025       0.5  \n",
       "...      ...        ...        ...       ...       ...  \n",
       "1865     NaN        NaN        NaN -0.866025       0.5  \n",
       "1866     NaN        NaN        NaN -0.707107  0.707107  \n",
       "1867     NaN        NaN        NaN      -0.5  0.866025  \n",
       "1868     NaN        NaN        NaN -0.258819  0.965926  \n",
       "1869   486.0 -33.716667 -65.366667      <NA>      <NA>  \n",
       "\n",
       "[1870 rows x 11 columns]"
      ]
     },
     "execution_count": 57,
     "metadata": {},
     "output_type": "execute_result"
    }
   ],
   "source": [
    "df_ok"
   ]
  },
  {
   "cell_type": "code",
   "execution_count": 58,
   "id": "65a96d39",
   "metadata": {},
   "outputs": [],
   "source": [
    "df_ok = pd.get_dummies(df_ok, columns=['PROVINCIA'], prefix='PROV', drop_first=True)  # Convertimos la columna PROVINCIA en variables dummy, eliminando la primera para evitar la trampa de la variable ficticia"
   ]
  },
  {
   "cell_type": "code",
   "execution_count": 59,
   "id": "2ce41614",
   "metadata": {},
   "outputs": [
    {
     "data": {
      "text/plain": [
       "TEMP (°C)                2.30\n",
       "HUM (%)                  2.30\n",
       "PNM (hPa)                2.30\n",
       "DD (g)                   2.30\n",
       "FF (km/h)                2.30\n",
       "ALTURA                  25.29\n",
       "LAT                     25.29\n",
       "LON                     25.29\n",
       "HORA_sen                 2.30\n",
       "HORA_cos                 2.30\n",
       "PROV_BUENOS AIRES        0.00\n",
       "PROV_CAPITAL FEDERAL     0.00\n",
       "PROV_CATAMARCA           0.00\n",
       "PROV_CHACO               0.00\n",
       "PROV_CHUBUT              0.00\n",
       "PROV_CORDOBA             0.00\n",
       "PROV_CORRIENTES          0.00\n",
       "PROV_ENTRE RIOS          0.00\n",
       "PROV_FORMOSA             0.00\n",
       "PROV_JUJUY               0.00\n",
       "PROV_LA PAMPA            0.00\n",
       "PROV_LA RIOJA            0.00\n",
       "PROV_MENDOZA             0.00\n",
       "PROV_MISIONES            0.00\n",
       "PROV_NEUQUEN             0.00\n",
       "PROV_RIO NEGRO           0.00\n",
       "PROV_SALTA               0.00\n",
       "PROV_SAN JUAN            0.00\n",
       "PROV_SAN LUIS            0.00\n",
       "PROV_SANTA CRUZ          0.00\n",
       "PROV_SANTA FE            0.00\n",
       "PROV_SANTIAGO DEL ES     0.00\n",
       "PROV_TIERRA DEL FUEG     0.00\n",
       "PROV_TUCUMAN             0.00\n",
       "dtype: float64"
      ]
     },
     "execution_count": 59,
     "metadata": {},
     "output_type": "execute_result"
    }
   ],
   "source": [
    "# Calcular la proporción de valores nulos en cada columna\n",
    "df_ok.isna().mean().round(4)*100"
   ]
  },
  {
   "cell_type": "code",
   "execution_count": 60,
   "id": "215510ef",
   "metadata": {},
   "outputs": [
    {
     "name": "stdout",
     "output_type": "stream",
     "text": [
      "\n",
      "--- GeoDataFrame Creado (primeras filas) ---\n",
      "  FECHA (ddmmyyyy)  HORA  TEMP (°C)  HUM (%)  PNM (hPa)  DD (g)  FF (km/h)  \\\n",
      "0       2025-07-15     0       13.7       88     1020.2      80         13   \n",
      "1       2025-07-15     1       13.6       91     1019.6      80         11   \n",
      "2       2025-07-15     2       13.4       91     1019.3      80         11   \n",
      "3       2025-07-15     3       13.4       94     1018.7      80         13   \n",
      "4       2025-07-15     4       13.7       91     1018.2      90          9   \n",
      "\n",
      "          ESTACION        PROVINCIA  LAT_GRAD  LAT_MIN  LON_GRAD  LON_MIN  \\\n",
      "0  AEROPARQUE AERO  CAPITAL FEDERAL     -34.0     33.0     -58.0     25.0   \n",
      "1  AEROPARQUE AERO  CAPITAL FEDERAL     -34.0     33.0     -58.0     25.0   \n",
      "2  AEROPARQUE AERO  CAPITAL FEDERAL     -34.0     33.0     -58.0     25.0   \n",
      "3  AEROPARQUE AERO  CAPITAL FEDERAL     -34.0     33.0     -58.0     25.0   \n",
      "4  AEROPARQUE AERO  CAPITAL FEDERAL     -34.0     33.0     -58.0     25.0   \n",
      "\n",
      "   ALTURA      NUM NroOACI    LAT        LON                  geometry  \n",
      "0     6.0  87582.0    SABE -34.55 -58.416667  POINT (-58.41667 -34.55)  \n",
      "1     6.0  87582.0    SABE -34.55 -58.416667  POINT (-58.41667 -34.55)  \n",
      "2     6.0  87582.0    SABE -34.55 -58.416667  POINT (-58.41667 -34.55)  \n",
      "3     6.0  87582.0    SABE -34.55 -58.416667  POINT (-58.41667 -34.55)  \n",
      "4     6.0  87582.0    SABE -34.55 -58.416667  POINT (-58.41667 -34.55)  \n",
      "\n",
      "Visualizando las estaciones en un mapa...\n"
     ]
    },
    {
     "data": {
      "image/png": "[encoded data removed]",
      "text/plain": [
       "<Figure size 1000x1000 with 1 Axes>"
      ]
     },
     "metadata": {},
     "output_type": "display_data"
    }
   ],
   "source": [
    "# Creamos el GeoDataFrame a partir del DataFrame combinado\n",
    "# Especificamos que la geometría se crea a partir de las columnas 'lon' y 'lat'\n",
    "gdf = gpd.GeoDataFrame(\n",
    "    df_combinado,\n",
    "    geometry=gpd.points_from_xy(df_combinado.LON, df_combinado.LAT),\n",
    "    crs=\"EPSG:4326\"  # CRS estándar para coordenadas lat/lon\n",
    ")\n",
    "\n",
    "print(\"\\n--- GeoDataFrame Creado (primeras filas) ---\")\n",
    "print(gdf.head())\n",
    "\n",
    "# Puedes hacer una visualización rápida para confirmar que funciona\n",
    "print(\"\\nVisualizando las estaciones en un mapa...\")\n",
    "gdf.plot(figsize=(10, 10))\n",
    "plt.title(\"Ubicación de Estaciones Meteorológicas\")\n",
    "plt.show()"
   ]
  },
  {
   "cell_type": "code",
   "execution_count": 61,
   "id": "d492265a",
   "metadata": {},
   "outputs": [
    {
     "data": {
      "image/png": "[encoded data removed]",
      "text/plain": [
       "<Figure size 1200x1200 with 2 Axes>"
      ]
     },
     "metadata": {},
     "output_type": "display_data"
    }
   ],
   "source": [
    "# 1. Reproyectar el GeoDataFrame al sistema de coordenadas de Web Mercator\n",
    "gdf_wm = gdf.to_crs(epsg=3857)\n",
    "\n",
    "# 2. Crear el gráfico de los puntos\n",
    "fig, ax = plt.subplots(figsize=(12, 12))\n",
    "gdf_wm.plot(ax=ax,\n",
    "            column='TEMP (°C)',  # Columna para colorear los puntos por provincia\n",
    "            cmap='coolwarm',  # Mapa de colores\n",
    "            edgecolor='black',\n",
    "            alpha=0.7,\n",
    "            markersize=50,\n",
    "            legend=True)\n",
    "\n",
    "# 3. Añadir el mapa de fondo usando contextily\n",
    "# Usaremos OpenStreetMap como fuente del mapa\n",
    "ctx.add_basemap(ax, source=ctx.providers.OpenStreetMap.Mapnik)\n",
    "\n",
    "# 4. Limpiar y mostrar el gráfico\n",
    "ax.set_axis_off() # Ocultamos los ejes, ya no son necesarios\n",
    "plt.title(\"Ubicación de Estaciones Meteorológicas en Argentina\", fontsize=16)\n",
    "plt.show()"
   ]
  },
  {
   "cell_type": "code",
   "execution_count": 62,
   "id": "6568dd90",
   "metadata": {},
   "outputs": [
    {
     "name": "stdout",
     "output_type": "stream",
     "text": [
      "--- DataFrame Agregado (una fila por estación) ---\n",
      "            ESTACION        LAT        LON  TEMP_media\n",
      "0    AEROPARQUE AERO -34.550000 -58.416667     15.2375\n",
      "1          AZUL AERO -36.816667 -59.883333     10.9875\n",
      "2  BAHIA BLANCA AERO -38.700000 -62.150000      12.625\n",
      "3     BARILOCHE AERO -41.133333 -71.150000        <NA>\n",
      "4   BASE BELGRANO II -77.866667 -34.616667      -17.55\n"
     ]
    },
    {
     "data": {
      "image/png": "[encoded data removed]",
      "text/plain": [
       "<Figure size 1200x1200 with 2 Axes>"
      ]
     },
     "metadata": {},
     "output_type": "display_data"
    }
   ],
   "source": [
    "# --- PASO 1: AGREGAR LOS DATOS ---\n",
    "# Agrupamos por estación para tener UNA fila por estación.\n",
    "# Calculamos la temperatura MEDIA para cada una.\n",
    "df_agregado = df_combinado.groupby(['ESTACION', \"LAT\", \"LON\"]).agg(\n",
    "    TEMP_media=('TEMP (°C)', 'mean')\n",
    ").reset_index()\n",
    "\n",
    "print(\"--- DataFrame Agregado (una fila por estación) ---\")\n",
    "print(df_agregado.head())\n",
    "\n",
    "\n",
    "# --- PASO 2: CREAR EL GEODATAFRAME CON LOS DATOS AGREGADOS ---\n",
    "gdf_agregado = gpd.GeoDataFrame(\n",
    "    df_agregado,\n",
    "    geometry=gpd.points_from_xy(df_agregado.LON, df_agregado.LAT),\n",
    "    crs=\"EPSG:4326\"\n",
    ")\n",
    "\n",
    "\n",
    "# --- PASO 3: GRAFICAR EL NUEVO GEODATAFRAME ---\n",
    "# Reproyectar al CRS correcto para el mapa base\n",
    "gdf_agregado_wm = gdf_agregado.to_crs(epsg=3857)\n",
    "\n",
    "# Crear el gráfico\n",
    "fig, ax = plt.subplots(figsize=(12, 12))\n",
    "\n",
    "# Graficar usando la nueva columna 'TEMP_media'\n",
    "gdf_agregado_wm.plot(ax=ax,\n",
    "                     column='TEMP_media', # <-- Usamos la nueva columna con el promedio\n",
    "                     cmap='coolwarm',\n",
    "                     legend=True,\n",
    "                     legend_kwds={'label': \"Temperatura Media (°C)\"},\n",
    "                     alpha=0.8,\n",
    "                     markersize=60,\n",
    "                     edgecolor='black')\n",
    "\n",
    "# Añadir mapa de fondo\n",
    "ctx.add_basemap(ax, source=ctx.providers.OpenStreetMap.Mapnik)\n",
    "\n",
    "ax.set_axis_off()\n",
    "plt.title(\"Temperatura Media por Estación en Argentina\", fontsize=16)\n",
    "plt.show()"
   ]
  },
  {
   "cell_type": "code",
   "execution_count": 63,
   "id": "cabe92f1",
   "metadata": {},
   "outputs": [
    {
     "data": {
      "application/vnd.plotly.v1+json": {
       "config": {
        "plotlyServerURL": "https://plot.ly"
       },
       "data": [
        {
         "customdata": {
          "bdata": "mZmZmZl5LkCZmZmZmfklQAAAAAAAQClAAAAAAAAA+H/NzMzMzIwxwAAAAAAAAPh/mpmZmZmZIsAzMzMzM3MowAAAAAAAgCXAmpmZmZmZIsDrUbgehesnQAAAAAAAAPh/AAAAAADgKkAAAAAAAAD4fwAAAAAAAPh/iYiIiIhIMUDv7u7u7s41QGZmZmZmzjJAZmZmZmYGF0AAAAAAAAAuQAAAAAAAAPh/AAAAAAAA+H+8u7u7u5sxQAAAAAAAUDBAAAAAAAAA+H8AAAAAAAD4f2dmZmZmtjVA7+7u7u6uJ0Bcj8L1KFwZQO/u7u7u7v4/RERERETUMEAAAAAAAAD4f97d3d3dXRBAMzMzMzNjMEBVVVVVVXU1QAAAAAAAgCpAAAAAAAAA+H8AAAAAABA0QN7d3d3dfTNAzczMzMzMNUAAAAAAAAD4fwAAAAAAAPh/AAAAAAAA+H93d3d3d1cxQCMiIiIiYixAAAAAAAAA+H+IiIiIiOguQM3MzMzMDDJAMzMzMzMzLEAzMzMzM5s5QAAAAAAAAPh/AAAAAAAA+H8AAAAAAAD4fwAAAAAAAPh/AAAAAAAA+H8jIiIiIqInQAAAAAAAAPh/AAAAAAAA+H8FW7AFW7AxQAAAAAAAAPh/AAAAAAAA+H8AAAAAAFAxQAAAAAAAwBpAAAAAAACAMEDNzMzMzEw0QJqZmZmZeSRAAAAAAADQNUDv7u7u7k4zQAAAAAAAABZAAAAAAAAA+H+amZmZmfktQAAAAAAAAPh/2Ymd2ImdJ0AAAAAAAAD4f97d3d3dDTRAAAAAAAAA+H8AAAAAAAD4fwAAAAAAAPh/G7mRG7mRK0DNzMzMzMwzQLy7u7u7uzRAREREREQ0NUBVVVVVVXUsQAAAAAAAgAdAIyIiIiKiBkAAAAAAAAA4QHd3d3d3FzNAAAAAAAAA+H8AAAAAAAD4f2dmZmZmJjBAzczMzMwMKEAzMzMzM3MaQHh3d3d31yxABD/wAz/wK0AREREREfEjQERERERERBBAmZmZmZlZJ0AAAAAAAAD4fwAAAAAAAPh/3t3d3d29M0B3d3d3d1czQNVBHdRBHSZAmpmZmZlZMkAAAAAAAAD4fwAAAAAAAPh/3d3d3d1dHkBI4XoUrkctQMzMzMzMTCZAvLu7u7t7MUDNzMzMzIwQQAAAAAAAAPh/AAAAAAAA+H/v7u7u7u4mQGdmZmZmZiVAAAAAAAAA+H8AAAAAAAD4f4M6qIM6qCZAAAAAAAAA+H8=",
          "dtype": "f8",
          "shape": "118, 1"
         },
         "hovertemplate": "<b>%{hovertext}</b><br><br>LAT=%{lat}<br>LON=%{lon}<br>TEMP_media=%{marker.color:.2f}<extra></extra>",
         "hovertext": [
          "AEROPARQUE AERO",
          "AZUL AERO",
          "BAHIA BLANCA AERO",
          "BARILOCHE AERO",
          "BASE BELGRANO II",
          "BASE CARLINI (EX JUBANY)",
          "BASE ESPERANZA",
          "BASE MARAMBIO",
          "BASE ORCADAS",
          "BASE SAN MARTIN",
          "BENITO JUAREZ",
          "BERNARDO DE IRIGOYEN AERO",
          "BOLIVAR AERO",
          "BUENOS AIRES OBSERVATORIO",
          "CAMPO DE MAYO AERO",
          "CATAMARCA AERO",
          "CERES AERO",
          "CHAMICAL AERO",
          "CHAPELCO AERO",
          "CHEPES",
          "CHILECITO AERO",
          "COMODORO RIVADAVIA AERO",
          "CONCORDIA AERO",
          "CORDOBA AERO",
          "CORDOBA OBSERVATORIO",
          "CORONEL SUAREZ AERO",
          "CORRIENTES AERO",
          "DOLORES AERO",
          "EL BOLSON AERO",
          "EL CALAFATE AERO",
          "EL PALOMAR AERO",
          "ESCUELA DE AVIACION MILITAR AE",
          "ESQUEL AERO",
          "EZEIZA AERO",
          "FORMOSA AERO",
          "GENERAL PICO AERO",
          "GOBERNADOR GREGORES AERO",
          "GUALEGUAYCHU AERO",
          "IGUAZU AERO",
          "ITUZAINGO",
          "JACHAL",
          "JUJUY AERO",
          "JUJUY U N",
          "JUNIN AERO",
          "LA PLATA AERO",
          "LA QUIACA OBSERVATORIO",
          "LA RIOJA AERO",
          "LABOULAYE AERO",
          "LAS FLORES",
          "LAS LOMITAS",
          "MALARGUE AERO",
          "MAQUINCHAO",
          "MAR DEL PLATA AERO",
          "MARCOS JUAREZ AERO",
          "MARIANO MORENO AERO",
          "MENDOZA AERO",
          "MENDOZA OBSERVATORIO",
          "MERCEDES AERO (CTES)",
          "MERLO AERO",
          "METAN",
          "MONTE CASEROS AERO",
          "MORON AERO",
          "NEUQUEN AERO",
          "NUEVE DE JULIO",
          "OBERA",
          "OLAVARRIA AERO",
          "ORAN AERO",
          "PARANA AERO",
          "PASO DE INDIOS",
          "PASO DE LOS LIBRES AERO",
          "PEHUAJO AERO",
          "PERITO MORENO AERO",
          "PIGUE AERO",
          "PILAR OBSERVATORIO",
          "POSADAS AERO",
          "PRESIDENCIA ROQUE SAENZ PEÑA A",
          "PUERTO DESEADO AERO",
          "PUERTO MADRYN AERO",
          "PUNTA INDIO B.A.",
          "RAFAELA AERO",
          "RECONQUISTA AERO",
          "RESISTENCIA AERO",
          "RIO CUARTO AERO",
          "RIO GALLEGOS AERO",
          "RIO GRANDE B.A.",
          "RIVADAVIA",
          "ROSARIO AERO",
          "SALTA AERO",
          "SAN ANTONIO OESTE AERO",
          "SAN FERNANDO AERO",
          "SAN JUAN AERO",
          "SAN JULIAN AERO",
          "SAN LUIS AERO",
          "SAN MARTIN (MZA)",
          "SAN RAFAEL AERO",
          "SANTA CRUZ AERO",
          "SANTA ROSA AERO",
          "SANTA ROSA DE CONLARA AERO",
          "SANTIAGO DEL ESTERO AERO",
          "SAUCE VIEJO AERO",
          "SUNCHALES AERO",
          "TANDIL AERO",
          "TARTAGAL AERO",
          "TERMAS DE RIO HONDO AERO",
          "TINOGASTA",
          "TRELEW AERO",
          "TRENQUE LAUQUEN",
          "TRES ARROYOS",
          "TUCUMAN AERO",
          "USHUAIA AERO",
          "USPALLATA",
          "VENADO TUERTO AERO",
          "VICTORICA",
          "VIEDMA AERO",
          "VILLA DE MARIA DEL RIO SECO",
          "VILLA DOLORES AERO",
          "VILLA GESELL AERO",
          "VILLA REYNOLDS AERO"
         ],
         "lat": {
          "bdata": "ZmZmZmZGQcCJiIiIiGhCwJqZmZmZWUPAERERERGRRMB3d3d3d3dTwN7d3d3dHU/AERERERGxT8Dv7u7u7g5QwN7d3d3dXU7Ad3d3d3cHUcCamZmZmdlCwERERERERDrAd3d3d3cXQsCrqqqqqkpBwEREREREREHAVVVVVVWVPMDe3d3d3d09wFVVVVVVVT7AiYiIiIgIRMCamZmZmVk/wHd3d3d3Nz3ARERERETkRsDNzMzMzEw/wImIiIiISD/Aq6qqqqpqP8CamZmZmblCwO/u7u7ubjvAiYiIiIgoQsCamZmZmflEwEREREREJEnAzczMzMxMQcDv7u7u7m4/wDMzMzMzc0XAiYiIiIhoQcAzMzMzMzM6wHd3d3d310HAIiIiIiJiSMAAAAAAAIBAwHd3d3d3tznAVVVVVVWVO8B3d3d3dzc+wCIiIiIiYjjAq6qqqqoqOMBmZmZmZkZBwJqZmZmZeUHAmpmZmZkZNsDe3d3d3V09wO/u7u7uDkHAREREREQEQsAzMzMzM7M4wLy7u7u7u0HA3t3d3d2dRMBVVVVVVfVCwFVVVVVVVUDAZmZmZmZGQcCrqqqqqmpAwBERERERcUDAd3d3d3c3PcB3d3d3d1dBwEREREREhDnAAAAAAABAPsBVVVVVVVVBwJqZmZmZeUPAd3d3d3e3QcC8u7u7u3s7wBERERERcULAZmZmZmYmN8CJiIiIiMg/wM3MzMzM7EXA7+7u7u6uPcCrqqqqqupBwEREREREREfAzczMzMzMQsCrqqqqqqo/wCIiIiIiYjvAvLu7u7u7OsDe3d3d3d1HwAAAAAAAYEXAzczMzMysQcBEREREREQ/wDMzMzMzMz3A7+7u7u5uO8CrqqqqqopAwM3MzMzMzEnAIiIiIiLiSsDv7u7u7i44wDMzMzMzc0DAVVVVVVXVOMAAAAAAAGBEwJqZmZmZOUHAERERERGRP8BmZmZmZqZIwCIiIiIiokDAiYiIiIiIQMCrqqqqqkpBwCIiIiIiAknAq6qqqqpKQsDv7u7u7i5AwAAAAAAAwDvAMzMzMzOzP8AzMzMzM/M+wN7d3d3dnULAmpmZmZmZNsAAAAAAAIA7wBERERERETzAmpmZmZmZRcC8u7u7u/tBwM3MzMzMLEPAVVVVVVXVOsCrqqqqqmpLwKuqqqqqSkDAVVVVVVXVQMC8u7u7uxtCwM3MzMzMbETAZmZmZmbmPcAzMzMzM/M/wN7d3d3dnULAvLu7u7vbQMA=",
          "dtype": "f8"
         },
         "legendgroup": "",
         "lon": {
          "bdata": "VVVVVVU1TcAREREREfFNwDMzMzMzE0/AmpmZmZnJUcDv7u7u7k5BwDMzMzMzU03A3t3d3d19TMDv7u7u7k5MwN7d3d3dXUbAZmZmZmbGUMBERERERORNwFVVVVVV1UrAiYiIiIiITsDe3d3d3T1NwFVVVVVVVU3AAAAAAABwUMB3d3d3d/dOwCIiIiIiklDAiYiIiIjIUcBERERERKRQwLy7u7u721DAzczMzMzcUMAAAAAAAABNwM3MzMzMDFDAvLu7u7sLUMAREREREfFOwAAAAAAAYE3AvLu7u7vbTMAiIiIiIuJRwDMzMzMzA1LAzczMzMxMTcARERERERFQwImIiIiIyFHARERERERETcC8u7u7uxtNwAAAAAAA4E/AmpmZmZmJUcDNzMzMzExNwLy7u7u7O0vAVVVVVVVVTMDv7u7u7i5RwFVVVVVVRVDARERERERUUMBVVVVVVXVOwBERERER8UzAZmZmZmZmUMAiIiIiIrJQwO/u7u7urk/AERERERGRTcCrqqqqqkpOwFVVVVVVZVHAzczMzMwsUcCJiIiIiMhMwDMzMzMzE0/ARERERERkTcAiIiIiIjJRwHd3d3d3N1HAq6qqqqoKTcDe3d3d3V1NwN7d3d3dPVDAERERERHRTMAREREREVFNwImIiIiICFHA7+7u7u5uTsDv7u7u7o5LwLy7u7u7G07AREREREQUUMDe3d3d3T1OwCIiIiIiQlHAERERERGRTMDNzMzMzOxOwO/u7u7uvlHAERERERExT8Dv7u7u7u5PwLy7u7u7+0vA3t3d3d09TsCamZmZmXlQwGZmZmZmRlDARERERESkTMAAAAAAAMBOwHd3d3d3103ARERERESETcARERERERFQwDMzMzMzU1HAAAAAAADwUMAREREREXFPwCIiIiIiYk7A3t3d3d1dUMAREREREUFQwKuqqqqqSk3Aq6qqqqoaUcAzMzMzM/NQwGZmZmZmllDAzczMzMwcUcCamZmZmRlRwEREREREJFHAERERERERUMCrqqqqqkpQwCIiIiIiElDAZmZmZmZmTsAiIiIiIsJOwLy7u7u7m03ARERERETkT8C8u7u7uztQwDMzMzMz41DAERERERFRUMC8u7u7u1tPwEREREREJE7AZmZmZmZGUMAzMzMzMxNRwFVVVVVVVVHAmpmZmZn5TsC8u7u7u1tQwAAAAAAAgE/AvLu7u7vbT8CJiIiIiEhQwCIiIiIigkzAd3d3d3dXUMA=",
          "dtype": "f8"
         },
         "marker": {
          "color": {
           "bdata": "mZmZmZl5LkCZmZmZmfklQAAAAAAAQClAAAAAAAAA+H/NzMzMzIwxwAAAAAAAAPh/mpmZmZmZIsAzMzMzM3MowAAAAAAAgCXAmpmZmZmZIsDrUbgehesnQAAAAAAAAPh/AAAAAADgKkAAAAAAAAD4fwAAAAAAAPh/iYiIiIhIMUDv7u7u7s41QGZmZmZmzjJAZmZmZmYGF0AAAAAAAAAuQAAAAAAAAPh/AAAAAAAA+H+8u7u7u5sxQAAAAAAAUDBAAAAAAAAA+H8AAAAAAAD4f2dmZmZmtjVA7+7u7u6uJ0Bcj8L1KFwZQO/u7u7u7v4/RERERETUMEAAAAAAAAD4f97d3d3dXRBAMzMzMzNjMEBVVVVVVXU1QAAAAAAAgCpAAAAAAAAA+H8AAAAAABA0QN7d3d3dfTNAzczMzMzMNUAAAAAAAAD4fwAAAAAAAPh/AAAAAAAA+H93d3d3d1cxQCMiIiIiYixAAAAAAAAA+H+IiIiIiOguQM3MzMzMDDJAMzMzMzMzLEAzMzMzM5s5QAAAAAAAAPh/AAAAAAAA+H8AAAAAAAD4fwAAAAAAAPh/AAAAAAAA+H8jIiIiIqInQAAAAAAAAPh/AAAAAAAA+H8FW7AFW7AxQAAAAAAAAPh/AAAAAAAA+H8AAAAAAFAxQAAAAAAAwBpAAAAAAACAMEDNzMzMzEw0QJqZmZmZeSRAAAAAAADQNUDv7u7u7k4zQAAAAAAAABZAAAAAAAAA+H+amZmZmfktQAAAAAAAAPh/2Ymd2ImdJ0AAAAAAAAD4f97d3d3dDTRAAAAAAAAA+H8AAAAAAAD4fwAAAAAAAPh/G7mRG7mRK0DNzMzMzMwzQLy7u7u7uzRAREREREQ0NUBVVVVVVXUsQAAAAAAAgAdAIyIiIiKiBkAAAAAAAAA4QHd3d3d3FzNAAAAAAAAA+H8AAAAAAAD4f2dmZmZmJjBAzczMzMwMKEAzMzMzM3MaQHh3d3d31yxABD/wAz/wK0AREREREfEjQERERERERBBAmZmZmZlZJ0AAAAAAAAD4fwAAAAAAAPh/3t3d3d29M0B3d3d3d1czQNVBHdRBHSZAmpmZmZlZMkAAAAAAAAD4fwAAAAAAAPh/3d3d3d1dHkBI4XoUrkctQMzMzMzMTCZAvLu7u7t7MUDNzMzMzIwQQAAAAAAAAPh/AAAAAAAA+H/v7u7u7u4mQGdmZmZmZiVAAAAAAAAA+H8AAAAAAAD4f4M6qIM6qCZAAAAAAAAA+H8=",
           "dtype": "f8"
          },
          "coloraxis": "coloraxis"
         },
         "mode": "markers",
         "name": "",
         "showlegend": false,
         "subplot": "map",
         "type": "scattermap"
        }
       ],
       "layout": {
        "coloraxis": {
         "colorbar": {
          "title": {
           "text": "TEMP_media"
          }
         },
         "colorscale": [
          [
           0,
           "#0d0887"
          ],
          [
           0.1111111111111111,
           "#46039f"
          ],
          [
           0.2222222222222222,
           "#7201a8"
          ],
          [
           0.3333333333333333,
           "#9c179e"
          ],
          [
           0.4444444444444444,
           "#bd3786"
          ],
          [
           0.5555555555555556,
           "#d8576b"
          ],
          [
           0.6666666666666666,
           "#ed7953"
          ],
          [
           0.7777777777777778,
           "#fb9f3a"
          ],
          [
           0.8888888888888888,
           "#fdca26"
          ],
          [
           1,
           "#f0f921"
          ]
         ]
        },
        "legend": {
         "tracegroupgap": 0
        },
        "map": {
         "center": {
          "lat": -40,
          "lon": -64
         },
         "domain": {
          "x": [
           0,
           1
          ],
          "y": [
           0,
           1
          ]
         },
         "zoom": 3
        },
        "mapbox": {
         "center": {
          "lat": -40,
          "lon": -64
         },
         "zoom": 3
        },
        "template": {
         "data": {
          "bar": [
           {
            "error_x": {
             "color": "#2a3f5f"
            },
            "error_y": {
             "color": "#2a3f5f"
            },
            "marker": {
             "line": {
              "color": "#E5ECF6",
              "width": 0.5
             },
             "pattern": {
              "fillmode": "overlay",
              "size": 10,
              "solidity": 0.2
             }
            },
            "type": "bar"
           }
          ],
          "barpolar": [
           {
            "marker": {
             "line": {
              "color": "#E5ECF6",
              "width": 0.5
             },
             "pattern": {
              "fillmode": "overlay",
              "size": 10,
              "solidity": 0.2
             }
            },
            "type": "barpolar"
           }
          ],
          "carpet": [
           {
            "aaxis": {
             "endlinecolor": "#2a3f5f",
             "gridcolor": "white",
             "linecolor": "white",
             "minorgridcolor": "white",
             "startlinecolor": "#2a3f5f"
            },
            "baxis": {
             "endlinecolor": "#2a3f5f",
             "gridcolor": "white",
             "linecolor": "white",
             "minorgridcolor": "white",
             "startlinecolor": "#2a3f5f"
            },
            "type": "carpet"
           }
          ],
          "choropleth": [
           {
            "colorbar": {
             "outlinewidth": 0,
             "ticks": ""
            },
            "type": "choropleth"
           }
          ],
          "contour": [
           {
            "colorbar": {
             "outlinewidth": 0,
             "ticks": ""
            },
            "colorscale": [
             [
              0,
              "#0d0887"
             ],
             [
              0.1111111111111111,
              "#46039f"
             ],
             [
              0.2222222222222222,
              "#7201a8"
             ],
             [
              0.3333333333333333,
              "#9c179e"
             ],
             [
              0.4444444444444444,
              "#bd3786"
             ],
             [
              0.5555555555555556,
              "#d8576b"
             ],
             [
              0.6666666666666666,
              "#ed7953"
             ],
             [
              0.7777777777777778,
              "#fb9f3a"
             ],
             [
              0.8888888888888888,
              "#fdca26"
             ],
             [
              1,
              "#f0f921"
             ]
            ],
            "type": "contour"
           }
          ],
          "contourcarpet": [
           {
            "colorbar": {
             "outlinewidth": 0,
             "ticks": ""
            },
            "type": "contourcarpet"
           }
          ],
          "heatmap": [
           {
            "colorbar": {
             "outlinewidth": 0,
             "ticks": ""
            },
            "colorscale": [
             [
              0,
              "#0d0887"
             ],
             [
              0.1111111111111111,
              "#46039f"
             ],
             [
              0.2222222222222222,
              "#7201a8"
             ],
             [
              0.3333333333333333,
              "#9c179e"
             ],
             [
              0.4444444444444444,
              "#bd3786"
             ],
             [
              0.5555555555555556,
              "#d8576b"
             ],
             [
              0.6666666666666666,
              "#ed7953"
             ],
             [
              0.7777777777777778,
              "#fb9f3a"
             ],
             [
              0.8888888888888888,
              "#fdca26"
             ],
             [
              1,
              "#f0f921"
             ]
            ],
            "type": "heatmap"
           }
          ],
          "histogram": [
           {
            "marker": {
             "pattern": {
              "fillmode": "overlay",
              "size": 10,
              "solidity": 0.2
             }
            },
            "type": "histogram"
           }
          ],
          "histogram2d": [
           {
            "colorbar": {
             "outlinewidth": 0,
             "ticks": ""
            },
            "colorscale": [
             [
              0,
              "#0d0887"
             ],
             [
              0.1111111111111111,
              "#46039f"
             ],
             [
              0.2222222222222222,
              "#7201a8"
             ],
             [
              0.3333333333333333,
              "#9c179e"
             ],
             [
              0.4444444444444444,
              "#bd3786"
             ],
             [
              0.5555555555555556,
              "#d8576b"
             ],
             [
              0.6666666666666666,
              "#ed7953"
             ],
             [
              0.7777777777777778,
              "#fb9f3a"
             ],
             [
              0.8888888888888888,
              "#fdca26"
             ],
             [
              1,
              "#f0f921"
             ]
            ],
            "type": "histogram2d"
           }
          ],
          "histogram2dcontour": [
           {
            "colorbar": {
             "outlinewidth": 0,
             "ticks": ""
            },
            "colorscale": [
             [
              0,
              "#0d0887"
             ],
             [
              0.1111111111111111,
              "#46039f"
             ],
             [
              0.2222222222222222,
              "#7201a8"
             ],
             [
              0.3333333333333333,
              "#9c179e"
             ],
             [
              0.4444444444444444,
              "#bd3786"
             ],
             [
              0.5555555555555556,
              "#d8576b"
             ],
             [
              0.6666666666666666,
              "#ed7953"
             ],
             [
              0.7777777777777778,
              "#fb9f3a"
             ],
             [
              0.8888888888888888,
              "#fdca26"
             ],
             [
              1,
              "#f0f921"
             ]
            ],
            "type": "histogram2dcontour"
           }
          ],
          "mesh3d": [
           {
            "colorbar": {
             "outlinewidth": 0,
             "ticks": ""
            },
            "type": "mesh3d"
           }
          ],
          "parcoords": [
           {
            "line": {
             "colorbar": {
              "outlinewidth": 0,
              "ticks": ""
             }
            },
            "type": "parcoords"
           }
          ],
          "pie": [
           {
            "automargin": true,
            "type": "pie"
           }
          ],
          "scatter": [
           {
            "fillpattern": {
             "fillmode": "overlay",
             "size": 10,
             "solidity": 0.2
            },
            "type": "scatter"
           }
          ],
          "scatter3d": [
           {
            "line": {
             "colorbar": {
              "outlinewidth": 0,
              "ticks": ""
             }
            },
            "marker": {
             "colorbar": {
              "outlinewidth": 0,
              "ticks": ""
             }
            },
            "type": "scatter3d"
           }
          ],
          "scattercarpet": [
           {
            "marker": {
             "colorbar": {
              "outlinewidth": 0,
              "ticks": ""
             }
            },
            "type": "scattercarpet"
           }
          ],
          "scattergeo": [
           {
            "marker": {
             "colorbar": {
              "outlinewidth": 0,
              "ticks": ""
             }
            },
            "type": "scattergeo"
           }
          ],
          "scattergl": [
           {
            "marker": {
             "colorbar": {
              "outlinewidth": 0,
              "ticks": ""
             }
            },
            "type": "scattergl"
           }
          ],
          "scattermap": [
           {
            "marker": {
             "colorbar": {
              "outlinewidth": 0,
              "ticks": ""
             }
            },
            "type": "scattermap"
           }
          ],
          "scattermapbox": [
           {
            "marker": {
             "colorbar": {
              "outlinewidth": 0,
              "ticks": ""
             }
            },
            "type": "scattermapbox"
           }
          ],
          "scatterpolar": [
           {
            "marker": {
             "colorbar": {
              "outlinewidth": 0,
              "ticks": ""
             }
            },
            "type": "scatterpolar"
           }
          ],
          "scatterpolargl": [
           {
            "marker": {
             "colorbar": {
              "outlinewidth": 0,
              "ticks": ""
             }
            },
            "type": "scatterpolargl"
           }
          ],
          "scatterternary": [
           {
            "marker": {
             "colorbar": {
              "outlinewidth": 0,
              "ticks": ""
             }
            },
            "type": "scatterternary"
           }
          ],
          "surface": [
           {
            "colorbar": {
             "outlinewidth": 0,
             "ticks": ""
            },
            "colorscale": [
             [
              0,
              "#0d0887"
             ],
             [
              0.1111111111111111,
              "#46039f"
             ],
             [
              0.2222222222222222,
              "#7201a8"
             ],
             [
              0.3333333333333333,
              "#9c179e"
             ],
             [
              0.4444444444444444,
              "#bd3786"
             ],
             [
              0.5555555555555556,
              "#d8576b"
             ],
             [
              0.6666666666666666,
              "#ed7953"
             ],
             [
              0.7777777777777778,
              "#fb9f3a"
             ],
             [
              0.8888888888888888,
              "#fdca26"
             ],
             [
              1,
              "#f0f921"
             ]
            ],
            "type": "surface"
           }
          ],
          "table": [
           {
            "cells": {
             "fill": {
              "color": "#EBF0F8"
             },
             "line": {
              "color": "white"
             }
            },
            "header": {
             "fill": {
              "color": "#C8D4E3"
             },
             "line": {
              "color": "white"
             }
            },
            "type": "table"
           }
          ]
         },
         "layout": {
          "annotationdefaults": {
           "arrowcolor": "#2a3f5f",
           "arrowhead": 0,
           "arrowwidth": 1
          },
          "autotypenumbers": "strict",
          "coloraxis": {
           "colorbar": {
            "outlinewidth": 0,
            "ticks": ""
           }
          },
          "colorscale": {
           "diverging": [
            [
             0,
             "#8e0152"
            ],
            [
             0.1,
             "#c51b7d"
            ],
            [
             0.2,
             "#de77ae"
            ],
            [
             0.3,
             "#f1b6da"
            ],
            [
             0.4,
             "#fde0ef"
            ],
            [
             0.5,
             "#f7f7f7"
            ],
            [
             0.6,
             "#e6f5d0"
            ],
            [
             0.7,
             "#b8e186"
            ],
            [
             0.8,
             "#7fbc41"
            ],
            [
             0.9,
             "#4d9221"
            ],
            [
             1,
             "#276419"
            ]
           ],
           "sequential": [
            [
             0,
             "#0d0887"
            ],
            [
             0.1111111111111111,
             "#46039f"
            ],
            [
             0.2222222222222222,
             "#7201a8"
            ],
            [
             0.3333333333333333,
             "#9c179e"
            ],
            [
             0.4444444444444444,
             "#bd3786"
            ],
            [
             0.5555555555555556,
             "#d8576b"
            ],
            [
             0.6666666666666666,
             "#ed7953"
            ],
            [
             0.7777777777777778,
             "#fb9f3a"
            ],
            [
             0.8888888888888888,
             "#fdca26"
            ],
            [
             1,
             "#f0f921"
            ]
           ],
           "sequentialminus": [
            [
             0,
             "#0d0887"
            ],
            [
             0.1111111111111111,
             "#46039f"
            ],
            [
             0.2222222222222222,
             "#7201a8"
            ],
            [
             0.3333333333333333,
             "#9c179e"
            ],
            [
             0.4444444444444444,
             "#bd3786"
            ],
            [
             0.5555555555555556,
             "#d8576b"
            ],
            [
             0.6666666666666666,
             "#ed7953"
            ],
            [
             0.7777777777777778,
             "#fb9f3a"
            ],
            [
             0.8888888888888888,
             "#fdca26"
            ],
            [
             1,
             "#f0f921"
            ]
           ]
          },
          "colorway": [
           "#636efa",
           "#EF553B",
           "#00cc96",
           "#ab63fa",
           "#FFA15A",
           "#19d3f3",
           "#FF6692",
           "#B6E880",
           "#FF97FF",
           "#FECB52"
          ],
          "font": {
           "color": "#2a3f5f"
          },
          "geo": {
           "bgcolor": "white",
           "lakecolor": "white",
           "landcolor": "#E5ECF6",
           "showlakes": true,
           "showland": true,
           "subunitcolor": "white"
          },
          "hoverlabel": {
           "align": "left"
          },
          "hovermode": "closest",
          "mapbox": {
           "style": "light"
          },
          "paper_bgcolor": "white",
          "plot_bgcolor": "#E5ECF6",
          "polar": {
           "angularaxis": {
            "gridcolor": "white",
            "linecolor": "white",
            "ticks": ""
           },
           "bgcolor": "#E5ECF6",
           "radialaxis": {
            "gridcolor": "white",
            "linecolor": "white",
            "ticks": ""
           }
          },
          "scene": {
           "xaxis": {
            "backgroundcolor": "#E5ECF6",
            "gridcolor": "white",
            "gridwidth": 2,
            "linecolor": "white",
            "showbackground": true,
            "ticks": "",
            "zerolinecolor": "white"
           },
           "yaxis": {
            "backgroundcolor": "#E5ECF6",
            "gridcolor": "white",
            "gridwidth": 2,
            "linecolor": "white",
            "showbackground": true,
            "ticks": "",
            "zerolinecolor": "white"
           },
           "zaxis": {
            "backgroundcolor": "#E5ECF6",
            "gridcolor": "white",
            "gridwidth": 2,
            "linecolor": "white",
            "showbackground": true,
            "ticks": "",
            "zerolinecolor": "white"
           }
          },
          "shapedefaults": {
           "line": {
            "color": "#2a3f5f"
           }
          },
          "ternary": {
           "aaxis": {
            "gridcolor": "white",
            "linecolor": "white",
            "ticks": ""
           },
           "baxis": {
            "gridcolor": "white",
            "linecolor": "white",
            "ticks": ""
           },
           "bgcolor": "#E5ECF6",
           "caxis": {
            "gridcolor": "white",
            "linecolor": "white",
            "ticks": ""
           }
          },
          "title": {
           "x": 0.05
          },
          "xaxis": {
           "automargin": true,
           "gridcolor": "white",
           "linecolor": "white",
           "ticks": "",
           "title": {
            "standoff": 15
           },
           "zerolinecolor": "white",
           "zerolinewidth": 2
          },
          "yaxis": {
           "automargin": true,
           "gridcolor": "white",
           "linecolor": "white",
           "ticks": "",
           "title": {
            "standoff": 15
           },
           "zerolinecolor": "white",
           "zerolinewidth": 2
          }
         }
        },
        "title": {
         "text": "Temperatura Media por Estación en Argentina"
        }
       }
      }
     },
     "metadata": {},
     "output_type": "display_data"
    }
   ],
   "source": [
    "import plotly.express as px\n",
    "\n",
    "# Asumiendo que tienes el DataFrame 'df_agregado' del paso anterior\n",
    "\n",
    "# Creamos la figura interactiva con una sola línea de código\n",
    "fig = px.scatter_map(\n",
    "    df_agregado,\n",
    "    lat=\"LAT\",\n",
    "    lon=\"LON\",\n",
    "    color=\"TEMP_media\",              # El tamaño de la burbuja también se basa en la temp.\n",
    "    hover_name=\"ESTACION\",            # Muestra el nombre de la estación al pasar el mouse\n",
    "    hover_data={'TEMP_media': ':.2f'}, # Info extra en el hover, con 2 decimales\n",
    "    color_continuous_scale=px.colors.sequential.Plasma, # Paleta de colores\n",
    "    zoom=3,                         # Nivel de zoom inicial\n",
    "    center={\"lat\": -40, \"lon\": -64}, # Centra el mapa en Argentina\n",
    "    title=\"Temperatura Media por Estación en Argentina\"\n",
    ")\n",
    "\n",
    "# Mostramos la figura interactiva\n",
    "fig.show()"
   ]
  }
 ],
 "metadata": {
  "kernelspec": {
   "display_name": "Python 3",
   "language": "python",
   "name": "python3"
  },
  "language_info": {
   "codemirror_mode": {
    "name": "ipython",
    "version": 3
   },
   "file_extension": ".py",
   "mimetype": "text/x-python",
   "name": "python",
   "nbconvert_exporter": "python",
   "pygments_lexer": "ipython3",
   "version": "3.11.9"
  }
 },
 "nbformat": 4,
 "nbformat_minor": 5
}
