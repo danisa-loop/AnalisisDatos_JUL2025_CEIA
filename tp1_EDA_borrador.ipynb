{
 "cells": [
  {
   "cell_type": "code",
   "execution_count": 1,
   "id": "cda61f43",
   "metadata": {
    "tags": [
     "parameters"
    ]
   },
   "outputs": [
    {
     "name": "stdout",
     "output_type": "stream",
     "text": [
      "Requirement already satisfied: geopandas in c:\\users\\dsput\\appdata\\local\\packages\\pythonsoftwarefoundation.python.3.11_qbz5n2kfra8p0\\localcache\\local-packages\\python311\\site-packages (1.1.1)\n",
      "Requirement already satisfied: numpy>=1.24 in c:\\users\\dsput\\appdata\\local\\packages\\pythonsoftwarefoundation.python.3.11_qbz5n2kfra8p0\\localcache\\local-packages\\python311\\site-packages (from geopandas) (2.3.1)\n",
      "Requirement already satisfied: pyogrio>=0.7.2 in c:\\users\\dsput\\appdata\\local\\packages\\pythonsoftwarefoundation.python.3.11_qbz5n2kfra8p0\\localcache\\local-packages\\python311\\site-packages (from geopandas) (0.11.0)\n",
      "Requirement already satisfied: packaging in c:\\users\\dsput\\appdata\\local\\packages\\pythonsoftwarefoundation.python.3.11_qbz5n2kfra8p0\\localcache\\local-packages\\python311\\site-packages (from geopandas) (25.0)\n",
      "Requirement already satisfied: pandas>=2.0.0 in c:\\users\\dsput\\appdata\\local\\packages\\pythonsoftwarefoundation.python.3.11_qbz5n2kfra8p0\\localcache\\local-packages\\python311\\site-packages (from geopandas) (2.3.1)\n",
      "Requirement already satisfied: pyproj>=3.5.0 in c:\\users\\dsput\\appdata\\local\\packages\\pythonsoftwarefoundation.python.3.11_qbz5n2kfra8p0\\localcache\\local-packages\\python311\\site-packages (from geopandas) (3.7.1)\n",
      "Requirement already satisfied: shapely>=2.0.0 in c:\\users\\dsput\\appdata\\local\\packages\\pythonsoftwarefoundation.python.3.11_qbz5n2kfra8p0\\localcache\\local-packages\\python311\\site-packages (from geopandas) (2.1.1)\n",
      "Requirement already satisfied: python-dateutil>=2.8.2 in c:\\users\\dsput\\appdata\\local\\packages\\pythonsoftwarefoundation.python.3.11_qbz5n2kfra8p0\\localcache\\local-packages\\python311\\site-packages (from pandas>=2.0.0->geopandas) (2.9.0.post0)\n",
      "Requirement already satisfied: pytz>=2020.1 in c:\\users\\dsput\\appdata\\local\\packages\\pythonsoftwarefoundation.python.3.11_qbz5n2kfra8p0\\localcache\\local-packages\\python311\\site-packages (from pandas>=2.0.0->geopandas) (2025.2)\n",
      "Requirement already satisfied: tzdata>=2022.7 in c:\\users\\dsput\\appdata\\local\\packages\\pythonsoftwarefoundation.python.3.11_qbz5n2kfra8p0\\localcache\\local-packages\\python311\\site-packages (from pandas>=2.0.0->geopandas) (2025.2)\n",
      "Requirement already satisfied: certifi in c:\\users\\dsput\\appdata\\local\\packages\\pythonsoftwarefoundation.python.3.11_qbz5n2kfra8p0\\localcache\\local-packages\\python311\\site-packages (from pyogrio>=0.7.2->geopandas) (2025.7.14)\n",
      "Requirement already satisfied: six>=1.5 in c:\\users\\dsput\\appdata\\local\\packages\\pythonsoftwarefoundation.python.3.11_qbz5n2kfra8p0\\localcache\\local-packages\\python311\\site-packages (from python-dateutil>=2.8.2->pandas>=2.0.0->geopandas) (1.17.0)\n"
     ]
    },
    {
     "name": "stderr",
     "output_type": "stream",
     "text": [
      "\n",
      "[notice] A new release of pip is available: 24.0 -> 25.1.1\n",
      "[notice] To update, run: C:\\Users\\dsput\\AppData\\Local\\Microsoft\\WindowsApps\\PythonSoftwareFoundation.Python.3.11_qbz5n2kfra8p0\\python.exe -m pip install --upgrade pip\n"
     ]
    }
   ],
   "source": [
    "!pip install geopandas"
   ]
  },
  {
   "cell_type": "code",
   "execution_count": 2,
   "id": "b5bf26e5",
   "metadata": {},
   "outputs": [
    {
     "name": "stdout",
     "output_type": "stream",
     "text": [
      "Requirement already satisfied: contextily in c:\\users\\dsput\\appdata\\local\\packages\\pythonsoftwarefoundation.python.3.11_qbz5n2kfra8p0\\localcache\\local-packages\\python311\\site-packages (1.6.2)\n",
      "Requirement already satisfied: geopy in c:\\users\\dsput\\appdata\\local\\packages\\pythonsoftwarefoundation.python.3.11_qbz5n2kfra8p0\\localcache\\local-packages\\python311\\site-packages (from contextily) (2.4.1)\n",
      "Requirement already satisfied: matplotlib in c:\\users\\dsput\\appdata\\local\\packages\\pythonsoftwarefoundation.python.3.11_qbz5n2kfra8p0\\localcache\\local-packages\\python311\\site-packages (from contextily) (3.10.3)\n",
      "Requirement already satisfied: mercantile in c:\\users\\dsput\\appdata\\local\\packages\\pythonsoftwarefoundation.python.3.11_qbz5n2kfra8p0\\localcache\\local-packages\\python311\\site-packages (from contextily) (1.2.1)\n",
      "Requirement already satisfied: pillow in c:\\users\\dsput\\appdata\\local\\packages\\pythonsoftwarefoundation.python.3.11_qbz5n2kfra8p0\\localcache\\local-packages\\python311\\site-packages (from contextily) (11.3.0)\n",
      "Requirement already satisfied: rasterio in c:\\users\\dsput\\appdata\\local\\packages\\pythonsoftwarefoundation.python.3.11_qbz5n2kfra8p0\\localcache\\local-packages\\python311\\site-packages (from contextily) (1.4.3)\n",
      "Requirement already satisfied: requests in c:\\users\\dsput\\appdata\\local\\packages\\pythonsoftwarefoundation.python.3.11_qbz5n2kfra8p0\\localcache\\local-packages\\python311\\site-packages (from contextily) (2.32.4)\n",
      "Requirement already satisfied: joblib in c:\\users\\dsput\\appdata\\local\\packages\\pythonsoftwarefoundation.python.3.11_qbz5n2kfra8p0\\localcache\\local-packages\\python311\\site-packages (from contextily) (1.5.1)\n",
      "Requirement already satisfied: xyzservices in c:\\users\\dsput\\appdata\\local\\packages\\pythonsoftwarefoundation.python.3.11_qbz5n2kfra8p0\\localcache\\local-packages\\python311\\site-packages (from contextily) (2025.4.0)\n",
      "Requirement already satisfied: geographiclib<3,>=1.52 in c:\\users\\dsput\\appdata\\local\\packages\\pythonsoftwarefoundation.python.3.11_qbz5n2kfra8p0\\localcache\\local-packages\\python311\\site-packages (from geopy->contextily) (2.0)\n",
      "Requirement already satisfied: contourpy>=1.0.1 in c:\\users\\dsput\\appdata\\local\\packages\\pythonsoftwarefoundation.python.3.11_qbz5n2kfra8p0\\localcache\\local-packages\\python311\\site-packages (from matplotlib->contextily) (1.3.2)\n",
      "Requirement already satisfied: cycler>=0.10 in c:\\users\\dsput\\appdata\\local\\packages\\pythonsoftwarefoundation.python.3.11_qbz5n2kfra8p0\\localcache\\local-packages\\python311\\site-packages (from matplotlib->contextily) (0.12.1)\n",
      "Requirement already satisfied: fonttools>=4.22.0 in c:\\users\\dsput\\appdata\\local\\packages\\pythonsoftwarefoundation.python.3.11_qbz5n2kfra8p0\\localcache\\local-packages\\python311\\site-packages (from matplotlib->contextily) (4.59.0)\n",
      "Requirement already satisfied: kiwisolver>=1.3.1 in c:\\users\\dsput\\appdata\\local\\packages\\pythonsoftwarefoundation.python.3.11_qbz5n2kfra8p0\\localcache\\local-packages\\python311\\site-packages (from matplotlib->contextily) (1.4.8)\n",
      "Requirement already satisfied: numpy>=1.23 in c:\\users\\dsput\\appdata\\local\\packages\\pythonsoftwarefoundation.python.3.11_qbz5n2kfra8p0\\localcache\\local-packages\\python311\\site-packages (from matplotlib->contextily) (2.3.1)\n",
      "Requirement already satisfied: packaging>=20.0 in c:\\users\\dsput\\appdata\\local\\packages\\pythonsoftwarefoundation.python.3.11_qbz5n2kfra8p0\\localcache\\local-packages\\python311\\site-packages (from matplotlib->contextily) (25.0)\n",
      "Requirement already satisfied: pyparsing>=2.3.1 in c:\\users\\dsput\\appdata\\local\\packages\\pythonsoftwarefoundation.python.3.11_qbz5n2kfra8p0\\localcache\\local-packages\\python311\\site-packages (from matplotlib->contextily) (3.2.3)\n",
      "Requirement already satisfied: python-dateutil>=2.7 in c:\\users\\dsput\\appdata\\local\\packages\\pythonsoftwarefoundation.python.3.11_qbz5n2kfra8p0\\localcache\\local-packages\\python311\\site-packages (from matplotlib->contextily) (2.9.0.post0)\n",
      "Requirement already satisfied: click>=3.0 in c:\\users\\dsput\\appdata\\local\\packages\\pythonsoftwarefoundation.python.3.11_qbz5n2kfra8p0\\localcache\\local-packages\\python311\\site-packages (from mercantile->contextily) (8.2.1)\n",
      "Requirement already satisfied: affine in c:\\users\\dsput\\appdata\\local\\packages\\pythonsoftwarefoundation.python.3.11_qbz5n2kfra8p0\\localcache\\local-packages\\python311\\site-packages (from rasterio->contextily) (2.4.0)\n",
      "Requirement already satisfied: attrs in c:\\users\\dsput\\appdata\\local\\packages\\pythonsoftwarefoundation.python.3.11_qbz5n2kfra8p0\\localcache\\local-packages\\python311\\site-packages (from rasterio->contextily) (25.3.0)\n",
      "Requirement already satisfied: certifi in c:\\users\\dsput\\appdata\\local\\packages\\pythonsoftwarefoundation.python.3.11_qbz5n2kfra8p0\\localcache\\local-packages\\python311\\site-packages (from rasterio->contextily) (2025.7.14)\n",
      "Requirement already satisfied: cligj>=0.5 in c:\\users\\dsput\\appdata\\local\\packages\\pythonsoftwarefoundation.python.3.11_qbz5n2kfra8p0\\localcache\\local-packages\\python311\\site-packages (from rasterio->contextily) (0.7.2)\n",
      "Requirement already satisfied: click-plugins in c:\\users\\dsput\\appdata\\local\\packages\\pythonsoftwarefoundation.python.3.11_qbz5n2kfra8p0\\localcache\\local-packages\\python311\\site-packages (from rasterio->contextily) (1.1.1.2)\n",
      "Requirement already satisfied: charset_normalizer<4,>=2 in c:\\users\\dsput\\appdata\\local\\packages\\pythonsoftwarefoundation.python.3.11_qbz5n2kfra8p0\\localcache\\local-packages\\python311\\site-packages (from requests->contextily) (3.4.2)\n",
      "Requirement already satisfied: idna<4,>=2.5 in c:\\users\\dsput\\appdata\\local\\packages\\pythonsoftwarefoundation.python.3.11_qbz5n2kfra8p0\\localcache\\local-packages\\python311\\site-packages (from requests->contextily) (3.10)\n",
      "Requirement already satisfied: urllib3<3,>=1.21.1 in c:\\users\\dsput\\appdata\\local\\packages\\pythonsoftwarefoundation.python.3.11_qbz5n2kfra8p0\\localcache\\local-packages\\python311\\site-packages (from requests->contextily) (2.5.0)\n",
      "Requirement already satisfied: colorama in c:\\users\\dsput\\appdata\\local\\packages\\pythonsoftwarefoundation.python.3.11_qbz5n2kfra8p0\\localcache\\local-packages\\python311\\site-packages (from click>=3.0->mercantile->contextily) (0.4.6)\n",
      "Requirement already satisfied: six>=1.5 in c:\\users\\dsput\\appdata\\local\\packages\\pythonsoftwarefoundation.python.3.11_qbz5n2kfra8p0\\localcache\\local-packages\\python311\\site-packages (from python-dateutil>=2.7->matplotlib->contextily) (1.17.0)\n"
     ]
    },
    {
     "name": "stderr",
     "output_type": "stream",
     "text": [
      "\n",
      "[notice] A new release of pip is available: 24.0 -> 25.1.1\n",
      "[notice] To update, run: C:\\Users\\dsput\\AppData\\Local\\Microsoft\\WindowsApps\\PythonSoftwareFoundation.Python.3.11_qbz5n2kfra8p0\\python.exe -m pip install --upgrade pip\n"
     ]
    }
   ],
   "source": [
    "!pip install contextily"
   ]
  },
  {
   "cell_type": "code",
   "execution_count": 3,
   "id": "ecf0e223",
   "metadata": {},
   "outputs": [
    {
     "name": "stdout",
     "output_type": "stream",
     "text": [
      "Requirement already satisfied: plotly.expresS in c:\\users\\dsput\\appdata\\local\\packages\\pythonsoftwarefoundation.python.3.11_qbz5n2kfra8p0\\localcache\\local-packages\\python311\\site-packages (0.4.1)\n",
      "Requirement already satisfied: pandas>=0.20.0 in c:\\users\\dsput\\appdata\\local\\packages\\pythonsoftwarefoundation.python.3.11_qbz5n2kfra8p0\\localcache\\local-packages\\python311\\site-packages (from plotly.expresS) (2.3.1)\n",
      "Requirement already satisfied: plotly>=4.1.0 in c:\\users\\dsput\\appdata\\local\\packages\\pythonsoftwarefoundation.python.3.11_qbz5n2kfra8p0\\localcache\\local-packages\\python311\\site-packages (from plotly.expresS) (6.2.0)\n",
      "Requirement already satisfied: statsmodels>=0.9.0 in c:\\users\\dsput\\appdata\\local\\packages\\pythonsoftwarefoundation.python.3.11_qbz5n2kfra8p0\\localcache\\local-packages\\python311\\site-packages (from plotly.expresS) (0.14.5)\n",
      "Requirement already satisfied: scipy>=0.18 in c:\\users\\dsput\\appdata\\local\\packages\\pythonsoftwarefoundation.python.3.11_qbz5n2kfra8p0\\localcache\\local-packages\\python311\\site-packages (from plotly.expresS) (1.16.0)\n",
      "Requirement already satisfied: patsy>=0.5 in c:\\users\\dsput\\appdata\\local\\packages\\pythonsoftwarefoundation.python.3.11_qbz5n2kfra8p0\\localcache\\local-packages\\python311\\site-packages (from plotly.expresS) (1.0.1)\n",
      "Requirement already satisfied: numpy>=1.11 in c:\\users\\dsput\\appdata\\local\\packages\\pythonsoftwarefoundation.python.3.11_qbz5n2kfra8p0\\localcache\\local-packages\\python311\\site-packages (from plotly.expresS) (2.3.1)\n",
      "Requirement already satisfied: python-dateutil>=2.8.2 in c:\\users\\dsput\\appdata\\local\\packages\\pythonsoftwarefoundation.python.3.11_qbz5n2kfra8p0\\localcache\\local-packages\\python311\\site-packages (from pandas>=0.20.0->plotly.expresS) (2.9.0.post0)\n",
      "Requirement already satisfied: pytz>=2020.1 in c:\\users\\dsput\\appdata\\local\\packages\\pythonsoftwarefoundation.python.3.11_qbz5n2kfra8p0\\localcache\\local-packages\\python311\\site-packages (from pandas>=0.20.0->plotly.expresS) (2025.2)\n",
      "Requirement already satisfied: tzdata>=2022.7 in c:\\users\\dsput\\appdata\\local\\packages\\pythonsoftwarefoundation.python.3.11_qbz5n2kfra8p0\\localcache\\local-packages\\python311\\site-packages (from pandas>=0.20.0->plotly.expresS) (2025.2)\n",
      "Requirement already satisfied: narwhals>=1.15.1 in c:\\users\\dsput\\appdata\\local\\packages\\pythonsoftwarefoundation.python.3.11_qbz5n2kfra8p0\\localcache\\local-packages\\python311\\site-packages (from plotly>=4.1.0->plotly.expresS) (1.47.0)\n",
      "Requirement already satisfied: packaging in c:\\users\\dsput\\appdata\\local\\packages\\pythonsoftwarefoundation.python.3.11_qbz5n2kfra8p0\\localcache\\local-packages\\python311\\site-packages (from plotly>=4.1.0->plotly.expresS) (25.0)\n",
      "Requirement already satisfied: six>=1.5 in c:\\users\\dsput\\appdata\\local\\packages\\pythonsoftwarefoundation.python.3.11_qbz5n2kfra8p0\\localcache\\local-packages\\python311\\site-packages (from python-dateutil>=2.8.2->pandas>=0.20.0->plotly.expresS) (1.17.0)\n"
     ]
    },
    {
     "name": "stderr",
     "output_type": "stream",
     "text": [
      "\n",
      "[notice] A new release of pip is available: 24.0 -> 25.1.1\n",
      "[notice] To update, run: C:\\Users\\dsput\\AppData\\Local\\Microsoft\\WindowsApps\\PythonSoftwareFoundation.Python.3.11_qbz5n2kfra8p0\\python.exe -m pip install --upgrade pip\n"
     ]
    }
   ],
   "source": [
    "!pip install plotly.expresS"
   ]
  },
  {
   "cell_type": "code",
   "execution_count": 4,
   "id": "2807ae4b",
   "metadata": {},
   "outputs": [
    {
     "name": "stdout",
     "output_type": "stream",
     "text": [
      "Requirement already satisfied: nbformat in c:\\users\\dsput\\appdata\\local\\packages\\pythonsoftwarefoundation.python.3.11_qbz5n2kfra8p0\\localcache\\local-packages\\python311\\site-packages (5.10.4)\n",
      "Requirement already satisfied: fastjsonschema>=2.15 in c:\\users\\dsput\\appdata\\local\\packages\\pythonsoftwarefoundation.python.3.11_qbz5n2kfra8p0\\localcache\\local-packages\\python311\\site-packages (from nbformat) (2.21.1)\n",
      "Requirement already satisfied: jsonschema>=2.6 in c:\\users\\dsput\\appdata\\local\\packages\\pythonsoftwarefoundation.python.3.11_qbz5n2kfra8p0\\localcache\\local-packages\\python311\\site-packages (from nbformat) (4.24.0)\n",
      "Requirement already satisfied: jupyter-core!=5.0.*,>=4.12 in c:\\users\\dsput\\appdata\\local\\packages\\pythonsoftwarefoundation.python.3.11_qbz5n2kfra8p0\\localcache\\local-packages\\python311\\site-packages (from nbformat) (5.8.1)\n",
      "Requirement already satisfied: traitlets>=5.1 in c:\\users\\dsput\\appdata\\local\\packages\\pythonsoftwarefoundation.python.3.11_qbz5n2kfra8p0\\localcache\\local-packages\\python311\\site-packages (from nbformat) (5.14.3)\n",
      "Requirement already satisfied: attrs>=22.2.0 in c:\\users\\dsput\\appdata\\local\\packages\\pythonsoftwarefoundation.python.3.11_qbz5n2kfra8p0\\localcache\\local-packages\\python311\\site-packages (from jsonschema>=2.6->nbformat) (25.3.0)\n",
      "Requirement already satisfied: jsonschema-specifications>=2023.03.6 in c:\\users\\dsput\\appdata\\local\\packages\\pythonsoftwarefoundation.python.3.11_qbz5n2kfra8p0\\localcache\\local-packages\\python311\\site-packages (from jsonschema>=2.6->nbformat) (2025.4.1)\n",
      "Requirement already satisfied: referencing>=0.28.4 in c:\\users\\dsput\\appdata\\local\\packages\\pythonsoftwarefoundation.python.3.11_qbz5n2kfra8p0\\localcache\\local-packages\\python311\\site-packages (from jsonschema>=2.6->nbformat) (0.36.2)\n",
      "Requirement already satisfied: rpds-py>=0.7.1 in c:\\users\\dsput\\appdata\\local\\packages\\pythonsoftwarefoundation.python.3.11_qbz5n2kfra8p0\\localcache\\local-packages\\python311\\site-packages (from jsonschema>=2.6->nbformat) (0.26.0)\n",
      "Requirement already satisfied: platformdirs>=2.5 in c:\\users\\dsput\\appdata\\local\\packages\\pythonsoftwarefoundation.python.3.11_qbz5n2kfra8p0\\localcache\\local-packages\\python311\\site-packages (from jupyter-core!=5.0.*,>=4.12->nbformat) (4.3.8)\n",
      "Requirement already satisfied: pywin32>=300 in c:\\users\\dsput\\appdata\\local\\packages\\pythonsoftwarefoundation.python.3.11_qbz5n2kfra8p0\\localcache\\local-packages\\python311\\site-packages (from jupyter-core!=5.0.*,>=4.12->nbformat) (311)\n",
      "Requirement already satisfied: typing-extensions>=4.4.0 in c:\\users\\dsput\\appdata\\local\\packages\\pythonsoftwarefoundation.python.3.11_qbz5n2kfra8p0\\localcache\\local-packages\\python311\\site-packages (from referencing>=0.28.4->jsonschema>=2.6->nbformat) (4.14.1)\n"
     ]
    },
    {
     "name": "stderr",
     "output_type": "stream",
     "text": [
      "\n",
      "[notice] A new release of pip is available: 24.0 -> 25.1.1\n",
      "[notice] To update, run: C:\\Users\\dsput\\AppData\\Local\\Microsoft\\WindowsApps\\PythonSoftwareFoundation.Python.3.11_qbz5n2kfra8p0\\python.exe -m pip install --upgrade pip\n"
     ]
    }
   ],
   "source": [
    "!pip install --upgrade nbformat"
   ]
  },
  {
   "cell_type": "markdown",
   "id": "ec68961d",
   "metadata": {},
   "source": [
    "# TP Análisis de datos - Parte 1\n",
    "\n",
    "#### Integrantes:\n",
    "* Daniela Putrino\n",
    "* Dimas Torres"
   ]
  },
  {
   "cell_type": "markdown",
   "id": "f7b64f19",
   "metadata": {},
   "source": [
    "El objetivo de este trabajo es realizar un **análisis exploratorio de datos (EDA)** completo sobre un conjunto de registros extraidos de la web del Servicio Meteorológico Nacional (SMN) Argentino.\n",
    "\n",
    "El dataset se conforma con dos archivos descargados y unidos convenientemente:\n",
    "1. DatoHorario: consta de valores por hora para las *features*\n",
    "    * Temperatura (TEMP)\n",
    "    * Humedad (HUM)\n",
    "    * Presión Normal Media (PNM)    \n",
    "    * DD\n",
    "    * FF\n",
    "3. EstacionesSMN: información sobre la localización de las distintas estaciones meteorológicas (latitud, longitud, altitud y provincia)."
   ]
  },
  {
   "cell_type": "code",
   "execution_count": 5,
   "id": "704fb825",
   "metadata": {},
   "outputs": [],
   "source": [
    "# Importamos las librerías necesarias\n",
    "import pandas as pd\n",
    "import numpy as np\n",
    "import matplotlib.pyplot as plt\n",
    "import seaborn as sns\n",
    "import geopandas as gpd\n",
    "import contextily as ctx"
   ]
  },
  {
   "cell_type": "code",
   "execution_count": 6,
   "id": "93cd7141",
   "metadata": {},
   "outputs": [
    {
     "data": {
      "text/html": [
       "<div>\n",
       "<style scoped>\n",
       "    .dataframe tbody tr th:only-of-type {\n",
       "        vertical-align: middle;\n",
       "    }\n",
       "\n",
       "    .dataframe tbody tr th {\n",
       "        vertical-align: top;\n",
       "    }\n",
       "\n",
       "    .dataframe thead th {\n",
       "        text-align: right;\n",
       "    }\n",
       "</style>\n",
       "<table border=\"1\" class=\"dataframe\">\n",
       "  <thead>\n",
       "    <tr style=\"text-align: right;\">\n",
       "      <th></th>\n",
       "      <th>FECHA (ddmmyyyy)</th>\n",
       "      <th>HORA</th>\n",
       "      <th>TEMP (°C)</th>\n",
       "      <th>HUM (%)</th>\n",
       "      <th>PNM (hPa)</th>\n",
       "      <th>DD (g)</th>\n",
       "      <th>FF (km/h)</th>\n",
       "      <th>ESTACION</th>\n",
       "    </tr>\n",
       "  </thead>\n",
       "  <tbody>\n",
       "    <tr>\n",
       "      <th>0</th>\n",
       "      <td>15072025.0</td>\n",
       "      <td>0.0</td>\n",
       "      <td>13.7</td>\n",
       "      <td>88.0</td>\n",
       "      <td>1020.2</td>\n",
       "      <td>80.0</td>\n",
       "      <td>13.0</td>\n",
       "      <td>AEROPARQUE AERO</td>\n",
       "    </tr>\n",
       "    <tr>\n",
       "      <th>1</th>\n",
       "      <td>15072025.0</td>\n",
       "      <td>1.0</td>\n",
       "      <td>13.6</td>\n",
       "      <td>91.0</td>\n",
       "      <td>1019.6</td>\n",
       "      <td>80.0</td>\n",
       "      <td>11.0</td>\n",
       "      <td>AEROPARQUE AERO</td>\n",
       "    </tr>\n",
       "    <tr>\n",
       "      <th>2</th>\n",
       "      <td>15072025.0</td>\n",
       "      <td>2.0</td>\n",
       "      <td>13.4</td>\n",
       "      <td>91.0</td>\n",
       "      <td>1019.3</td>\n",
       "      <td>80.0</td>\n",
       "      <td>11.0</td>\n",
       "      <td>AEROPARQUE AERO</td>\n",
       "    </tr>\n",
       "    <tr>\n",
       "      <th>3</th>\n",
       "      <td>15072025.0</td>\n",
       "      <td>3.0</td>\n",
       "      <td>13.4</td>\n",
       "      <td>94.0</td>\n",
       "      <td>1018.7</td>\n",
       "      <td>80.0</td>\n",
       "      <td>13.0</td>\n",
       "      <td>AEROPARQUE AERO</td>\n",
       "    </tr>\n",
       "    <tr>\n",
       "      <th>4</th>\n",
       "      <td>15072025.0</td>\n",
       "      <td>4.0</td>\n",
       "      <td>13.7</td>\n",
       "      <td>91.0</td>\n",
       "      <td>1018.2</td>\n",
       "      <td>90.0</td>\n",
       "      <td>9.0</td>\n",
       "      <td>AEROPARQUE AERO</td>\n",
       "    </tr>\n",
       "  </tbody>\n",
       "</table>\n",
       "</div>"
      ],
      "text/plain": [
       "   FECHA (ddmmyyyy)  HORA  TEMP (°C)  HUM (%)  PNM (hPa)  DD (g)  FF (km/h)  \\\n",
       "0        15072025.0   0.0       13.7     88.0     1020.2    80.0       13.0   \n",
       "1        15072025.0   1.0       13.6     91.0     1019.6    80.0       11.0   \n",
       "2        15072025.0   2.0       13.4     91.0     1019.3    80.0       11.0   \n",
       "3        15072025.0   3.0       13.4     94.0     1018.7    80.0       13.0   \n",
       "4        15072025.0   4.0       13.7     91.0     1018.2    90.0        9.0   \n",
       "\n",
       "          ESTACION  \n",
       "0  AEROPARQUE AERO  \n",
       "1  AEROPARQUE AERO  \n",
       "2  AEROPARQUE AERO  \n",
       "3  AEROPARQUE AERO  \n",
       "4  AEROPARQUE AERO  "
      ]
     },
     "execution_count": 6,
     "metadata": {},
     "output_type": "execute_result"
    }
   ],
   "source": [
    "# Definimos la ruta de los datos\n",
    "path = \"SMN_data/\"\n",
    "# Cargamos el archivo de datos horarios\n",
    "# Debemos utilizar el función read_fwf para leer archivos de ancho fijo, separando por tabulaciones\n",
    "# Omitimos las dos primeras filas y definimos los nombres de las columnas, con sus respectivas unidades.\n",
    "# Definimos el encoding como 'latin1' para evitar problemas con caracteres especiales.\n",
    "df_hor = pd.read_fwf(path+\"datohorario20250715.txt\", encoding='latin1', sep='\\t', skiprows=2, names=[\"FECHA (ddmmyyyy)\", \"HORA\", \"TEMP (°C)\", \"HUM (%)\", \"PNM (hPa)\", \"DD (g)\", \"FF (km/h)\", \"ESTACION\"])\n",
    "\n",
    "df_hor.head()  # Mostramos las primeras filas del DataFrame para verificar que se ha cargado correctamente"
   ]
  },
  {
   "cell_type": "code",
   "execution_count": 7,
   "id": "c8c8535f",
   "metadata": {},
   "outputs": [
    {
     "name": "stdout",
     "output_type": "stream",
     "text": [
      "<class 'pandas.core.frame.DataFrame'>\n",
      "RangeIndex: 2074 entries, 0 to 2073\n",
      "Data columns (total 8 columns):\n",
      " #   Column            Non-Null Count  Dtype  \n",
      "---  ------            --------------  -----  \n",
      " 0   FECHA (ddmmyyyy)  2035 non-null   float64\n",
      " 1   HORA              2035 non-null   float64\n",
      " 2   TEMP (°C)         2035 non-null   float64\n",
      " 3   HUM (%)           2035 non-null   float64\n",
      " 4   PNM (hPa)         1828 non-null   float64\n",
      " 5   DD (g)            2034 non-null   float64\n",
      " 6   FF (km/h)         2034 non-null   float64\n",
      " 7   ESTACION          2074 non-null   object \n",
      "dtypes: float64(7), object(1)\n",
      "memory usage: 129.8+ KB\n"
     ]
    }
   ],
   "source": [
    "# Analizamos los tipos de datos\n",
    "df_hor.info()"
   ]
  },
  {
   "cell_type": "code",
   "execution_count": 8,
   "id": "93f0dd11",
   "metadata": {},
   "outputs": [
    {
     "name": "stdout",
     "output_type": "stream",
     "text": [
      "<class 'pandas.core.frame.DataFrame'>\n",
      "RangeIndex: 2074 entries, 0 to 2073\n",
      "Data columns (total 8 columns):\n",
      " #   Column            Non-Null Count  Dtype         \n",
      "---  ------            --------------  -----         \n",
      " 0   FECHA (ddmmyyyy)  2035 non-null   datetime64[ns]\n",
      " 1   HORA              2035 non-null   Int64         \n",
      " 2   TEMP (°C)         2035 non-null   Float64       \n",
      " 3   HUM (%)           2035 non-null   Int64         \n",
      " 4   PNM (hPa)         1828 non-null   float64       \n",
      " 5   DD (g)            2034 non-null   Int64         \n",
      " 6   FF (km/h)         2034 non-null   Int64         \n",
      " 7   ESTACION          2074 non-null   object        \n",
      "dtypes: Float64(1), Int64(4), datetime64[ns](1), float64(1), object(1)\n",
      "memory usage: 139.9+ KB\n"
     ]
    }
   ],
   "source": [
    "# Convertimos las columnas a los tipos de datos adecuados\n",
    "# OBS: Necesitamos convertir los datos a tipos que soporten valores nulos; se identifican con mayúscula inicial\n",
    "df_hor['FECHA (ddmmyyyy)'] = pd.to_datetime(df_hor['FECHA (ddmmyyyy)'], format='%d%m%Y') # Convertir a tipo fecha, aunque no tiene sentido ya que no utilizaremos esta columna por tener un único valor; son todos datos del mismo día.\n",
    "df_hor[\"HORA\"] = df_hor[\"HORA\"].astype(\"Int64\")\n",
    "df_hor[\"TEMP (°C)\"] = df_hor[\"TEMP (°C)\"].astype(\"Float64\")\n",
    "df_hor[\"HUM (%)\"] = df_hor[\"HUM (%)\"].astype(\"Int64\")\n",
    "df_hor[\"DD (g)\"] = df_hor[\"DD (g)\"].astype(\"Int64\")\n",
    "df_hor[\"FF (km/h)\"] = df_hor[\"FF (km/h)\"].astype(\"Int64\")\n",
    "\n",
    "df_hor.info()  # Verificamos que los tipos de datos se han actualizado correctamente"
   ]
  },
  {
   "cell_type": "code",
   "execution_count": 9,
   "id": "5e88183d",
   "metadata": {},
   "outputs": [
    {
     "data": {
      "text/html": [
       "<div>\n",
       "<style scoped>\n",
       "    .dataframe tbody tr th:only-of-type {\n",
       "        vertical-align: middle;\n",
       "    }\n",
       "\n",
       "    .dataframe tbody tr th {\n",
       "        vertical-align: top;\n",
       "    }\n",
       "\n",
       "    .dataframe thead th {\n",
       "        text-align: right;\n",
       "    }\n",
       "</style>\n",
       "<table border=\"1\" class=\"dataframe\">\n",
       "  <thead>\n",
       "    <tr style=\"text-align: right;\">\n",
       "      <th></th>\n",
       "      <th>FECHA (ddmmyyyy)</th>\n",
       "      <th>HORA</th>\n",
       "      <th>TEMP (°C)</th>\n",
       "      <th>HUM (%)</th>\n",
       "      <th>PNM (hPa)</th>\n",
       "      <th>DD (g)</th>\n",
       "      <th>FF (km/h)</th>\n",
       "      <th>ESTACION</th>\n",
       "    </tr>\n",
       "  </thead>\n",
       "  <tbody>\n",
       "    <tr>\n",
       "      <th>0</th>\n",
       "      <td>2025-07-15</td>\n",
       "      <td>0</td>\n",
       "      <td>13.7</td>\n",
       "      <td>88</td>\n",
       "      <td>1020.2</td>\n",
       "      <td>80</td>\n",
       "      <td>13</td>\n",
       "      <td>AEROPARQUE AERO</td>\n",
       "    </tr>\n",
       "    <tr>\n",
       "      <th>1</th>\n",
       "      <td>2025-07-15</td>\n",
       "      <td>1</td>\n",
       "      <td>13.6</td>\n",
       "      <td>91</td>\n",
       "      <td>1019.6</td>\n",
       "      <td>80</td>\n",
       "      <td>11</td>\n",
       "      <td>AEROPARQUE AERO</td>\n",
       "    </tr>\n",
       "    <tr>\n",
       "      <th>2</th>\n",
       "      <td>2025-07-15</td>\n",
       "      <td>2</td>\n",
       "      <td>13.4</td>\n",
       "      <td>91</td>\n",
       "      <td>1019.3</td>\n",
       "      <td>80</td>\n",
       "      <td>11</td>\n",
       "      <td>AEROPARQUE AERO</td>\n",
       "    </tr>\n",
       "    <tr>\n",
       "      <th>3</th>\n",
       "      <td>2025-07-15</td>\n",
       "      <td>3</td>\n",
       "      <td>13.4</td>\n",
       "      <td>94</td>\n",
       "      <td>1018.7</td>\n",
       "      <td>80</td>\n",
       "      <td>13</td>\n",
       "      <td>AEROPARQUE AERO</td>\n",
       "    </tr>\n",
       "    <tr>\n",
       "      <th>4</th>\n",
       "      <td>2025-07-15</td>\n",
       "      <td>4</td>\n",
       "      <td>13.7</td>\n",
       "      <td>91</td>\n",
       "      <td>1018.2</td>\n",
       "      <td>90</td>\n",
       "      <td>9</td>\n",
       "      <td>AEROPARQUE AERO</td>\n",
       "    </tr>\n",
       "  </tbody>\n",
       "</table>\n",
       "</div>"
      ],
      "text/plain": [
       "  FECHA (ddmmyyyy)  HORA  TEMP (°C)  HUM (%)  PNM (hPa)  DD (g)  FF (km/h)  \\\n",
       "0       2025-07-15     0       13.7       88     1020.2      80         13   \n",
       "1       2025-07-15     1       13.6       91     1019.6      80         11   \n",
       "2       2025-07-15     2       13.4       91     1019.3      80         11   \n",
       "3       2025-07-15     3       13.4       94     1018.7      80         13   \n",
       "4       2025-07-15     4       13.7       91     1018.2      90          9   \n",
       "\n",
       "          ESTACION  \n",
       "0  AEROPARQUE AERO  \n",
       "1  AEROPARQUE AERO  \n",
       "2  AEROPARQUE AERO  \n",
       "3  AEROPARQUE AERO  \n",
       "4  AEROPARQUE AERO  "
      ]
     },
     "execution_count": 9,
     "metadata": {},
     "output_type": "execute_result"
    }
   ],
   "source": [
    "df_hor.head()  # Mostramos nuevamente las primeras filas para ver los cambios realizados"
   ]
  },
  {
   "cell_type": "code",
   "execution_count": 10,
   "id": "123e1ff1",
   "metadata": {},
   "outputs": [
    {
     "data": {
      "text/html": [
       "<div>\n",
       "<style scoped>\n",
       "    .dataframe tbody tr th:only-of-type {\n",
       "        vertical-align: middle;\n",
       "    }\n",
       "\n",
       "    .dataframe tbody tr th {\n",
       "        vertical-align: top;\n",
       "    }\n",
       "\n",
       "    .dataframe thead th {\n",
       "        text-align: right;\n",
       "    }\n",
       "</style>\n",
       "<table border=\"1\" class=\"dataframe\">\n",
       "  <thead>\n",
       "    <tr style=\"text-align: right;\">\n",
       "      <th></th>\n",
       "      <th>min</th>\n",
       "      <th>max</th>\n",
       "      <th>mean</th>\n",
       "    </tr>\n",
       "    <tr>\n",
       "      <th>ESTACION</th>\n",
       "      <th></th>\n",
       "      <th></th>\n",
       "      <th></th>\n",
       "    </tr>\n",
       "  </thead>\n",
       "  <tbody>\n",
       "    <tr>\n",
       "      <th>AEROPARQUE AERO</th>\n",
       "      <td>13.4</td>\n",
       "      <td>17.2</td>\n",
       "      <td>15.2375</td>\n",
       "    </tr>\n",
       "    <tr>\n",
       "      <th>AZUL AERO</th>\n",
       "      <td>8.8</td>\n",
       "      <td>13.6</td>\n",
       "      <td>10.9875</td>\n",
       "    </tr>\n",
       "    <tr>\n",
       "      <th>BAHIA BLANCA AERO</th>\n",
       "      <td>9.6</td>\n",
       "      <td>16.7</td>\n",
       "      <td>12.625</td>\n",
       "    </tr>\n",
       "    <tr>\n",
       "      <th>BARILOCHE AERO</th>\n",
       "      <td>3.1</td>\n",
       "      <td>8.4</td>\n",
       "      <td>4.654167</td>\n",
       "    </tr>\n",
       "    <tr>\n",
       "      <th>BASE BELGRANO II</th>\n",
       "      <td>-18.3</td>\n",
       "      <td>-16.8</td>\n",
       "      <td>-17.55</td>\n",
       "    </tr>\n",
       "    <tr>\n",
       "      <th>...</th>\n",
       "      <td>...</td>\n",
       "      <td>...</td>\n",
       "      <td>...</td>\n",
       "    </tr>\n",
       "    <tr>\n",
       "      <th>VIEDMA AERO</th>\n",
       "      <td>6.2</td>\n",
       "      <td>15.5</td>\n",
       "      <td>10.7</td>\n",
       "    </tr>\n",
       "    <tr>\n",
       "      <th>VILLA DE MARIA DE</th>\n",
       "      <td>9.5</td>\n",
       "      <td>28.4</td>\n",
       "      <td>18.994444</td>\n",
       "    </tr>\n",
       "    <tr>\n",
       "      <th>VILLA DOLORES AER</th>\n",
       "      <td>11.6</td>\n",
       "      <td>24.8</td>\n",
       "      <td>17.879167</td>\n",
       "    </tr>\n",
       "    <tr>\n",
       "      <th>VILLA GESELL AERO</th>\n",
       "      <td>10.5</td>\n",
       "      <td>12.2</td>\n",
       "      <td>11.328571</td>\n",
       "    </tr>\n",
       "    <tr>\n",
       "      <th>VILLA REYNOLDS AE</th>\n",
       "      <td>7.4</td>\n",
       "      <td>21.8</td>\n",
       "      <td>13.2625</td>\n",
       "    </tr>\n",
       "  </tbody>\n",
       "</table>\n",
       "<p>120 rows × 3 columns</p>\n",
       "</div>"
      ],
      "text/plain": [
       "                    min   max       mean\n",
       "ESTACION                                \n",
       "AEROPARQUE AERO    13.4  17.2    15.2375\n",
       "AZUL AERO           8.8  13.6    10.9875\n",
       "BAHIA BLANCA AERO   9.6  16.7     12.625\n",
       "BARILOCHE AERO      3.1   8.4   4.654167\n",
       "BASE BELGRANO II  -18.3 -16.8     -17.55\n",
       "...                 ...   ...        ...\n",
       "VIEDMA AERO         6.2  15.5       10.7\n",
       "VILLA DE MARIA DE   9.5  28.4  18.994444\n",
       "VILLA DOLORES AER  11.6  24.8  17.879167\n",
       "VILLA GESELL AERO  10.5  12.2  11.328571\n",
       "VILLA REYNOLDS AE   7.4  21.8    13.2625\n",
       "\n",
       "[120 rows x 3 columns]"
      ]
     },
     "execution_count": 10,
     "metadata": {},
     "output_type": "execute_result"
    }
   ],
   "source": [
    "df_hor.groupby(\"ESTACION\")[\"TEMP (°C)\"].agg([\"min\", \"max\", \"mean\"])  # Verificamos la cantidad de datos por estación"
   ]
  },
  {
   "cell_type": "code",
   "execution_count": 11,
   "id": "83e39342",
   "metadata": {},
   "outputs": [
    {
     "data": {
      "text/html": [
       "<div>\n",
       "<style scoped>\n",
       "    .dataframe tbody tr th:only-of-type {\n",
       "        vertical-align: middle;\n",
       "    }\n",
       "\n",
       "    .dataframe tbody tr th {\n",
       "        vertical-align: top;\n",
       "    }\n",
       "\n",
       "    .dataframe thead th {\n",
       "        text-align: right;\n",
       "    }\n",
       "</style>\n",
       "<table border=\"1\" class=\"dataframe\">\n",
       "  <thead>\n",
       "    <tr style=\"text-align: right;\">\n",
       "      <th></th>\n",
       "      <th>ESTACION</th>\n",
       "      <th>PROVINCIA</th>\n",
       "      <th>LAT_GRAD</th>\n",
       "      <th>LAT_MIN</th>\n",
       "      <th>LON_GRAD</th>\n",
       "      <th>LON_MIN</th>\n",
       "      <th>ALTURA</th>\n",
       "      <th>NUM</th>\n",
       "      <th>NroOACI</th>\n",
       "    </tr>\n",
       "  </thead>\n",
       "  <tbody>\n",
       "    <tr>\n",
       "      <th>0</th>\n",
       "      <td>BASE BELGRANO II</td>\n",
       "      <td>ANTARTIDA</td>\n",
       "      <td>-77.0</td>\n",
       "      <td>52.0</td>\n",
       "      <td>-34.0</td>\n",
       "      <td>37.0</td>\n",
       "      <td>256.0</td>\n",
       "      <td>89034.0</td>\n",
       "      <td>SAYB</td>\n",
       "    </tr>\n",
       "    <tr>\n",
       "      <th>1</th>\n",
       "      <td>BASE CARLINI (EX JUBANY)</td>\n",
       "      <td>ANTARTIDA</td>\n",
       "      <td>-62.0</td>\n",
       "      <td>14.0</td>\n",
       "      <td>-58.0</td>\n",
       "      <td>39.0</td>\n",
       "      <td>11.0</td>\n",
       "      <td>89053.0</td>\n",
       "      <td>SAYJ</td>\n",
       "    </tr>\n",
       "    <tr>\n",
       "      <th>2</th>\n",
       "      <td>BASE ESPERANZA</td>\n",
       "      <td>ANTARTIDA</td>\n",
       "      <td>-63.0</td>\n",
       "      <td>23.0</td>\n",
       "      <td>-56.0</td>\n",
       "      <td>59.0</td>\n",
       "      <td>24.0</td>\n",
       "      <td>88963.0</td>\n",
       "      <td>SAYE</td>\n",
       "    </tr>\n",
       "    <tr>\n",
       "      <th>3</th>\n",
       "      <td>BASE MARAMBIO</td>\n",
       "      <td>ANTARTIDA</td>\n",
       "      <td>-64.0</td>\n",
       "      <td>14.0</td>\n",
       "      <td>-56.0</td>\n",
       "      <td>37.0</td>\n",
       "      <td>198.0</td>\n",
       "      <td>89055.0</td>\n",
       "      <td>SAWB</td>\n",
       "    </tr>\n",
       "    <tr>\n",
       "      <th>4</th>\n",
       "      <td>BASE ORCADAS</td>\n",
       "      <td>ANTARTIDA</td>\n",
       "      <td>-60.0</td>\n",
       "      <td>44.0</td>\n",
       "      <td>-44.0</td>\n",
       "      <td>44.0</td>\n",
       "      <td>12.0</td>\n",
       "      <td>88968.0</td>\n",
       "      <td>SAYO</td>\n",
       "    </tr>\n",
       "    <tr>\n",
       "      <th>...</th>\n",
       "      <td>...</td>\n",
       "      <td>...</td>\n",
       "      <td>...</td>\n",
       "      <td>...</td>\n",
       "      <td>...</td>\n",
       "      <td>...</td>\n",
       "      <td>...</td>\n",
       "      <td>...</td>\n",
       "      <td>...</td>\n",
       "    </tr>\n",
       "    <tr>\n",
       "      <th>115</th>\n",
       "      <td>SANTIAGO DEL ESTERO AERO</td>\n",
       "      <td>SANTIAGO DEL ES</td>\n",
       "      <td>-27.0</td>\n",
       "      <td>45.0</td>\n",
       "      <td>-64.0</td>\n",
       "      <td>17.0</td>\n",
       "      <td>199.0</td>\n",
       "      <td>87129.0</td>\n",
       "      <td>SANE</td>\n",
       "    </tr>\n",
       "    <tr>\n",
       "      <th>116</th>\n",
       "      <td>TERMAS DE RIO HONDO AERO</td>\n",
       "      <td>SANTIAGO DEL ES</td>\n",
       "      <td>-27.0</td>\n",
       "      <td>30.0</td>\n",
       "      <td>-64.0</td>\n",
       "      <td>56.0</td>\n",
       "      <td>280.0</td>\n",
       "      <td>87127.0</td>\n",
       "      <td>SANR</td>\n",
       "    </tr>\n",
       "    <tr>\n",
       "      <th>117</th>\n",
       "      <td>RIO GRANDE B.A.</td>\n",
       "      <td>TIERRA DEL FUEG</td>\n",
       "      <td>-53.0</td>\n",
       "      <td>46.0</td>\n",
       "      <td>-67.0</td>\n",
       "      <td>45.0</td>\n",
       "      <td>22.0</td>\n",
       "      <td>87934.0</td>\n",
       "      <td>SAWE</td>\n",
       "    </tr>\n",
       "    <tr>\n",
       "      <th>118</th>\n",
       "      <td>USHUAIA AERO</td>\n",
       "      <td>TIERRA DEL FUEG</td>\n",
       "      <td>-54.0</td>\n",
       "      <td>50.0</td>\n",
       "      <td>-68.0</td>\n",
       "      <td>18.0</td>\n",
       "      <td>57.0</td>\n",
       "      <td>87938.0</td>\n",
       "      <td>SAWH</td>\n",
       "    </tr>\n",
       "    <tr>\n",
       "      <th>119</th>\n",
       "      <td>TUCUMAN AERO</td>\n",
       "      <td>TUCUMAN</td>\n",
       "      <td>-26.0</td>\n",
       "      <td>50.0</td>\n",
       "      <td>-65.0</td>\n",
       "      <td>6.0</td>\n",
       "      <td>450.0</td>\n",
       "      <td>87121.0</td>\n",
       "      <td>SANT</td>\n",
       "    </tr>\n",
       "  </tbody>\n",
       "</table>\n",
       "<p>120 rows × 9 columns</p>\n",
       "</div>"
      ],
      "text/plain": [
       "                     ESTACION        PROVINCIA  LAT_GRAD  LAT_MIN  LON_GRAD  \\\n",
       "0            BASE BELGRANO II        ANTARTIDA     -77.0     52.0     -34.0   \n",
       "1    BASE CARLINI (EX JUBANY)        ANTARTIDA     -62.0     14.0     -58.0   \n",
       "2              BASE ESPERANZA        ANTARTIDA     -63.0     23.0     -56.0   \n",
       "3               BASE MARAMBIO        ANTARTIDA     -64.0     14.0     -56.0   \n",
       "4                BASE ORCADAS        ANTARTIDA     -60.0     44.0     -44.0   \n",
       "..                        ...              ...       ...      ...       ...   \n",
       "115  SANTIAGO DEL ESTERO AERO  SANTIAGO DEL ES     -27.0     45.0     -64.0   \n",
       "116  TERMAS DE RIO HONDO AERO  SANTIAGO DEL ES     -27.0     30.0     -64.0   \n",
       "117           RIO GRANDE B.A.  TIERRA DEL FUEG     -53.0     46.0     -67.0   \n",
       "118              USHUAIA AERO  TIERRA DEL FUEG     -54.0     50.0     -68.0   \n",
       "119              TUCUMAN AERO          TUCUMAN     -26.0     50.0     -65.0   \n",
       "\n",
       "     LON_MIN  ALTURA      NUM NroOACI  \n",
       "0       37.0   256.0  89034.0    SAYB  \n",
       "1       39.0    11.0  89053.0    SAYJ  \n",
       "2       59.0    24.0  88963.0    SAYE  \n",
       "3       37.0   198.0  89055.0    SAWB  \n",
       "4       44.0    12.0  88968.0    SAYO  \n",
       "..       ...     ...      ...     ...  \n",
       "115     17.0   199.0  87129.0    SANE  \n",
       "116     56.0   280.0  87127.0    SANR  \n",
       "117     45.0    22.0  87934.0    SAWE  \n",
       "118     18.0    57.0  87938.0    SAWH  \n",
       "119      6.0   450.0  87121.0    SANT  \n",
       "\n",
       "[120 rows x 9 columns]"
      ]
     },
     "execution_count": 11,
     "metadata": {},
     "output_type": "execute_result"
    }
   ],
   "source": [
    "df_est = pd.read_fwf(path+\"estaciones_smn.txt\", encoding='latin1', sep='\\t', skiprows=2, names=[\"ESTACION\", \"PROVINCIA\", \"LAT_GRAD\", \"LAT_MIN\", \"LON_GRAD\", \"LON_MIN\", \"ALTURA\", \"NUM\", \"NroOACI\"])\n",
    "df_est"
   ]
  },
  {
   "cell_type": "code",
   "execution_count": 12,
   "id": "70ca70cb",
   "metadata": {},
   "outputs": [],
   "source": [
    "# Aplicamos la fórmula y multiplicamos por -1 para ajustar al hemisferio correcto.\n",
    "df_est['LAT'] = (df_est['LAT_GRAD'] - df_est['LAT_MIN'] / 60)\n",
    "df_est['LON'] = (df_est['LON_GRAD'] - df_est['LON_MIN'] / 60)"
   ]
  },
  {
   "cell_type": "code",
   "execution_count": 13,
   "id": "28306cab",
   "metadata": {},
   "outputs": [
    {
     "data": {
      "text/html": [
       "<div>\n",
       "<style scoped>\n",
       "    .dataframe tbody tr th:only-of-type {\n",
       "        vertical-align: middle;\n",
       "    }\n",
       "\n",
       "    .dataframe tbody tr th {\n",
       "        vertical-align: top;\n",
       "    }\n",
       "\n",
       "    .dataframe thead th {\n",
       "        text-align: right;\n",
       "    }\n",
       "</style>\n",
       "<table border=\"1\" class=\"dataframe\">\n",
       "  <thead>\n",
       "    <tr style=\"text-align: right;\">\n",
       "      <th></th>\n",
       "      <th>ESTACION</th>\n",
       "      <th>PROVINCIA</th>\n",
       "      <th>LAT_GRAD</th>\n",
       "      <th>LAT_MIN</th>\n",
       "      <th>LON_GRAD</th>\n",
       "      <th>LON_MIN</th>\n",
       "      <th>ALTURA</th>\n",
       "      <th>NUM</th>\n",
       "      <th>NroOACI</th>\n",
       "      <th>LAT</th>\n",
       "      <th>LON</th>\n",
       "    </tr>\n",
       "  </thead>\n",
       "  <tbody>\n",
       "    <tr>\n",
       "      <th>0</th>\n",
       "      <td>BASE BELGRANO II</td>\n",
       "      <td>ANTARTIDA</td>\n",
       "      <td>-77.0</td>\n",
       "      <td>52.0</td>\n",
       "      <td>-34.0</td>\n",
       "      <td>37.0</td>\n",
       "      <td>256.0</td>\n",
       "      <td>89034.0</td>\n",
       "      <td>SAYB</td>\n",
       "      <td>-77.866667</td>\n",
       "      <td>-34.616667</td>\n",
       "    </tr>\n",
       "    <tr>\n",
       "      <th>1</th>\n",
       "      <td>BASE CARLINI (EX JUBANY)</td>\n",
       "      <td>ANTARTIDA</td>\n",
       "      <td>-62.0</td>\n",
       "      <td>14.0</td>\n",
       "      <td>-58.0</td>\n",
       "      <td>39.0</td>\n",
       "      <td>11.0</td>\n",
       "      <td>89053.0</td>\n",
       "      <td>SAYJ</td>\n",
       "      <td>-62.233333</td>\n",
       "      <td>-58.650000</td>\n",
       "    </tr>\n",
       "    <tr>\n",
       "      <th>2</th>\n",
       "      <td>BASE ESPERANZA</td>\n",
       "      <td>ANTARTIDA</td>\n",
       "      <td>-63.0</td>\n",
       "      <td>23.0</td>\n",
       "      <td>-56.0</td>\n",
       "      <td>59.0</td>\n",
       "      <td>24.0</td>\n",
       "      <td>88963.0</td>\n",
       "      <td>SAYE</td>\n",
       "      <td>-63.383333</td>\n",
       "      <td>-56.983333</td>\n",
       "    </tr>\n",
       "    <tr>\n",
       "      <th>3</th>\n",
       "      <td>BASE MARAMBIO</td>\n",
       "      <td>ANTARTIDA</td>\n",
       "      <td>-64.0</td>\n",
       "      <td>14.0</td>\n",
       "      <td>-56.0</td>\n",
       "      <td>37.0</td>\n",
       "      <td>198.0</td>\n",
       "      <td>89055.0</td>\n",
       "      <td>SAWB</td>\n",
       "      <td>-64.233333</td>\n",
       "      <td>-56.616667</td>\n",
       "    </tr>\n",
       "    <tr>\n",
       "      <th>4</th>\n",
       "      <td>BASE ORCADAS</td>\n",
       "      <td>ANTARTIDA</td>\n",
       "      <td>-60.0</td>\n",
       "      <td>44.0</td>\n",
       "      <td>-44.0</td>\n",
       "      <td>44.0</td>\n",
       "      <td>12.0</td>\n",
       "      <td>88968.0</td>\n",
       "      <td>SAYO</td>\n",
       "      <td>-60.733333</td>\n",
       "      <td>-44.733333</td>\n",
       "    </tr>\n",
       "    <tr>\n",
       "      <th>...</th>\n",
       "      <td>...</td>\n",
       "      <td>...</td>\n",
       "      <td>...</td>\n",
       "      <td>...</td>\n",
       "      <td>...</td>\n",
       "      <td>...</td>\n",
       "      <td>...</td>\n",
       "      <td>...</td>\n",
       "      <td>...</td>\n",
       "      <td>...</td>\n",
       "      <td>...</td>\n",
       "    </tr>\n",
       "    <tr>\n",
       "      <th>115</th>\n",
       "      <td>SANTIAGO DEL ESTERO AERO</td>\n",
       "      <td>SANTIAGO DEL ES</td>\n",
       "      <td>-27.0</td>\n",
       "      <td>45.0</td>\n",
       "      <td>-64.0</td>\n",
       "      <td>17.0</td>\n",
       "      <td>199.0</td>\n",
       "      <td>87129.0</td>\n",
       "      <td>SANE</td>\n",
       "      <td>-27.750000</td>\n",
       "      <td>-64.283333</td>\n",
       "    </tr>\n",
       "    <tr>\n",
       "      <th>116</th>\n",
       "      <td>TERMAS DE RIO HONDO AERO</td>\n",
       "      <td>SANTIAGO DEL ES</td>\n",
       "      <td>-27.0</td>\n",
       "      <td>30.0</td>\n",
       "      <td>-64.0</td>\n",
       "      <td>56.0</td>\n",
       "      <td>280.0</td>\n",
       "      <td>87127.0</td>\n",
       "      <td>SANR</td>\n",
       "      <td>-27.500000</td>\n",
       "      <td>-64.933333</td>\n",
       "    </tr>\n",
       "    <tr>\n",
       "      <th>117</th>\n",
       "      <td>RIO GRANDE B.A.</td>\n",
       "      <td>TIERRA DEL FUEG</td>\n",
       "      <td>-53.0</td>\n",
       "      <td>46.0</td>\n",
       "      <td>-67.0</td>\n",
       "      <td>45.0</td>\n",
       "      <td>22.0</td>\n",
       "      <td>87934.0</td>\n",
       "      <td>SAWE</td>\n",
       "      <td>-53.766667</td>\n",
       "      <td>-67.750000</td>\n",
       "    </tr>\n",
       "    <tr>\n",
       "      <th>118</th>\n",
       "      <td>USHUAIA AERO</td>\n",
       "      <td>TIERRA DEL FUEG</td>\n",
       "      <td>-54.0</td>\n",
       "      <td>50.0</td>\n",
       "      <td>-68.0</td>\n",
       "      <td>18.0</td>\n",
       "      <td>57.0</td>\n",
       "      <td>87938.0</td>\n",
       "      <td>SAWH</td>\n",
       "      <td>-54.833333</td>\n",
       "      <td>-68.300000</td>\n",
       "    </tr>\n",
       "    <tr>\n",
       "      <th>119</th>\n",
       "      <td>TUCUMAN AERO</td>\n",
       "      <td>TUCUMAN</td>\n",
       "      <td>-26.0</td>\n",
       "      <td>50.0</td>\n",
       "      <td>-65.0</td>\n",
       "      <td>6.0</td>\n",
       "      <td>450.0</td>\n",
       "      <td>87121.0</td>\n",
       "      <td>SANT</td>\n",
       "      <td>-26.833333</td>\n",
       "      <td>-65.100000</td>\n",
       "    </tr>\n",
       "  </tbody>\n",
       "</table>\n",
       "<p>120 rows × 11 columns</p>\n",
       "</div>"
      ],
      "text/plain": [
       "                     ESTACION        PROVINCIA  LAT_GRAD  LAT_MIN  LON_GRAD  \\\n",
       "0            BASE BELGRANO II        ANTARTIDA     -77.0     52.0     -34.0   \n",
       "1    BASE CARLINI (EX JUBANY)        ANTARTIDA     -62.0     14.0     -58.0   \n",
       "2              BASE ESPERANZA        ANTARTIDA     -63.0     23.0     -56.0   \n",
       "3               BASE MARAMBIO        ANTARTIDA     -64.0     14.0     -56.0   \n",
       "4                BASE ORCADAS        ANTARTIDA     -60.0     44.0     -44.0   \n",
       "..                        ...              ...       ...      ...       ...   \n",
       "115  SANTIAGO DEL ESTERO AERO  SANTIAGO DEL ES     -27.0     45.0     -64.0   \n",
       "116  TERMAS DE RIO HONDO AERO  SANTIAGO DEL ES     -27.0     30.0     -64.0   \n",
       "117           RIO GRANDE B.A.  TIERRA DEL FUEG     -53.0     46.0     -67.0   \n",
       "118              USHUAIA AERO  TIERRA DEL FUEG     -54.0     50.0     -68.0   \n",
       "119              TUCUMAN AERO          TUCUMAN     -26.0     50.0     -65.0   \n",
       "\n",
       "     LON_MIN  ALTURA      NUM NroOACI        LAT        LON  \n",
       "0       37.0   256.0  89034.0    SAYB -77.866667 -34.616667  \n",
       "1       39.0    11.0  89053.0    SAYJ -62.233333 -58.650000  \n",
       "2       59.0    24.0  88963.0    SAYE -63.383333 -56.983333  \n",
       "3       37.0   198.0  89055.0    SAWB -64.233333 -56.616667  \n",
       "4       44.0    12.0  88968.0    SAYO -60.733333 -44.733333  \n",
       "..       ...     ...      ...     ...        ...        ...  \n",
       "115     17.0   199.0  87129.0    SANE -27.750000 -64.283333  \n",
       "116     56.0   280.0  87127.0    SANR -27.500000 -64.933333  \n",
       "117     45.0    22.0  87934.0    SAWE -53.766667 -67.750000  \n",
       "118     18.0    57.0  87938.0    SAWH -54.833333 -68.300000  \n",
       "119      6.0   450.0  87121.0    SANT -26.833333 -65.100000  \n",
       "\n",
       "[120 rows x 11 columns]"
      ]
     },
     "execution_count": 13,
     "metadata": {},
     "output_type": "execute_result"
    }
   ],
   "source": [
    "df_est"
   ]
  },
  {
   "cell_type": "code",
   "execution_count": 33,
   "id": "821996e1",
   "metadata": {},
   "outputs": [
    {
     "data": {
      "text/html": [
       "<div>\n",
       "<style scoped>\n",
       "    .dataframe tbody tr th:only-of-type {\n",
       "        vertical-align: middle;\n",
       "    }\n",
       "\n",
       "    .dataframe tbody tr th {\n",
       "        vertical-align: top;\n",
       "    }\n",
       "\n",
       "    .dataframe thead th {\n",
       "        text-align: right;\n",
       "    }\n",
       "</style>\n",
       "<table border=\"1\" class=\"dataframe\">\n",
       "  <thead>\n",
       "    <tr style=\"text-align: right;\">\n",
       "      <th></th>\n",
       "      <th>FECHA (ddmmyyyy)</th>\n",
       "      <th>HORA</th>\n",
       "      <th>TEMP (°C)</th>\n",
       "      <th>HUM (%)</th>\n",
       "      <th>PNM (hPa)</th>\n",
       "      <th>DD (g)</th>\n",
       "      <th>FF (km/h)</th>\n",
       "      <th>ESTACION</th>\n",
       "      <th>PROVINCIA</th>\n",
       "      <th>LAT_GRAD</th>\n",
       "      <th>LAT_MIN</th>\n",
       "      <th>LON_GRAD</th>\n",
       "      <th>LON_MIN</th>\n",
       "      <th>ALTURA</th>\n",
       "      <th>NUM</th>\n",
       "      <th>NroOACI</th>\n",
       "      <th>LAT</th>\n",
       "      <th>LON</th>\n",
       "    </tr>\n",
       "  </thead>\n",
       "  <tbody>\n",
       "    <tr>\n",
       "      <th>0</th>\n",
       "      <td>2025-07-15</td>\n",
       "      <td>0</td>\n",
       "      <td>13.7</td>\n",
       "      <td>88</td>\n",
       "      <td>1020.2</td>\n",
       "      <td>80</td>\n",
       "      <td>13</td>\n",
       "      <td>AEROPARQUE AERO</td>\n",
       "      <td>CAPITAL FEDERAL</td>\n",
       "      <td>-34.0</td>\n",
       "      <td>33.0</td>\n",
       "      <td>-58.0</td>\n",
       "      <td>25.0</td>\n",
       "      <td>6.0</td>\n",
       "      <td>87582.0</td>\n",
       "      <td>SABE</td>\n",
       "      <td>-34.550000</td>\n",
       "      <td>-58.416667</td>\n",
       "    </tr>\n",
       "    <tr>\n",
       "      <th>1</th>\n",
       "      <td>2025-07-15</td>\n",
       "      <td>1</td>\n",
       "      <td>13.6</td>\n",
       "      <td>91</td>\n",
       "      <td>1019.6</td>\n",
       "      <td>80</td>\n",
       "      <td>11</td>\n",
       "      <td>AEROPARQUE AERO</td>\n",
       "      <td>CAPITAL FEDERAL</td>\n",
       "      <td>-34.0</td>\n",
       "      <td>33.0</td>\n",
       "      <td>-58.0</td>\n",
       "      <td>25.0</td>\n",
       "      <td>6.0</td>\n",
       "      <td>87582.0</td>\n",
       "      <td>SABE</td>\n",
       "      <td>-34.550000</td>\n",
       "      <td>-58.416667</td>\n",
       "    </tr>\n",
       "    <tr>\n",
       "      <th>2</th>\n",
       "      <td>2025-07-15</td>\n",
       "      <td>2</td>\n",
       "      <td>13.4</td>\n",
       "      <td>91</td>\n",
       "      <td>1019.3</td>\n",
       "      <td>80</td>\n",
       "      <td>11</td>\n",
       "      <td>AEROPARQUE AERO</td>\n",
       "      <td>CAPITAL FEDERAL</td>\n",
       "      <td>-34.0</td>\n",
       "      <td>33.0</td>\n",
       "      <td>-58.0</td>\n",
       "      <td>25.0</td>\n",
       "      <td>6.0</td>\n",
       "      <td>87582.0</td>\n",
       "      <td>SABE</td>\n",
       "      <td>-34.550000</td>\n",
       "      <td>-58.416667</td>\n",
       "    </tr>\n",
       "    <tr>\n",
       "      <th>3</th>\n",
       "      <td>2025-07-15</td>\n",
       "      <td>3</td>\n",
       "      <td>13.4</td>\n",
       "      <td>94</td>\n",
       "      <td>1018.7</td>\n",
       "      <td>80</td>\n",
       "      <td>13</td>\n",
       "      <td>AEROPARQUE AERO</td>\n",
       "      <td>CAPITAL FEDERAL</td>\n",
       "      <td>-34.0</td>\n",
       "      <td>33.0</td>\n",
       "      <td>-58.0</td>\n",
       "      <td>25.0</td>\n",
       "      <td>6.0</td>\n",
       "      <td>87582.0</td>\n",
       "      <td>SABE</td>\n",
       "      <td>-34.550000</td>\n",
       "      <td>-58.416667</td>\n",
       "    </tr>\n",
       "    <tr>\n",
       "      <th>4</th>\n",
       "      <td>2025-07-15</td>\n",
       "      <td>4</td>\n",
       "      <td>13.7</td>\n",
       "      <td>91</td>\n",
       "      <td>1018.2</td>\n",
       "      <td>90</td>\n",
       "      <td>9</td>\n",
       "      <td>AEROPARQUE AERO</td>\n",
       "      <td>CAPITAL FEDERAL</td>\n",
       "      <td>-34.0</td>\n",
       "      <td>33.0</td>\n",
       "      <td>-58.0</td>\n",
       "      <td>25.0</td>\n",
       "      <td>6.0</td>\n",
       "      <td>87582.0</td>\n",
       "      <td>SABE</td>\n",
       "      <td>-34.550000</td>\n",
       "      <td>-58.416667</td>\n",
       "    </tr>\n",
       "    <tr>\n",
       "      <th>...</th>\n",
       "      <td>...</td>\n",
       "      <td>...</td>\n",
       "      <td>...</td>\n",
       "      <td>...</td>\n",
       "      <td>...</td>\n",
       "      <td>...</td>\n",
       "      <td>...</td>\n",
       "      <td>...</td>\n",
       "      <td>...</td>\n",
       "      <td>...</td>\n",
       "      <td>...</td>\n",
       "      <td>...</td>\n",
       "      <td>...</td>\n",
       "      <td>...</td>\n",
       "      <td>...</td>\n",
       "      <td>...</td>\n",
       "      <td>...</td>\n",
       "      <td>...</td>\n",
       "    </tr>\n",
       "    <tr>\n",
       "      <th>2099</th>\n",
       "      <td>2025-07-15</td>\n",
       "      <td>20</td>\n",
       "      <td>14.8</td>\n",
       "      <td>83</td>\n",
       "      <td>1015.8</td>\n",
       "      <td>180</td>\n",
       "      <td>19</td>\n",
       "      <td>VILLA REYNOLDS AE</td>\n",
       "      <td>NaN</td>\n",
       "      <td>NaN</td>\n",
       "      <td>NaN</td>\n",
       "      <td>NaN</td>\n",
       "      <td>NaN</td>\n",
       "      <td>NaN</td>\n",
       "      <td>NaN</td>\n",
       "      <td>NaN</td>\n",
       "      <td>NaN</td>\n",
       "      <td>NaN</td>\n",
       "    </tr>\n",
       "    <tr>\n",
       "      <th>2100</th>\n",
       "      <td>2025-07-15</td>\n",
       "      <td>21</td>\n",
       "      <td>14.0</td>\n",
       "      <td>89</td>\n",
       "      <td>1016.4</td>\n",
       "      <td>180</td>\n",
       "      <td>17</td>\n",
       "      <td>VILLA REYNOLDS AE</td>\n",
       "      <td>NaN</td>\n",
       "      <td>NaN</td>\n",
       "      <td>NaN</td>\n",
       "      <td>NaN</td>\n",
       "      <td>NaN</td>\n",
       "      <td>NaN</td>\n",
       "      <td>NaN</td>\n",
       "      <td>NaN</td>\n",
       "      <td>NaN</td>\n",
       "      <td>NaN</td>\n",
       "    </tr>\n",
       "    <tr>\n",
       "      <th>2101</th>\n",
       "      <td>2025-07-15</td>\n",
       "      <td>22</td>\n",
       "      <td>11.6</td>\n",
       "      <td>96</td>\n",
       "      <td>1017.9</td>\n",
       "      <td>140</td>\n",
       "      <td>41</td>\n",
       "      <td>VILLA REYNOLDS AE</td>\n",
       "      <td>NaN</td>\n",
       "      <td>NaN</td>\n",
       "      <td>NaN</td>\n",
       "      <td>NaN</td>\n",
       "      <td>NaN</td>\n",
       "      <td>NaN</td>\n",
       "      <td>NaN</td>\n",
       "      <td>NaN</td>\n",
       "      <td>NaN</td>\n",
       "      <td>NaN</td>\n",
       "    </tr>\n",
       "    <tr>\n",
       "      <th>2102</th>\n",
       "      <td>2025-07-15</td>\n",
       "      <td>23</td>\n",
       "      <td>7.4</td>\n",
       "      <td>88</td>\n",
       "      <td>1021.3</td>\n",
       "      <td>180</td>\n",
       "      <td>19</td>\n",
       "      <td>VILLA REYNOLDS AE</td>\n",
       "      <td>NaN</td>\n",
       "      <td>NaN</td>\n",
       "      <td>NaN</td>\n",
       "      <td>NaN</td>\n",
       "      <td>NaN</td>\n",
       "      <td>NaN</td>\n",
       "      <td>NaN</td>\n",
       "      <td>NaN</td>\n",
       "      <td>NaN</td>\n",
       "      <td>NaN</td>\n",
       "    </tr>\n",
       "    <tr>\n",
       "      <th>2103</th>\n",
       "      <td>NaT</td>\n",
       "      <td>&lt;NA&gt;</td>\n",
       "      <td>&lt;NA&gt;</td>\n",
       "      <td>&lt;NA&gt;</td>\n",
       "      <td>NaN</td>\n",
       "      <td>&lt;NA&gt;</td>\n",
       "      <td>&lt;NA&gt;</td>\n",
       "      <td>VILLA REYNOLDS AERO</td>\n",
       "      <td>SAN LUIS</td>\n",
       "      <td>-33.0</td>\n",
       "      <td>43.0</td>\n",
       "      <td>-65.0</td>\n",
       "      <td>22.0</td>\n",
       "      <td>486.0</td>\n",
       "      <td>87448.0</td>\n",
       "      <td>SAOR</td>\n",
       "      <td>-33.716667</td>\n",
       "      <td>-65.366667</td>\n",
       "    </tr>\n",
       "  </tbody>\n",
       "</table>\n",
       "<p>2104 rows × 18 columns</p>\n",
       "</div>"
      ],
      "text/plain": [
       "     FECHA (ddmmyyyy)  HORA  TEMP (°C)  HUM (%)  PNM (hPa)  DD (g)  FF (km/h)  \\\n",
       "0          2025-07-15     0       13.7       88     1020.2      80         13   \n",
       "1          2025-07-15     1       13.6       91     1019.6      80         11   \n",
       "2          2025-07-15     2       13.4       91     1019.3      80         11   \n",
       "3          2025-07-15     3       13.4       94     1018.7      80         13   \n",
       "4          2025-07-15     4       13.7       91     1018.2      90          9   \n",
       "...               ...   ...        ...      ...        ...     ...        ...   \n",
       "2099       2025-07-15    20       14.8       83     1015.8     180         19   \n",
       "2100       2025-07-15    21       14.0       89     1016.4     180         17   \n",
       "2101       2025-07-15    22       11.6       96     1017.9     140         41   \n",
       "2102       2025-07-15    23        7.4       88     1021.3     180         19   \n",
       "2103              NaT  <NA>       <NA>     <NA>        NaN    <NA>       <NA>   \n",
       "\n",
       "                 ESTACION        PROVINCIA  LAT_GRAD  LAT_MIN  LON_GRAD  \\\n",
       "0         AEROPARQUE AERO  CAPITAL FEDERAL     -34.0     33.0     -58.0   \n",
       "1         AEROPARQUE AERO  CAPITAL FEDERAL     -34.0     33.0     -58.0   \n",
       "2         AEROPARQUE AERO  CAPITAL FEDERAL     -34.0     33.0     -58.0   \n",
       "3         AEROPARQUE AERO  CAPITAL FEDERAL     -34.0     33.0     -58.0   \n",
       "4         AEROPARQUE AERO  CAPITAL FEDERAL     -34.0     33.0     -58.0   \n",
       "...                   ...              ...       ...      ...       ...   \n",
       "2099    VILLA REYNOLDS AE              NaN       NaN      NaN       NaN   \n",
       "2100    VILLA REYNOLDS AE              NaN       NaN      NaN       NaN   \n",
       "2101    VILLA REYNOLDS AE              NaN       NaN      NaN       NaN   \n",
       "2102    VILLA REYNOLDS AE              NaN       NaN      NaN       NaN   \n",
       "2103  VILLA REYNOLDS AERO         SAN LUIS     -33.0     43.0     -65.0   \n",
       "\n",
       "      LON_MIN  ALTURA      NUM NroOACI        LAT        LON  \n",
       "0        25.0     6.0  87582.0    SABE -34.550000 -58.416667  \n",
       "1        25.0     6.0  87582.0    SABE -34.550000 -58.416667  \n",
       "2        25.0     6.0  87582.0    SABE -34.550000 -58.416667  \n",
       "3        25.0     6.0  87582.0    SABE -34.550000 -58.416667  \n",
       "4        25.0     6.0  87582.0    SABE -34.550000 -58.416667  \n",
       "...       ...     ...      ...     ...        ...        ...  \n",
       "2099      NaN     NaN      NaN     NaN        NaN        NaN  \n",
       "2100      NaN     NaN      NaN     NaN        NaN        NaN  \n",
       "2101      NaN     NaN      NaN     NaN        NaN        NaN  \n",
       "2102      NaN     NaN      NaN     NaN        NaN        NaN  \n",
       "2103     22.0   486.0  87448.0    SAOR -33.716667 -65.366667  \n",
       "\n",
       "[2104 rows x 18 columns]"
      ]
     },
     "execution_count": 33,
     "metadata": {},
     "output_type": "execute_result"
    }
   ],
   "source": [
    "df_combinado = pd.merge(df_hor, df_est, on='ESTACION', how='outer')\n",
    "df_combinado"
   ]
  },
  {
   "cell_type": "code",
   "execution_count": 34,
   "id": "bad213f9",
   "metadata": {},
   "outputs": [
    {
     "data": {
      "text/html": [
       "<div>\n",
       "<style scoped>\n",
       "    .dataframe tbody tr th:only-of-type {\n",
       "        vertical-align: middle;\n",
       "    }\n",
       "\n",
       "    .dataframe tbody tr th {\n",
       "        vertical-align: top;\n",
       "    }\n",
       "\n",
       "    .dataframe thead th {\n",
       "        text-align: right;\n",
       "    }\n",
       "</style>\n",
       "<table border=\"1\" class=\"dataframe\">\n",
       "  <thead>\n",
       "    <tr style=\"text-align: right;\">\n",
       "      <th></th>\n",
       "      <th>HORA</th>\n",
       "      <th>TEMP (°C)</th>\n",
       "      <th>HUM (%)</th>\n",
       "      <th>PNM (hPa)</th>\n",
       "      <th>DD (g)</th>\n",
       "      <th>FF (km/h)</th>\n",
       "      <th>PROVINCIA</th>\n",
       "      <th>ALTURA</th>\n",
       "      <th>LAT</th>\n",
       "      <th>LON</th>\n",
       "    </tr>\n",
       "  </thead>\n",
       "  <tbody>\n",
       "    <tr>\n",
       "      <th>0</th>\n",
       "      <td>0</td>\n",
       "      <td>13.7</td>\n",
       "      <td>88</td>\n",
       "      <td>1020.2</td>\n",
       "      <td>80</td>\n",
       "      <td>13</td>\n",
       "      <td>CAPITAL FEDERAL</td>\n",
       "      <td>6.0</td>\n",
       "      <td>-34.550000</td>\n",
       "      <td>-58.416667</td>\n",
       "    </tr>\n",
       "    <tr>\n",
       "      <th>1</th>\n",
       "      <td>1</td>\n",
       "      <td>13.6</td>\n",
       "      <td>91</td>\n",
       "      <td>1019.6</td>\n",
       "      <td>80</td>\n",
       "      <td>11</td>\n",
       "      <td>CAPITAL FEDERAL</td>\n",
       "      <td>6.0</td>\n",
       "      <td>-34.550000</td>\n",
       "      <td>-58.416667</td>\n",
       "    </tr>\n",
       "    <tr>\n",
       "      <th>2</th>\n",
       "      <td>2</td>\n",
       "      <td>13.4</td>\n",
       "      <td>91</td>\n",
       "      <td>1019.3</td>\n",
       "      <td>80</td>\n",
       "      <td>11</td>\n",
       "      <td>CAPITAL FEDERAL</td>\n",
       "      <td>6.0</td>\n",
       "      <td>-34.550000</td>\n",
       "      <td>-58.416667</td>\n",
       "    </tr>\n",
       "    <tr>\n",
       "      <th>3</th>\n",
       "      <td>3</td>\n",
       "      <td>13.4</td>\n",
       "      <td>94</td>\n",
       "      <td>1018.7</td>\n",
       "      <td>80</td>\n",
       "      <td>13</td>\n",
       "      <td>CAPITAL FEDERAL</td>\n",
       "      <td>6.0</td>\n",
       "      <td>-34.550000</td>\n",
       "      <td>-58.416667</td>\n",
       "    </tr>\n",
       "    <tr>\n",
       "      <th>4</th>\n",
       "      <td>4</td>\n",
       "      <td>13.7</td>\n",
       "      <td>91</td>\n",
       "      <td>1018.2</td>\n",
       "      <td>90</td>\n",
       "      <td>9</td>\n",
       "      <td>CAPITAL FEDERAL</td>\n",
       "      <td>6.0</td>\n",
       "      <td>-34.550000</td>\n",
       "      <td>-58.416667</td>\n",
       "    </tr>\n",
       "    <tr>\n",
       "      <th>...</th>\n",
       "      <td>...</td>\n",
       "      <td>...</td>\n",
       "      <td>...</td>\n",
       "      <td>...</td>\n",
       "      <td>...</td>\n",
       "      <td>...</td>\n",
       "      <td>...</td>\n",
       "      <td>...</td>\n",
       "      <td>...</td>\n",
       "      <td>...</td>\n",
       "    </tr>\n",
       "    <tr>\n",
       "      <th>2099</th>\n",
       "      <td>20</td>\n",
       "      <td>14.8</td>\n",
       "      <td>83</td>\n",
       "      <td>1015.8</td>\n",
       "      <td>180</td>\n",
       "      <td>19</td>\n",
       "      <td>NaN</td>\n",
       "      <td>NaN</td>\n",
       "      <td>NaN</td>\n",
       "      <td>NaN</td>\n",
       "    </tr>\n",
       "    <tr>\n",
       "      <th>2100</th>\n",
       "      <td>21</td>\n",
       "      <td>14.0</td>\n",
       "      <td>89</td>\n",
       "      <td>1016.4</td>\n",
       "      <td>180</td>\n",
       "      <td>17</td>\n",
       "      <td>NaN</td>\n",
       "      <td>NaN</td>\n",
       "      <td>NaN</td>\n",
       "      <td>NaN</td>\n",
       "    </tr>\n",
       "    <tr>\n",
       "      <th>2101</th>\n",
       "      <td>22</td>\n",
       "      <td>11.6</td>\n",
       "      <td>96</td>\n",
       "      <td>1017.9</td>\n",
       "      <td>140</td>\n",
       "      <td>41</td>\n",
       "      <td>NaN</td>\n",
       "      <td>NaN</td>\n",
       "      <td>NaN</td>\n",
       "      <td>NaN</td>\n",
       "    </tr>\n",
       "    <tr>\n",
       "      <th>2102</th>\n",
       "      <td>23</td>\n",
       "      <td>7.4</td>\n",
       "      <td>88</td>\n",
       "      <td>1021.3</td>\n",
       "      <td>180</td>\n",
       "      <td>19</td>\n",
       "      <td>NaN</td>\n",
       "      <td>NaN</td>\n",
       "      <td>NaN</td>\n",
       "      <td>NaN</td>\n",
       "    </tr>\n",
       "    <tr>\n",
       "      <th>2103</th>\n",
       "      <td>&lt;NA&gt;</td>\n",
       "      <td>&lt;NA&gt;</td>\n",
       "      <td>&lt;NA&gt;</td>\n",
       "      <td>NaN</td>\n",
       "      <td>&lt;NA&gt;</td>\n",
       "      <td>&lt;NA&gt;</td>\n",
       "      <td>SAN LUIS</td>\n",
       "      <td>486.0</td>\n",
       "      <td>-33.716667</td>\n",
       "      <td>-65.366667</td>\n",
       "    </tr>\n",
       "  </tbody>\n",
       "</table>\n",
       "<p>2104 rows × 10 columns</p>\n",
       "</div>"
      ],
      "text/plain": [
       "      HORA  TEMP (°C)  HUM (%)  PNM (hPa)  DD (g)  FF (km/h)        PROVINCIA  \\\n",
       "0        0       13.7       88     1020.2      80         13  CAPITAL FEDERAL   \n",
       "1        1       13.6       91     1019.6      80         11  CAPITAL FEDERAL   \n",
       "2        2       13.4       91     1019.3      80         11  CAPITAL FEDERAL   \n",
       "3        3       13.4       94     1018.7      80         13  CAPITAL FEDERAL   \n",
       "4        4       13.7       91     1018.2      90          9  CAPITAL FEDERAL   \n",
       "...    ...        ...      ...        ...     ...        ...              ...   \n",
       "2099    20       14.8       83     1015.8     180         19              NaN   \n",
       "2100    21       14.0       89     1016.4     180         17              NaN   \n",
       "2101    22       11.6       96     1017.9     140         41              NaN   \n",
       "2102    23        7.4       88     1021.3     180         19              NaN   \n",
       "2103  <NA>       <NA>     <NA>        NaN    <NA>       <NA>         SAN LUIS   \n",
       "\n",
       "      ALTURA        LAT        LON  \n",
       "0        6.0 -34.550000 -58.416667  \n",
       "1        6.0 -34.550000 -58.416667  \n",
       "2        6.0 -34.550000 -58.416667  \n",
       "3        6.0 -34.550000 -58.416667  \n",
       "4        6.0 -34.550000 -58.416667  \n",
       "...      ...        ...        ...  \n",
       "2099     NaN        NaN        NaN  \n",
       "2100     NaN        NaN        NaN  \n",
       "2101     NaN        NaN        NaN  \n",
       "2102     NaN        NaN        NaN  \n",
       "2103   486.0 -33.716667 -65.366667  \n",
       "\n",
       "[2104 rows x 10 columns]"
      ]
     },
     "execution_count": 34,
     "metadata": {},
     "output_type": "execute_result"
    }
   ],
   "source": [
    "df_ok = df_combinado.drop(columns=[\"FECHA (ddmmyyyy)\", \"ESTACION\", \"LAT_GRAD\", \"LAT_MIN\", \"LON_GRAD\", \"LON_MIN\", \"NUM\", \"NroOACI\"])\n",
    "df_ok"
   ]
  },
  {
   "cell_type": "code",
   "execution_count": 35,
   "id": "c848a4b2",
   "metadata": {},
   "outputs": [],
   "source": [
    "# Creamos características para la hora que entienden los ciclos diarios\n",
    "df_ok['HORA_sen'] = np.sin(2 * np.pi * df_ok['HORA']/24.0)\n",
    "df_ok['HORA_cos'] = np.cos(2 * np.pi * df_ok['HORA']/24.0)"
   ]
  },
  {
   "cell_type": "code",
   "execution_count": 36,
   "id": "ec868b5b",
   "metadata": {},
   "outputs": [],
   "source": [
    "df_ok.drop(\"HORA\", axis=1, inplace=True)  # Eliminamos la columna HORA original, ya que no la utilizaremos"
   ]
  },
  {
   "cell_type": "code",
   "execution_count": 37,
   "id": "65a96d39",
   "metadata": {},
   "outputs": [],
   "source": [
    "df_ok = pd.get_dummies(df_ok, columns=['PROVINCIA'], prefix='PROV', drop_first=True)  # Convertimos la columna PROVINCIA en variables dummy, eliminando la primera para evitar la trampa de la variable ficticia"
   ]
  },
  {
   "cell_type": "code",
   "execution_count": 38,
   "id": "4839182d",
   "metadata": {},
   "outputs": [
    {
     "data": {
      "text/html": [
       "<div>\n",
       "<style scoped>\n",
       "    .dataframe tbody tr th:only-of-type {\n",
       "        vertical-align: middle;\n",
       "    }\n",
       "\n",
       "    .dataframe tbody tr th {\n",
       "        vertical-align: top;\n",
       "    }\n",
       "\n",
       "    .dataframe thead th {\n",
       "        text-align: right;\n",
       "    }\n",
       "</style>\n",
       "<table border=\"1\" class=\"dataframe\">\n",
       "  <thead>\n",
       "    <tr style=\"text-align: right;\">\n",
       "      <th></th>\n",
       "      <th>TEMP (°C)</th>\n",
       "      <th>HUM (%)</th>\n",
       "      <th>PNM (hPa)</th>\n",
       "      <th>DD (g)</th>\n",
       "      <th>FF (km/h)</th>\n",
       "      <th>ALTURA</th>\n",
       "      <th>LAT</th>\n",
       "      <th>LON</th>\n",
       "      <th>HORA_sen</th>\n",
       "      <th>HORA_cos</th>\n",
       "      <th>...</th>\n",
       "      <th>PROV_NEUQUEN</th>\n",
       "      <th>PROV_RIO NEGRO</th>\n",
       "      <th>PROV_SALTA</th>\n",
       "      <th>PROV_SAN JUAN</th>\n",
       "      <th>PROV_SAN LUIS</th>\n",
       "      <th>PROV_SANTA CRUZ</th>\n",
       "      <th>PROV_SANTA FE</th>\n",
       "      <th>PROV_SANTIAGO DEL ES</th>\n",
       "      <th>PROV_TIERRA DEL FUEG</th>\n",
       "      <th>PROV_TUCUMAN</th>\n",
       "    </tr>\n",
       "  </thead>\n",
       "  <tbody>\n",
       "    <tr>\n",
       "      <th>0</th>\n",
       "      <td>13.7</td>\n",
       "      <td>88</td>\n",
       "      <td>1020.2</td>\n",
       "      <td>80</td>\n",
       "      <td>13</td>\n",
       "      <td>6.0</td>\n",
       "      <td>-34.550000</td>\n",
       "      <td>-58.416667</td>\n",
       "      <td>0.0</td>\n",
       "      <td>1.0</td>\n",
       "      <td>...</td>\n",
       "      <td>False</td>\n",
       "      <td>False</td>\n",
       "      <td>False</td>\n",
       "      <td>False</td>\n",
       "      <td>False</td>\n",
       "      <td>False</td>\n",
       "      <td>False</td>\n",
       "      <td>False</td>\n",
       "      <td>False</td>\n",
       "      <td>False</td>\n",
       "    </tr>\n",
       "    <tr>\n",
       "      <th>1</th>\n",
       "      <td>13.6</td>\n",
       "      <td>91</td>\n",
       "      <td>1019.6</td>\n",
       "      <td>80</td>\n",
       "      <td>11</td>\n",
       "      <td>6.0</td>\n",
       "      <td>-34.550000</td>\n",
       "      <td>-58.416667</td>\n",
       "      <td>0.258819</td>\n",
       "      <td>0.965926</td>\n",
       "      <td>...</td>\n",
       "      <td>False</td>\n",
       "      <td>False</td>\n",
       "      <td>False</td>\n",
       "      <td>False</td>\n",
       "      <td>False</td>\n",
       "      <td>False</td>\n",
       "      <td>False</td>\n",
       "      <td>False</td>\n",
       "      <td>False</td>\n",
       "      <td>False</td>\n",
       "    </tr>\n",
       "    <tr>\n",
       "      <th>2</th>\n",
       "      <td>13.4</td>\n",
       "      <td>91</td>\n",
       "      <td>1019.3</td>\n",
       "      <td>80</td>\n",
       "      <td>11</td>\n",
       "      <td>6.0</td>\n",
       "      <td>-34.550000</td>\n",
       "      <td>-58.416667</td>\n",
       "      <td>0.5</td>\n",
       "      <td>0.866025</td>\n",
       "      <td>...</td>\n",
       "      <td>False</td>\n",
       "      <td>False</td>\n",
       "      <td>False</td>\n",
       "      <td>False</td>\n",
       "      <td>False</td>\n",
       "      <td>False</td>\n",
       "      <td>False</td>\n",
       "      <td>False</td>\n",
       "      <td>False</td>\n",
       "      <td>False</td>\n",
       "    </tr>\n",
       "    <tr>\n",
       "      <th>3</th>\n",
       "      <td>13.4</td>\n",
       "      <td>94</td>\n",
       "      <td>1018.7</td>\n",
       "      <td>80</td>\n",
       "      <td>13</td>\n",
       "      <td>6.0</td>\n",
       "      <td>-34.550000</td>\n",
       "      <td>-58.416667</td>\n",
       "      <td>0.707107</td>\n",
       "      <td>0.707107</td>\n",
       "      <td>...</td>\n",
       "      <td>False</td>\n",
       "      <td>False</td>\n",
       "      <td>False</td>\n",
       "      <td>False</td>\n",
       "      <td>False</td>\n",
       "      <td>False</td>\n",
       "      <td>False</td>\n",
       "      <td>False</td>\n",
       "      <td>False</td>\n",
       "      <td>False</td>\n",
       "    </tr>\n",
       "    <tr>\n",
       "      <th>4</th>\n",
       "      <td>13.7</td>\n",
       "      <td>91</td>\n",
       "      <td>1018.2</td>\n",
       "      <td>90</td>\n",
       "      <td>9</td>\n",
       "      <td>6.0</td>\n",
       "      <td>-34.550000</td>\n",
       "      <td>-58.416667</td>\n",
       "      <td>0.866025</td>\n",
       "      <td>0.5</td>\n",
       "      <td>...</td>\n",
       "      <td>False</td>\n",
       "      <td>False</td>\n",
       "      <td>False</td>\n",
       "      <td>False</td>\n",
       "      <td>False</td>\n",
       "      <td>False</td>\n",
       "      <td>False</td>\n",
       "      <td>False</td>\n",
       "      <td>False</td>\n",
       "      <td>False</td>\n",
       "    </tr>\n",
       "    <tr>\n",
       "      <th>...</th>\n",
       "      <td>...</td>\n",
       "      <td>...</td>\n",
       "      <td>...</td>\n",
       "      <td>...</td>\n",
       "      <td>...</td>\n",
       "      <td>...</td>\n",
       "      <td>...</td>\n",
       "      <td>...</td>\n",
       "      <td>...</td>\n",
       "      <td>...</td>\n",
       "      <td>...</td>\n",
       "      <td>...</td>\n",
       "      <td>...</td>\n",
       "      <td>...</td>\n",
       "      <td>...</td>\n",
       "      <td>...</td>\n",
       "      <td>...</td>\n",
       "      <td>...</td>\n",
       "      <td>...</td>\n",
       "      <td>...</td>\n",
       "      <td>...</td>\n",
       "    </tr>\n",
       "    <tr>\n",
       "      <th>2099</th>\n",
       "      <td>14.8</td>\n",
       "      <td>83</td>\n",
       "      <td>1015.8</td>\n",
       "      <td>180</td>\n",
       "      <td>19</td>\n",
       "      <td>NaN</td>\n",
       "      <td>NaN</td>\n",
       "      <td>NaN</td>\n",
       "      <td>-0.866025</td>\n",
       "      <td>0.5</td>\n",
       "      <td>...</td>\n",
       "      <td>False</td>\n",
       "      <td>False</td>\n",
       "      <td>False</td>\n",
       "      <td>False</td>\n",
       "      <td>False</td>\n",
       "      <td>False</td>\n",
       "      <td>False</td>\n",
       "      <td>False</td>\n",
       "      <td>False</td>\n",
       "      <td>False</td>\n",
       "    </tr>\n",
       "    <tr>\n",
       "      <th>2100</th>\n",
       "      <td>14.0</td>\n",
       "      <td>89</td>\n",
       "      <td>1016.4</td>\n",
       "      <td>180</td>\n",
       "      <td>17</td>\n",
       "      <td>NaN</td>\n",
       "      <td>NaN</td>\n",
       "      <td>NaN</td>\n",
       "      <td>-0.707107</td>\n",
       "      <td>0.707107</td>\n",
       "      <td>...</td>\n",
       "      <td>False</td>\n",
       "      <td>False</td>\n",
       "      <td>False</td>\n",
       "      <td>False</td>\n",
       "      <td>False</td>\n",
       "      <td>False</td>\n",
       "      <td>False</td>\n",
       "      <td>False</td>\n",
       "      <td>False</td>\n",
       "      <td>False</td>\n",
       "    </tr>\n",
       "    <tr>\n",
       "      <th>2101</th>\n",
       "      <td>11.6</td>\n",
       "      <td>96</td>\n",
       "      <td>1017.9</td>\n",
       "      <td>140</td>\n",
       "      <td>41</td>\n",
       "      <td>NaN</td>\n",
       "      <td>NaN</td>\n",
       "      <td>NaN</td>\n",
       "      <td>-0.5</td>\n",
       "      <td>0.866025</td>\n",
       "      <td>...</td>\n",
       "      <td>False</td>\n",
       "      <td>False</td>\n",
       "      <td>False</td>\n",
       "      <td>False</td>\n",
       "      <td>False</td>\n",
       "      <td>False</td>\n",
       "      <td>False</td>\n",
       "      <td>False</td>\n",
       "      <td>False</td>\n",
       "      <td>False</td>\n",
       "    </tr>\n",
       "    <tr>\n",
       "      <th>2102</th>\n",
       "      <td>7.4</td>\n",
       "      <td>88</td>\n",
       "      <td>1021.3</td>\n",
       "      <td>180</td>\n",
       "      <td>19</td>\n",
       "      <td>NaN</td>\n",
       "      <td>NaN</td>\n",
       "      <td>NaN</td>\n",
       "      <td>-0.258819</td>\n",
       "      <td>0.965926</td>\n",
       "      <td>...</td>\n",
       "      <td>False</td>\n",
       "      <td>False</td>\n",
       "      <td>False</td>\n",
       "      <td>False</td>\n",
       "      <td>False</td>\n",
       "      <td>False</td>\n",
       "      <td>False</td>\n",
       "      <td>False</td>\n",
       "      <td>False</td>\n",
       "      <td>False</td>\n",
       "    </tr>\n",
       "    <tr>\n",
       "      <th>2103</th>\n",
       "      <td>&lt;NA&gt;</td>\n",
       "      <td>&lt;NA&gt;</td>\n",
       "      <td>NaN</td>\n",
       "      <td>&lt;NA&gt;</td>\n",
       "      <td>&lt;NA&gt;</td>\n",
       "      <td>486.0</td>\n",
       "      <td>-33.716667</td>\n",
       "      <td>-65.366667</td>\n",
       "      <td>&lt;NA&gt;</td>\n",
       "      <td>&lt;NA&gt;</td>\n",
       "      <td>...</td>\n",
       "      <td>False</td>\n",
       "      <td>False</td>\n",
       "      <td>False</td>\n",
       "      <td>False</td>\n",
       "      <td>True</td>\n",
       "      <td>False</td>\n",
       "      <td>False</td>\n",
       "      <td>False</td>\n",
       "      <td>False</td>\n",
       "      <td>False</td>\n",
       "    </tr>\n",
       "  </tbody>\n",
       "</table>\n",
       "<p>2104 rows × 34 columns</p>\n",
       "</div>"
      ],
      "text/plain": [
       "      TEMP (°C)  HUM (%)  PNM (hPa)  DD (g)  FF (km/h)  ALTURA        LAT  \\\n",
       "0          13.7       88     1020.2      80         13     6.0 -34.550000   \n",
       "1          13.6       91     1019.6      80         11     6.0 -34.550000   \n",
       "2          13.4       91     1019.3      80         11     6.0 -34.550000   \n",
       "3          13.4       94     1018.7      80         13     6.0 -34.550000   \n",
       "4          13.7       91     1018.2      90          9     6.0 -34.550000   \n",
       "...         ...      ...        ...     ...        ...     ...        ...   \n",
       "2099       14.8       83     1015.8     180         19     NaN        NaN   \n",
       "2100       14.0       89     1016.4     180         17     NaN        NaN   \n",
       "2101       11.6       96     1017.9     140         41     NaN        NaN   \n",
       "2102        7.4       88     1021.3     180         19     NaN        NaN   \n",
       "2103       <NA>     <NA>        NaN    <NA>       <NA>   486.0 -33.716667   \n",
       "\n",
       "            LON  HORA_sen  HORA_cos  ...  PROV_NEUQUEN  PROV_RIO NEGRO  \\\n",
       "0    -58.416667       0.0       1.0  ...         False           False   \n",
       "1    -58.416667  0.258819  0.965926  ...         False           False   \n",
       "2    -58.416667       0.5  0.866025  ...         False           False   \n",
       "3    -58.416667  0.707107  0.707107  ...         False           False   \n",
       "4    -58.416667  0.866025       0.5  ...         False           False   \n",
       "...         ...       ...       ...  ...           ...             ...   \n",
       "2099        NaN -0.866025       0.5  ...         False           False   \n",
       "2100        NaN -0.707107  0.707107  ...         False           False   \n",
       "2101        NaN      -0.5  0.866025  ...         False           False   \n",
       "2102        NaN -0.258819  0.965926  ...         False           False   \n",
       "2103 -65.366667      <NA>      <NA>  ...         False           False   \n",
       "\n",
       "      PROV_SALTA  PROV_SAN JUAN  PROV_SAN LUIS  PROV_SANTA CRUZ  \\\n",
       "0          False          False          False            False   \n",
       "1          False          False          False            False   \n",
       "2          False          False          False            False   \n",
       "3          False          False          False            False   \n",
       "4          False          False          False            False   \n",
       "...          ...            ...            ...              ...   \n",
       "2099       False          False          False            False   \n",
       "2100       False          False          False            False   \n",
       "2101       False          False          False            False   \n",
       "2102       False          False          False            False   \n",
       "2103       False          False           True            False   \n",
       "\n",
       "      PROV_SANTA FE  PROV_SANTIAGO DEL ES  PROV_TIERRA DEL FUEG  PROV_TUCUMAN  \n",
       "0             False                 False                 False         False  \n",
       "1             False                 False                 False         False  \n",
       "2             False                 False                 False         False  \n",
       "3             False                 False                 False         False  \n",
       "4             False                 False                 False         False  \n",
       "...             ...                   ...                   ...           ...  \n",
       "2099          False                 False                 False         False  \n",
       "2100          False                 False                 False         False  \n",
       "2101          False                 False                 False         False  \n",
       "2102          False                 False                 False         False  \n",
       "2103          False                 False                 False         False  \n",
       "\n",
       "[2104 rows x 34 columns]"
      ]
     },
     "execution_count": 38,
     "metadata": {},
     "output_type": "execute_result"
    }
   ],
   "source": [
    "df_ok"
   ]
  },
  {
   "cell_type": "code",
   "execution_count": 43,
   "id": "137f2213",
   "metadata": {},
   "outputs": [],
   "source": [
    "df_ok.dropna(inplace=True)  # Eliminamos filas con valores nulos\n",
    "df_ok.reset_index(drop=True, inplace=True)  # Reseteamos el índice del Data"
   ]
  },
  {
   "cell_type": "code",
   "execution_count": 44,
   "id": "b2b5cb85",
   "metadata": {},
   "outputs": [],
   "source": [
    "# Nuestro objetivo\n",
    "y = df_ok['TEMP (°C)']\n",
    "\n",
    "# Nuestras características. Eliminamos las columnas que no aportan o son redundantes.\n",
    "X = df_ok.drop(columns=['TEMP (°C)'])"
   ]
  },
  {
   "cell_type": "code",
   "execution_count": 45,
   "id": "35fdae47",
   "metadata": {},
   "outputs": [
    {
     "data": {
      "text/html": [
       "<div>\n",
       "<style scoped>\n",
       "    .dataframe tbody tr th:only-of-type {\n",
       "        vertical-align: middle;\n",
       "    }\n",
       "\n",
       "    .dataframe tbody tr th {\n",
       "        vertical-align: top;\n",
       "    }\n",
       "\n",
       "    .dataframe thead th {\n",
       "        text-align: right;\n",
       "    }\n",
       "</style>\n",
       "<table border=\"1\" class=\"dataframe\">\n",
       "  <thead>\n",
       "    <tr style=\"text-align: right;\">\n",
       "      <th></th>\n",
       "      <th>HUM (%)</th>\n",
       "      <th>PNM (hPa)</th>\n",
       "      <th>DD (g)</th>\n",
       "      <th>FF (km/h)</th>\n",
       "      <th>ALTURA</th>\n",
       "      <th>LAT</th>\n",
       "      <th>LON</th>\n",
       "      <th>HORA_sen</th>\n",
       "      <th>HORA_cos</th>\n",
       "      <th>PROV_BUENOS AIRES</th>\n",
       "      <th>...</th>\n",
       "      <th>PROV_NEUQUEN</th>\n",
       "      <th>PROV_RIO NEGRO</th>\n",
       "      <th>PROV_SALTA</th>\n",
       "      <th>PROV_SAN JUAN</th>\n",
       "      <th>PROV_SAN LUIS</th>\n",
       "      <th>PROV_SANTA CRUZ</th>\n",
       "      <th>PROV_SANTA FE</th>\n",
       "      <th>PROV_SANTIAGO DEL ES</th>\n",
       "      <th>PROV_TIERRA DEL FUEG</th>\n",
       "      <th>PROV_TUCUMAN</th>\n",
       "    </tr>\n",
       "  </thead>\n",
       "  <tbody>\n",
       "    <tr>\n",
       "      <th>0</th>\n",
       "      <td>88</td>\n",
       "      <td>1020.2</td>\n",
       "      <td>80</td>\n",
       "      <td>13</td>\n",
       "      <td>6.0</td>\n",
       "      <td>-34.550000</td>\n",
       "      <td>-58.416667</td>\n",
       "      <td>0.0</td>\n",
       "      <td>1.0</td>\n",
       "      <td>False</td>\n",
       "      <td>...</td>\n",
       "      <td>False</td>\n",
       "      <td>False</td>\n",
       "      <td>False</td>\n",
       "      <td>False</td>\n",
       "      <td>False</td>\n",
       "      <td>False</td>\n",
       "      <td>False</td>\n",
       "      <td>False</td>\n",
       "      <td>False</td>\n",
       "      <td>False</td>\n",
       "    </tr>\n",
       "    <tr>\n",
       "      <th>1</th>\n",
       "      <td>91</td>\n",
       "      <td>1019.6</td>\n",
       "      <td>80</td>\n",
       "      <td>11</td>\n",
       "      <td>6.0</td>\n",
       "      <td>-34.550000</td>\n",
       "      <td>-58.416667</td>\n",
       "      <td>0.258819</td>\n",
       "      <td>0.965926</td>\n",
       "      <td>False</td>\n",
       "      <td>...</td>\n",
       "      <td>False</td>\n",
       "      <td>False</td>\n",
       "      <td>False</td>\n",
       "      <td>False</td>\n",
       "      <td>False</td>\n",
       "      <td>False</td>\n",
       "      <td>False</td>\n",
       "      <td>False</td>\n",
       "      <td>False</td>\n",
       "      <td>False</td>\n",
       "    </tr>\n",
       "    <tr>\n",
       "      <th>2</th>\n",
       "      <td>91</td>\n",
       "      <td>1019.3</td>\n",
       "      <td>80</td>\n",
       "      <td>11</td>\n",
       "      <td>6.0</td>\n",
       "      <td>-34.550000</td>\n",
       "      <td>-58.416667</td>\n",
       "      <td>0.5</td>\n",
       "      <td>0.866025</td>\n",
       "      <td>False</td>\n",
       "      <td>...</td>\n",
       "      <td>False</td>\n",
       "      <td>False</td>\n",
       "      <td>False</td>\n",
       "      <td>False</td>\n",
       "      <td>False</td>\n",
       "      <td>False</td>\n",
       "      <td>False</td>\n",
       "      <td>False</td>\n",
       "      <td>False</td>\n",
       "      <td>False</td>\n",
       "    </tr>\n",
       "    <tr>\n",
       "      <th>3</th>\n",
       "      <td>94</td>\n",
       "      <td>1018.7</td>\n",
       "      <td>80</td>\n",
       "      <td>13</td>\n",
       "      <td>6.0</td>\n",
       "      <td>-34.550000</td>\n",
       "      <td>-58.416667</td>\n",
       "      <td>0.707107</td>\n",
       "      <td>0.707107</td>\n",
       "      <td>False</td>\n",
       "      <td>...</td>\n",
       "      <td>False</td>\n",
       "      <td>False</td>\n",
       "      <td>False</td>\n",
       "      <td>False</td>\n",
       "      <td>False</td>\n",
       "      <td>False</td>\n",
       "      <td>False</td>\n",
       "      <td>False</td>\n",
       "      <td>False</td>\n",
       "      <td>False</td>\n",
       "    </tr>\n",
       "    <tr>\n",
       "      <th>4</th>\n",
       "      <td>91</td>\n",
       "      <td>1018.2</td>\n",
       "      <td>90</td>\n",
       "      <td>9</td>\n",
       "      <td>6.0</td>\n",
       "      <td>-34.550000</td>\n",
       "      <td>-58.416667</td>\n",
       "      <td>0.866025</td>\n",
       "      <td>0.5</td>\n",
       "      <td>False</td>\n",
       "      <td>...</td>\n",
       "      <td>False</td>\n",
       "      <td>False</td>\n",
       "      <td>False</td>\n",
       "      <td>False</td>\n",
       "      <td>False</td>\n",
       "      <td>False</td>\n",
       "      <td>False</td>\n",
       "      <td>False</td>\n",
       "      <td>False</td>\n",
       "      <td>False</td>\n",
       "    </tr>\n",
       "    <tr>\n",
       "      <th>...</th>\n",
       "      <td>...</td>\n",
       "      <td>...</td>\n",
       "      <td>...</td>\n",
       "      <td>...</td>\n",
       "      <td>...</td>\n",
       "      <td>...</td>\n",
       "      <td>...</td>\n",
       "      <td>...</td>\n",
       "      <td>...</td>\n",
       "      <td>...</td>\n",
       "      <td>...</td>\n",
       "      <td>...</td>\n",
       "      <td>...</td>\n",
       "      <td>...</td>\n",
       "      <td>...</td>\n",
       "      <td>...</td>\n",
       "      <td>...</td>\n",
       "      <td>...</td>\n",
       "      <td>...</td>\n",
       "      <td>...</td>\n",
       "      <td>...</td>\n",
       "    </tr>\n",
       "    <tr>\n",
       "      <th>1351</th>\n",
       "      <td>94</td>\n",
       "      <td>1013.9</td>\n",
       "      <td>20</td>\n",
       "      <td>11</td>\n",
       "      <td>9.0</td>\n",
       "      <td>-37.233333</td>\n",
       "      <td>-57.016667</td>\n",
       "      <td>-0.965926</td>\n",
       "      <td>-0.258819</td>\n",
       "      <td>True</td>\n",
       "      <td>...</td>\n",
       "      <td>False</td>\n",
       "      <td>False</td>\n",
       "      <td>False</td>\n",
       "      <td>False</td>\n",
       "      <td>False</td>\n",
       "      <td>False</td>\n",
       "      <td>False</td>\n",
       "      <td>False</td>\n",
       "      <td>False</td>\n",
       "      <td>False</td>\n",
       "    </tr>\n",
       "    <tr>\n",
       "      <th>1352</th>\n",
       "      <td>95</td>\n",
       "      <td>1013.9</td>\n",
       "      <td>360</td>\n",
       "      <td>4</td>\n",
       "      <td>9.0</td>\n",
       "      <td>-37.233333</td>\n",
       "      <td>-57.016667</td>\n",
       "      <td>-1.0</td>\n",
       "      <td>-0.0</td>\n",
       "      <td>True</td>\n",
       "      <td>...</td>\n",
       "      <td>False</td>\n",
       "      <td>False</td>\n",
       "      <td>False</td>\n",
       "      <td>False</td>\n",
       "      <td>False</td>\n",
       "      <td>False</td>\n",
       "      <td>False</td>\n",
       "      <td>False</td>\n",
       "      <td>False</td>\n",
       "      <td>False</td>\n",
       "    </tr>\n",
       "    <tr>\n",
       "      <th>1353</th>\n",
       "      <td>97</td>\n",
       "      <td>1013.4</td>\n",
       "      <td>360</td>\n",
       "      <td>4</td>\n",
       "      <td>9.0</td>\n",
       "      <td>-37.233333</td>\n",
       "      <td>-57.016667</td>\n",
       "      <td>-0.965926</td>\n",
       "      <td>0.258819</td>\n",
       "      <td>True</td>\n",
       "      <td>...</td>\n",
       "      <td>False</td>\n",
       "      <td>False</td>\n",
       "      <td>False</td>\n",
       "      <td>False</td>\n",
       "      <td>False</td>\n",
       "      <td>False</td>\n",
       "      <td>False</td>\n",
       "      <td>False</td>\n",
       "      <td>False</td>\n",
       "      <td>False</td>\n",
       "    </tr>\n",
       "    <tr>\n",
       "      <th>1354</th>\n",
       "      <td>99</td>\n",
       "      <td>1013.2</td>\n",
       "      <td>20</td>\n",
       "      <td>7</td>\n",
       "      <td>9.0</td>\n",
       "      <td>-37.233333</td>\n",
       "      <td>-57.016667</td>\n",
       "      <td>-0.866025</td>\n",
       "      <td>0.5</td>\n",
       "      <td>True</td>\n",
       "      <td>...</td>\n",
       "      <td>False</td>\n",
       "      <td>False</td>\n",
       "      <td>False</td>\n",
       "      <td>False</td>\n",
       "      <td>False</td>\n",
       "      <td>False</td>\n",
       "      <td>False</td>\n",
       "      <td>False</td>\n",
       "      <td>False</td>\n",
       "      <td>False</td>\n",
       "    </tr>\n",
       "    <tr>\n",
       "      <th>1355</th>\n",
       "      <td>94</td>\n",
       "      <td>1015.2</td>\n",
       "      <td>160</td>\n",
       "      <td>7</td>\n",
       "      <td>9.0</td>\n",
       "      <td>-37.233333</td>\n",
       "      <td>-57.016667</td>\n",
       "      <td>-0.707107</td>\n",
       "      <td>0.707107</td>\n",
       "      <td>True</td>\n",
       "      <td>...</td>\n",
       "      <td>False</td>\n",
       "      <td>False</td>\n",
       "      <td>False</td>\n",
       "      <td>False</td>\n",
       "      <td>False</td>\n",
       "      <td>False</td>\n",
       "      <td>False</td>\n",
       "      <td>False</td>\n",
       "      <td>False</td>\n",
       "      <td>False</td>\n",
       "    </tr>\n",
       "  </tbody>\n",
       "</table>\n",
       "<p>1356 rows × 33 columns</p>\n",
       "</div>"
      ],
      "text/plain": [
       "      HUM (%)  PNM (hPa)  DD (g)  FF (km/h)  ALTURA        LAT        LON  \\\n",
       "0          88     1020.2      80         13     6.0 -34.550000 -58.416667   \n",
       "1          91     1019.6      80         11     6.0 -34.550000 -58.416667   \n",
       "2          91     1019.3      80         11     6.0 -34.550000 -58.416667   \n",
       "3          94     1018.7      80         13     6.0 -34.550000 -58.416667   \n",
       "4          91     1018.2      90          9     6.0 -34.550000 -58.416667   \n",
       "...       ...        ...     ...        ...     ...        ...        ...   \n",
       "1351       94     1013.9      20         11     9.0 -37.233333 -57.016667   \n",
       "1352       95     1013.9     360          4     9.0 -37.233333 -57.016667   \n",
       "1353       97     1013.4     360          4     9.0 -37.233333 -57.016667   \n",
       "1354       99     1013.2      20          7     9.0 -37.233333 -57.016667   \n",
       "1355       94     1015.2     160          7     9.0 -37.233333 -57.016667   \n",
       "\n",
       "      HORA_sen  HORA_cos  PROV_BUENOS AIRES  ...  PROV_NEUQUEN  \\\n",
       "0          0.0       1.0              False  ...         False   \n",
       "1     0.258819  0.965926              False  ...         False   \n",
       "2          0.5  0.866025              False  ...         False   \n",
       "3     0.707107  0.707107              False  ...         False   \n",
       "4     0.866025       0.5              False  ...         False   \n",
       "...        ...       ...                ...  ...           ...   \n",
       "1351 -0.965926 -0.258819               True  ...         False   \n",
       "1352      -1.0      -0.0               True  ...         False   \n",
       "1353 -0.965926  0.258819               True  ...         False   \n",
       "1354 -0.866025       0.5               True  ...         False   \n",
       "1355 -0.707107  0.707107               True  ...         False   \n",
       "\n",
       "      PROV_RIO NEGRO  PROV_SALTA  PROV_SAN JUAN  PROV_SAN LUIS  \\\n",
       "0              False       False          False          False   \n",
       "1              False       False          False          False   \n",
       "2              False       False          False          False   \n",
       "3              False       False          False          False   \n",
       "4              False       False          False          False   \n",
       "...              ...         ...            ...            ...   \n",
       "1351           False       False          False          False   \n",
       "1352           False       False          False          False   \n",
       "1353           False       False          False          False   \n",
       "1354           False       False          False          False   \n",
       "1355           False       False          False          False   \n",
       "\n",
       "      PROV_SANTA CRUZ  PROV_SANTA FE  PROV_SANTIAGO DEL ES  \\\n",
       "0               False          False                 False   \n",
       "1               False          False                 False   \n",
       "2               False          False                 False   \n",
       "3               False          False                 False   \n",
       "4               False          False                 False   \n",
       "...               ...            ...                   ...   \n",
       "1351            False          False                 False   \n",
       "1352            False          False                 False   \n",
       "1353            False          False                 False   \n",
       "1354            False          False                 False   \n",
       "1355            False          False                 False   \n",
       "\n",
       "      PROV_TIERRA DEL FUEG  PROV_TUCUMAN  \n",
       "0                    False         False  \n",
       "1                    False         False  \n",
       "2                    False         False  \n",
       "3                    False         False  \n",
       "4                    False         False  \n",
       "...                    ...           ...  \n",
       "1351                 False         False  \n",
       "1352                 False         False  \n",
       "1353                 False         False  \n",
       "1354                 False         False  \n",
       "1355                 False         False  \n",
       "\n",
       "[1356 rows x 33 columns]"
      ]
     },
     "execution_count": 45,
     "metadata": {},
     "output_type": "execute_result"
    }
   ],
   "source": [
    "X"
   ]
  },
  {
   "cell_type": "code",
   "execution_count": 46,
   "id": "c2c5491a",
   "metadata": {},
   "outputs": [],
   "source": [
    "from sklearn.model_selection import train_test_split\n",
    "\n",
    "# Dividimos los datos: 80% para entrenar, 20% para probar\n",
    "X_train, X_test, y_train, y_test = train_test_split(\n",
    "    X, y, test_size=0.2, random_state=42\n",
    ")"
   ]
  },
  {
   "cell_type": "code",
   "execution_count": 47,
   "id": "88970a6e",
   "metadata": {},
   "outputs": [
    {
     "data": {
      "text/html": [
       "<style>#sk-container-id-1 {\n",
       "  /* Definition of color scheme common for light and dark mode */\n",
       "  --sklearn-color-text: #000;\n",
       "  --sklearn-color-text-muted: #666;\n",
       "  --sklearn-color-line: gray;\n",
       "  /* Definition of color scheme for unfitted estimators */\n",
       "  --sklearn-color-unfitted-level-0: #fff5e6;\n",
       "  --sklearn-color-unfitted-level-1: #f6e4d2;\n",
       "  --sklearn-color-unfitted-level-2: #ffe0b3;\n",
       "  --sklearn-color-unfitted-level-3: chocolate;\n",
       "  /* Definition of color scheme for fitted estimators */\n",
       "  --sklearn-color-fitted-level-0: #f0f8ff;\n",
       "  --sklearn-color-fitted-level-1: #d4ebff;\n",
       "  --sklearn-color-fitted-level-2: #b3dbfd;\n",
       "  --sklearn-color-fitted-level-3: cornflowerblue;\n",
       "\n",
       "  /* Specific color for light theme */\n",
       "  --sklearn-color-text-on-default-background: var(--sg-text-color, var(--theme-code-foreground, var(--jp-content-font-color1, black)));\n",
       "  --sklearn-color-background: var(--sg-background-color, var(--theme-background, var(--jp-layout-color0, white)));\n",
       "  --sklearn-color-border-box: var(--sg-text-color, var(--theme-code-foreground, var(--jp-content-font-color1, black)));\n",
       "  --sklearn-color-icon: #696969;\n",
       "\n",
       "  @media (prefers-color-scheme: dark) {\n",
       "    /* Redefinition of color scheme for dark theme */\n",
       "    --sklearn-color-text-on-default-background: var(--sg-text-color, var(--theme-code-foreground, var(--jp-content-font-color1, white)));\n",
       "    --sklearn-color-background: var(--sg-background-color, var(--theme-background, var(--jp-layout-color0, #111)));\n",
       "    --sklearn-color-border-box: var(--sg-text-color, var(--theme-code-foreground, var(--jp-content-font-color1, white)));\n",
       "    --sklearn-color-icon: #878787;\n",
       "  }\n",
       "}\n",
       "\n",
       "#sk-container-id-1 {\n",
       "  color: var(--sklearn-color-text);\n",
       "}\n",
       "\n",
       "#sk-container-id-1 pre {\n",
       "  padding: 0;\n",
       "}\n",
       "\n",
       "#sk-container-id-1 input.sk-hidden--visually {\n",
       "  border: 0;\n",
       "  clip: rect(1px 1px 1px 1px);\n",
       "  clip: rect(1px, 1px, 1px, 1px);\n",
       "  height: 1px;\n",
       "  margin: -1px;\n",
       "  overflow: hidden;\n",
       "  padding: 0;\n",
       "  position: absolute;\n",
       "  width: 1px;\n",
       "}\n",
       "\n",
       "#sk-container-id-1 div.sk-dashed-wrapped {\n",
       "  border: 1px dashed var(--sklearn-color-line);\n",
       "  margin: 0 0.4em 0.5em 0.4em;\n",
       "  box-sizing: border-box;\n",
       "  padding-bottom: 0.4em;\n",
       "  background-color: var(--sklearn-color-background);\n",
       "}\n",
       "\n",
       "#sk-container-id-1 div.sk-container {\n",
       "  /* jupyter's `normalize.less` sets `[hidden] { display: none; }`\n",
       "     but bootstrap.min.css set `[hidden] { display: none !important; }`\n",
       "     so we also need the `!important` here to be able to override the\n",
       "     default hidden behavior on the sphinx rendered scikit-learn.org.\n",
       "     See: https://github.com/scikit-learn/scikit-learn/issues/21755 */\n",
       "  display: inline-block !important;\n",
       "  position: relative;\n",
       "}\n",
       "\n",
       "#sk-container-id-1 div.sk-text-repr-fallback {\n",
       "  display: none;\n",
       "}\n",
       "\n",
       "div.sk-parallel-item,\n",
       "div.sk-serial,\n",
       "div.sk-item {\n",
       "  /* draw centered vertical line to link estimators */\n",
       "  background-image: linear-gradient(var(--sklearn-color-text-on-default-background), var(--sklearn-color-text-on-default-background));\n",
       "  background-size: 2px 100%;\n",
       "  background-repeat: no-repeat;\n",
       "  background-position: center center;\n",
       "}\n",
       "\n",
       "/* Parallel-specific style estimator block */\n",
       "\n",
       "#sk-container-id-1 div.sk-parallel-item::after {\n",
       "  content: \"\";\n",
       "  width: 100%;\n",
       "  border-bottom: 2px solid var(--sklearn-color-text-on-default-background);\n",
       "  flex-grow: 1;\n",
       "}\n",
       "\n",
       "#sk-container-id-1 div.sk-parallel {\n",
       "  display: flex;\n",
       "  align-items: stretch;\n",
       "  justify-content: center;\n",
       "  background-color: var(--sklearn-color-background);\n",
       "  position: relative;\n",
       "}\n",
       "\n",
       "#sk-container-id-1 div.sk-parallel-item {\n",
       "  display: flex;\n",
       "  flex-direction: column;\n",
       "}\n",
       "\n",
       "#sk-container-id-1 div.sk-parallel-item:first-child::after {\n",
       "  align-self: flex-end;\n",
       "  width: 50%;\n",
       "}\n",
       "\n",
       "#sk-container-id-1 div.sk-parallel-item:last-child::after {\n",
       "  align-self: flex-start;\n",
       "  width: 50%;\n",
       "}\n",
       "\n",
       "#sk-container-id-1 div.sk-parallel-item:only-child::after {\n",
       "  width: 0;\n",
       "}\n",
       "\n",
       "/* Serial-specific style estimator block */\n",
       "\n",
       "#sk-container-id-1 div.sk-serial {\n",
       "  display: flex;\n",
       "  flex-direction: column;\n",
       "  align-items: center;\n",
       "  background-color: var(--sklearn-color-background);\n",
       "  padding-right: 1em;\n",
       "  padding-left: 1em;\n",
       "}\n",
       "\n",
       "\n",
       "/* Toggleable style: style used for estimator/Pipeline/ColumnTransformer box that is\n",
       "clickable and can be expanded/collapsed.\n",
       "- Pipeline and ColumnTransformer use this feature and define the default style\n",
       "- Estimators will overwrite some part of the style using the `sk-estimator` class\n",
       "*/\n",
       "\n",
       "/* Pipeline and ColumnTransformer style (default) */\n",
       "\n",
       "#sk-container-id-1 div.sk-toggleable {\n",
       "  /* Default theme specific background. It is overwritten whether we have a\n",
       "  specific estimator or a Pipeline/ColumnTransformer */\n",
       "  background-color: var(--sklearn-color-background);\n",
       "}\n",
       "\n",
       "/* Toggleable label */\n",
       "#sk-container-id-1 label.sk-toggleable__label {\n",
       "  cursor: pointer;\n",
       "  display: flex;\n",
       "  width: 100%;\n",
       "  margin-bottom: 0;\n",
       "  padding: 0.5em;\n",
       "  box-sizing: border-box;\n",
       "  text-align: center;\n",
       "  align-items: start;\n",
       "  justify-content: space-between;\n",
       "  gap: 0.5em;\n",
       "}\n",
       "\n",
       "#sk-container-id-1 label.sk-toggleable__label .caption {\n",
       "  font-size: 0.6rem;\n",
       "  font-weight: lighter;\n",
       "  color: var(--sklearn-color-text-muted);\n",
       "}\n",
       "\n",
       "#sk-container-id-1 label.sk-toggleable__label-arrow:before {\n",
       "  /* Arrow on the left of the label */\n",
       "  content: \"▸\";\n",
       "  float: left;\n",
       "  margin-right: 0.25em;\n",
       "  color: var(--sklearn-color-icon);\n",
       "}\n",
       "\n",
       "#sk-container-id-1 label.sk-toggleable__label-arrow:hover:before {\n",
       "  color: var(--sklearn-color-text);\n",
       "}\n",
       "\n",
       "/* Toggleable content - dropdown */\n",
       "\n",
       "#sk-container-id-1 div.sk-toggleable__content {\n",
       "  display: none;\n",
       "  text-align: left;\n",
       "  /* unfitted */\n",
       "  background-color: var(--sklearn-color-unfitted-level-0);\n",
       "}\n",
       "\n",
       "#sk-container-id-1 div.sk-toggleable__content.fitted {\n",
       "  /* fitted */\n",
       "  background-color: var(--sklearn-color-fitted-level-0);\n",
       "}\n",
       "\n",
       "#sk-container-id-1 div.sk-toggleable__content pre {\n",
       "  margin: 0.2em;\n",
       "  border-radius: 0.25em;\n",
       "  color: var(--sklearn-color-text);\n",
       "  /* unfitted */\n",
       "  background-color: var(--sklearn-color-unfitted-level-0);\n",
       "}\n",
       "\n",
       "#sk-container-id-1 div.sk-toggleable__content.fitted pre {\n",
       "  /* unfitted */\n",
       "  background-color: var(--sklearn-color-fitted-level-0);\n",
       "}\n",
       "\n",
       "#sk-container-id-1 input.sk-toggleable__control:checked~div.sk-toggleable__content {\n",
       "  /* Expand drop-down */\n",
       "  display: block;\n",
       "  width: 100%;\n",
       "  overflow: visible;\n",
       "}\n",
       "\n",
       "#sk-container-id-1 input.sk-toggleable__control:checked~label.sk-toggleable__label-arrow:before {\n",
       "  content: \"▾\";\n",
       "}\n",
       "\n",
       "/* Pipeline/ColumnTransformer-specific style */\n",
       "\n",
       "#sk-container-id-1 div.sk-label input.sk-toggleable__control:checked~label.sk-toggleable__label {\n",
       "  color: var(--sklearn-color-text);\n",
       "  background-color: var(--sklearn-color-unfitted-level-2);\n",
       "}\n",
       "\n",
       "#sk-container-id-1 div.sk-label.fitted input.sk-toggleable__control:checked~label.sk-toggleable__label {\n",
       "  background-color: var(--sklearn-color-fitted-level-2);\n",
       "}\n",
       "\n",
       "/* Estimator-specific style */\n",
       "\n",
       "/* Colorize estimator box */\n",
       "#sk-container-id-1 div.sk-estimator input.sk-toggleable__control:checked~label.sk-toggleable__label {\n",
       "  /* unfitted */\n",
       "  background-color: var(--sklearn-color-unfitted-level-2);\n",
       "}\n",
       "\n",
       "#sk-container-id-1 div.sk-estimator.fitted input.sk-toggleable__control:checked~label.sk-toggleable__label {\n",
       "  /* fitted */\n",
       "  background-color: var(--sklearn-color-fitted-level-2);\n",
       "}\n",
       "\n",
       "#sk-container-id-1 div.sk-label label.sk-toggleable__label,\n",
       "#sk-container-id-1 div.sk-label label {\n",
       "  /* The background is the default theme color */\n",
       "  color: var(--sklearn-color-text-on-default-background);\n",
       "}\n",
       "\n",
       "/* On hover, darken the color of the background */\n",
       "#sk-container-id-1 div.sk-label:hover label.sk-toggleable__label {\n",
       "  color: var(--sklearn-color-text);\n",
       "  background-color: var(--sklearn-color-unfitted-level-2);\n",
       "}\n",
       "\n",
       "/* Label box, darken color on hover, fitted */\n",
       "#sk-container-id-1 div.sk-label.fitted:hover label.sk-toggleable__label.fitted {\n",
       "  color: var(--sklearn-color-text);\n",
       "  background-color: var(--sklearn-color-fitted-level-2);\n",
       "}\n",
       "\n",
       "/* Estimator label */\n",
       "\n",
       "#sk-container-id-1 div.sk-label label {\n",
       "  font-family: monospace;\n",
       "  font-weight: bold;\n",
       "  display: inline-block;\n",
       "  line-height: 1.2em;\n",
       "}\n",
       "\n",
       "#sk-container-id-1 div.sk-label-container {\n",
       "  text-align: center;\n",
       "}\n",
       "\n",
       "/* Estimator-specific */\n",
       "#sk-container-id-1 div.sk-estimator {\n",
       "  font-family: monospace;\n",
       "  border: 1px dotted var(--sklearn-color-border-box);\n",
       "  border-radius: 0.25em;\n",
       "  box-sizing: border-box;\n",
       "  margin-bottom: 0.5em;\n",
       "  /* unfitted */\n",
       "  background-color: var(--sklearn-color-unfitted-level-0);\n",
       "}\n",
       "\n",
       "#sk-container-id-1 div.sk-estimator.fitted {\n",
       "  /* fitted */\n",
       "  background-color: var(--sklearn-color-fitted-level-0);\n",
       "}\n",
       "\n",
       "/* on hover */\n",
       "#sk-container-id-1 div.sk-estimator:hover {\n",
       "  /* unfitted */\n",
       "  background-color: var(--sklearn-color-unfitted-level-2);\n",
       "}\n",
       "\n",
       "#sk-container-id-1 div.sk-estimator.fitted:hover {\n",
       "  /* fitted */\n",
       "  background-color: var(--sklearn-color-fitted-level-2);\n",
       "}\n",
       "\n",
       "/* Specification for estimator info (e.g. \"i\" and \"?\") */\n",
       "\n",
       "/* Common style for \"i\" and \"?\" */\n",
       "\n",
       ".sk-estimator-doc-link,\n",
       "a:link.sk-estimator-doc-link,\n",
       "a:visited.sk-estimator-doc-link {\n",
       "  float: right;\n",
       "  font-size: smaller;\n",
       "  line-height: 1em;\n",
       "  font-family: monospace;\n",
       "  background-color: var(--sklearn-color-background);\n",
       "  border-radius: 1em;\n",
       "  height: 1em;\n",
       "  width: 1em;\n",
       "  text-decoration: none !important;\n",
       "  margin-left: 0.5em;\n",
       "  text-align: center;\n",
       "  /* unfitted */\n",
       "  border: var(--sklearn-color-unfitted-level-1) 1pt solid;\n",
       "  color: var(--sklearn-color-unfitted-level-1);\n",
       "}\n",
       "\n",
       ".sk-estimator-doc-link.fitted,\n",
       "a:link.sk-estimator-doc-link.fitted,\n",
       "a:visited.sk-estimator-doc-link.fitted {\n",
       "  /* fitted */\n",
       "  border: var(--sklearn-color-fitted-level-1) 1pt solid;\n",
       "  color: var(--sklearn-color-fitted-level-1);\n",
       "}\n",
       "\n",
       "/* On hover */\n",
       "div.sk-estimator:hover .sk-estimator-doc-link:hover,\n",
       ".sk-estimator-doc-link:hover,\n",
       "div.sk-label-container:hover .sk-estimator-doc-link:hover,\n",
       ".sk-estimator-doc-link:hover {\n",
       "  /* unfitted */\n",
       "  background-color: var(--sklearn-color-unfitted-level-3);\n",
       "  color: var(--sklearn-color-background);\n",
       "  text-decoration: none;\n",
       "}\n",
       "\n",
       "div.sk-estimator.fitted:hover .sk-estimator-doc-link.fitted:hover,\n",
       ".sk-estimator-doc-link.fitted:hover,\n",
       "div.sk-label-container:hover .sk-estimator-doc-link.fitted:hover,\n",
       ".sk-estimator-doc-link.fitted:hover {\n",
       "  /* fitted */\n",
       "  background-color: var(--sklearn-color-fitted-level-3);\n",
       "  color: var(--sklearn-color-background);\n",
       "  text-decoration: none;\n",
       "}\n",
       "\n",
       "/* Span, style for the box shown on hovering the info icon */\n",
       ".sk-estimator-doc-link span {\n",
       "  display: none;\n",
       "  z-index: 9999;\n",
       "  position: relative;\n",
       "  font-weight: normal;\n",
       "  right: .2ex;\n",
       "  padding: .5ex;\n",
       "  margin: .5ex;\n",
       "  width: min-content;\n",
       "  min-width: 20ex;\n",
       "  max-width: 50ex;\n",
       "  color: var(--sklearn-color-text);\n",
       "  box-shadow: 2pt 2pt 4pt #999;\n",
       "  /* unfitted */\n",
       "  background: var(--sklearn-color-unfitted-level-0);\n",
       "  border: .5pt solid var(--sklearn-color-unfitted-level-3);\n",
       "}\n",
       "\n",
       ".sk-estimator-doc-link.fitted span {\n",
       "  /* fitted */\n",
       "  background: var(--sklearn-color-fitted-level-0);\n",
       "  border: var(--sklearn-color-fitted-level-3);\n",
       "}\n",
       "\n",
       ".sk-estimator-doc-link:hover span {\n",
       "  display: block;\n",
       "}\n",
       "\n",
       "/* \"?\"-specific style due to the `<a>` HTML tag */\n",
       "\n",
       "#sk-container-id-1 a.estimator_doc_link {\n",
       "  float: right;\n",
       "  font-size: 1rem;\n",
       "  line-height: 1em;\n",
       "  font-family: monospace;\n",
       "  background-color: var(--sklearn-color-background);\n",
       "  border-radius: 1rem;\n",
       "  height: 1rem;\n",
       "  width: 1rem;\n",
       "  text-decoration: none;\n",
       "  /* unfitted */\n",
       "  color: var(--sklearn-color-unfitted-level-1);\n",
       "  border: var(--sklearn-color-unfitted-level-1) 1pt solid;\n",
       "}\n",
       "\n",
       "#sk-container-id-1 a.estimator_doc_link.fitted {\n",
       "  /* fitted */\n",
       "  border: var(--sklearn-color-fitted-level-1) 1pt solid;\n",
       "  color: var(--sklearn-color-fitted-level-1);\n",
       "}\n",
       "\n",
       "/* On hover */\n",
       "#sk-container-id-1 a.estimator_doc_link:hover {\n",
       "  /* unfitted */\n",
       "  background-color: var(--sklearn-color-unfitted-level-3);\n",
       "  color: var(--sklearn-color-background);\n",
       "  text-decoration: none;\n",
       "}\n",
       "\n",
       "#sk-container-id-1 a.estimator_doc_link.fitted:hover {\n",
       "  /* fitted */\n",
       "  background-color: var(--sklearn-color-fitted-level-3);\n",
       "}\n",
       "\n",
       ".estimator-table summary {\n",
       "    padding: .5rem;\n",
       "    font-family: monospace;\n",
       "    cursor: pointer;\n",
       "}\n",
       "\n",
       ".estimator-table details[open] {\n",
       "    padding-left: 0.1rem;\n",
       "    padding-right: 0.1rem;\n",
       "    padding-bottom: 0.3rem;\n",
       "}\n",
       "\n",
       ".estimator-table .parameters-table {\n",
       "    margin-left: auto !important;\n",
       "    margin-right: auto !important;\n",
       "}\n",
       "\n",
       ".estimator-table .parameters-table tr:nth-child(odd) {\n",
       "    background-color: #fff;\n",
       "}\n",
       "\n",
       ".estimator-table .parameters-table tr:nth-child(even) {\n",
       "    background-color: #f6f6f6;\n",
       "}\n",
       "\n",
       ".estimator-table .parameters-table tr:hover {\n",
       "    background-color: #e0e0e0;\n",
       "}\n",
       "\n",
       ".estimator-table table td {\n",
       "    border: 1px solid rgba(106, 105, 104, 0.232);\n",
       "}\n",
       "\n",
       ".user-set td {\n",
       "    color:rgb(255, 94, 0);\n",
       "    text-align: left;\n",
       "}\n",
       "\n",
       ".user-set td.value pre {\n",
       "    color:rgb(255, 94, 0) !important;\n",
       "    background-color: transparent !important;\n",
       "}\n",
       "\n",
       ".default td {\n",
       "    color: black;\n",
       "    text-align: left;\n",
       "}\n",
       "\n",
       ".user-set td i,\n",
       ".default td i {\n",
       "    color: black;\n",
       "}\n",
       "\n",
       ".copy-paste-icon {\n",
       "    background-image: url(data:image/svg+xml;base64,PHN2ZyB4bWxucz0iaHR0cDovL3d3dy53My5vcmcvMjAwMC9zdmciIHZpZXdCb3g9IjAgMCA0NDggNTEyIj48IS0tIUZvbnQgQXdlc29tZSBGcmVlIDYuNy4yIGJ5IEBmb250YXdlc29tZSAtIGh0dHBzOi8vZm9udGF3ZXNvbWUuY29tIExpY2Vuc2UgLSBodHRwczovL2ZvbnRhd2Vzb21lLmNvbS9saWNlbnNlL2ZyZWUgQ29weXJpZ2h0IDIwMjUgRm9udGljb25zLCBJbmMuLS0+PHBhdGggZD0iTTIwOCAwTDMzMi4xIDBjMTIuNyAwIDI0LjkgNS4xIDMzLjkgMTQuMWw2Ny45IDY3LjljOSA5IDE0LjEgMjEuMiAxNC4xIDMzLjlMNDQ4IDMzNmMwIDI2LjUtMjEuNSA0OC00OCA0OGwtMTkyIDBjLTI2LjUgMC00OC0yMS41LTQ4LTQ4bDAtMjg4YzAtMjYuNSAyMS41LTQ4IDQ4LTQ4ek00OCAxMjhsODAgMCAwIDY0LTY0IDAgMCAyNTYgMTkyIDAgMC0zMiA2NCAwIDAgNDhjMCAyNi41LTIxLjUgNDgtNDggNDhMNDggNTEyYy0yNi41IDAtNDgtMjEuNS00OC00OEwwIDE3NmMwLTI2LjUgMjEuNS00OCA0OC00OHoiLz48L3N2Zz4=);\n",
       "    background-repeat: no-repeat;\n",
       "    background-size: 14px 14px;\n",
       "    background-position: 0;\n",
       "    display: inline-block;\n",
       "    width: 14px;\n",
       "    height: 14px;\n",
       "    cursor: pointer;\n",
       "}\n",
       "</style><body><div id=\"sk-container-id-1\" class=\"sk-top-container\"><div class=\"sk-text-repr-fallback\"><pre>RandomForestRegressor(n_jobs=-1, random_state=42)</pre><b>In a Jupyter environment, please rerun this cell to show the HTML representation or trust the notebook. <br />On GitHub, the HTML representation is unable to render, please try loading this page with nbviewer.org.</b></div><div class=\"sk-container\" hidden><div class=\"sk-item\"><div class=\"sk-estimator fitted sk-toggleable\"><input class=\"sk-toggleable__control sk-hidden--visually\" id=\"sk-estimator-id-1\" type=\"checkbox\" checked><label for=\"sk-estimator-id-1\" class=\"sk-toggleable__label fitted sk-toggleable__label-arrow\"><div><div>RandomForestRegressor</div></div><div><a class=\"sk-estimator-doc-link fitted\" rel=\"noreferrer\" target=\"_blank\" href=\"https://scikit-learn.org/1.7/modules/generated/sklearn.ensemble.RandomForestRegressor.html\">?<span>Documentation for RandomForestRegressor</span></a><span class=\"sk-estimator-doc-link fitted\">i<span>Fitted</span></span></div></label><div class=\"sk-toggleable__content fitted\" data-param-prefix=\"\">\n",
       "        <div class=\"estimator-table\">\n",
       "            <details>\n",
       "                <summary>Parameters</summary>\n",
       "                <table class=\"parameters-table\">\n",
       "                  <tbody>\n",
       "                    \n",
       "        <tr class=\"default\">\n",
       "            <td><i class=\"copy-paste-icon\"\n",
       "                 onclick=\"copyToClipboard('n_estimators',\n",
       "                          this.parentElement.nextElementSibling)\"\n",
       "            ></i></td>\n",
       "            <td class=\"param\">n_estimators&nbsp;</td>\n",
       "            <td class=\"value\">100</td>\n",
       "        </tr>\n",
       "    \n",
       "\n",
       "        <tr class=\"default\">\n",
       "            <td><i class=\"copy-paste-icon\"\n",
       "                 onclick=\"copyToClipboard('criterion',\n",
       "                          this.parentElement.nextElementSibling)\"\n",
       "            ></i></td>\n",
       "            <td class=\"param\">criterion&nbsp;</td>\n",
       "            <td class=\"value\">&#x27;squared_error&#x27;</td>\n",
       "        </tr>\n",
       "    \n",
       "\n",
       "        <tr class=\"default\">\n",
       "            <td><i class=\"copy-paste-icon\"\n",
       "                 onclick=\"copyToClipboard('max_depth',\n",
       "                          this.parentElement.nextElementSibling)\"\n",
       "            ></i></td>\n",
       "            <td class=\"param\">max_depth&nbsp;</td>\n",
       "            <td class=\"value\">None</td>\n",
       "        </tr>\n",
       "    \n",
       "\n",
       "        <tr class=\"default\">\n",
       "            <td><i class=\"copy-paste-icon\"\n",
       "                 onclick=\"copyToClipboard('min_samples_split',\n",
       "                          this.parentElement.nextElementSibling)\"\n",
       "            ></i></td>\n",
       "            <td class=\"param\">min_samples_split&nbsp;</td>\n",
       "            <td class=\"value\">2</td>\n",
       "        </tr>\n",
       "    \n",
       "\n",
       "        <tr class=\"default\">\n",
       "            <td><i class=\"copy-paste-icon\"\n",
       "                 onclick=\"copyToClipboard('min_samples_leaf',\n",
       "                          this.parentElement.nextElementSibling)\"\n",
       "            ></i></td>\n",
       "            <td class=\"param\">min_samples_leaf&nbsp;</td>\n",
       "            <td class=\"value\">1</td>\n",
       "        </tr>\n",
       "    \n",
       "\n",
       "        <tr class=\"default\">\n",
       "            <td><i class=\"copy-paste-icon\"\n",
       "                 onclick=\"copyToClipboard('min_weight_fraction_leaf',\n",
       "                          this.parentElement.nextElementSibling)\"\n",
       "            ></i></td>\n",
       "            <td class=\"param\">min_weight_fraction_leaf&nbsp;</td>\n",
       "            <td class=\"value\">0.0</td>\n",
       "        </tr>\n",
       "    \n",
       "\n",
       "        <tr class=\"default\">\n",
       "            <td><i class=\"copy-paste-icon\"\n",
       "                 onclick=\"copyToClipboard('max_features',\n",
       "                          this.parentElement.nextElementSibling)\"\n",
       "            ></i></td>\n",
       "            <td class=\"param\">max_features&nbsp;</td>\n",
       "            <td class=\"value\">1.0</td>\n",
       "        </tr>\n",
       "    \n",
       "\n",
       "        <tr class=\"default\">\n",
       "            <td><i class=\"copy-paste-icon\"\n",
       "                 onclick=\"copyToClipboard('max_leaf_nodes',\n",
       "                          this.parentElement.nextElementSibling)\"\n",
       "            ></i></td>\n",
       "            <td class=\"param\">max_leaf_nodes&nbsp;</td>\n",
       "            <td class=\"value\">None</td>\n",
       "        </tr>\n",
       "    \n",
       "\n",
       "        <tr class=\"default\">\n",
       "            <td><i class=\"copy-paste-icon\"\n",
       "                 onclick=\"copyToClipboard('min_impurity_decrease',\n",
       "                          this.parentElement.nextElementSibling)\"\n",
       "            ></i></td>\n",
       "            <td class=\"param\">min_impurity_decrease&nbsp;</td>\n",
       "            <td class=\"value\">0.0</td>\n",
       "        </tr>\n",
       "    \n",
       "\n",
       "        <tr class=\"default\">\n",
       "            <td><i class=\"copy-paste-icon\"\n",
       "                 onclick=\"copyToClipboard('bootstrap',\n",
       "                          this.parentElement.nextElementSibling)\"\n",
       "            ></i></td>\n",
       "            <td class=\"param\">bootstrap&nbsp;</td>\n",
       "            <td class=\"value\">True</td>\n",
       "        </tr>\n",
       "    \n",
       "\n",
       "        <tr class=\"default\">\n",
       "            <td><i class=\"copy-paste-icon\"\n",
       "                 onclick=\"copyToClipboard('oob_score',\n",
       "                          this.parentElement.nextElementSibling)\"\n",
       "            ></i></td>\n",
       "            <td class=\"param\">oob_score&nbsp;</td>\n",
       "            <td class=\"value\">False</td>\n",
       "        </tr>\n",
       "    \n",
       "\n",
       "        <tr class=\"user-set\">\n",
       "            <td><i class=\"copy-paste-icon\"\n",
       "                 onclick=\"copyToClipboard('n_jobs',\n",
       "                          this.parentElement.nextElementSibling)\"\n",
       "            ></i></td>\n",
       "            <td class=\"param\">n_jobs&nbsp;</td>\n",
       "            <td class=\"value\">-1</td>\n",
       "        </tr>\n",
       "    \n",
       "\n",
       "        <tr class=\"user-set\">\n",
       "            <td><i class=\"copy-paste-icon\"\n",
       "                 onclick=\"copyToClipboard('random_state',\n",
       "                          this.parentElement.nextElementSibling)\"\n",
       "            ></i></td>\n",
       "            <td class=\"param\">random_state&nbsp;</td>\n",
       "            <td class=\"value\">42</td>\n",
       "        </tr>\n",
       "    \n",
       "\n",
       "        <tr class=\"default\">\n",
       "            <td><i class=\"copy-paste-icon\"\n",
       "                 onclick=\"copyToClipboard('verbose',\n",
       "                          this.parentElement.nextElementSibling)\"\n",
       "            ></i></td>\n",
       "            <td class=\"param\">verbose&nbsp;</td>\n",
       "            <td class=\"value\">0</td>\n",
       "        </tr>\n",
       "    \n",
       "\n",
       "        <tr class=\"default\">\n",
       "            <td><i class=\"copy-paste-icon\"\n",
       "                 onclick=\"copyToClipboard('warm_start',\n",
       "                          this.parentElement.nextElementSibling)\"\n",
       "            ></i></td>\n",
       "            <td class=\"param\">warm_start&nbsp;</td>\n",
       "            <td class=\"value\">False</td>\n",
       "        </tr>\n",
       "    \n",
       "\n",
       "        <tr class=\"default\">\n",
       "            <td><i class=\"copy-paste-icon\"\n",
       "                 onclick=\"copyToClipboard('ccp_alpha',\n",
       "                          this.parentElement.nextElementSibling)\"\n",
       "            ></i></td>\n",
       "            <td class=\"param\">ccp_alpha&nbsp;</td>\n",
       "            <td class=\"value\">0.0</td>\n",
       "        </tr>\n",
       "    \n",
       "\n",
       "        <tr class=\"default\">\n",
       "            <td><i class=\"copy-paste-icon\"\n",
       "                 onclick=\"copyToClipboard('max_samples',\n",
       "                          this.parentElement.nextElementSibling)\"\n",
       "            ></i></td>\n",
       "            <td class=\"param\">max_samples&nbsp;</td>\n",
       "            <td class=\"value\">None</td>\n",
       "        </tr>\n",
       "    \n",
       "\n",
       "        <tr class=\"default\">\n",
       "            <td><i class=\"copy-paste-icon\"\n",
       "                 onclick=\"copyToClipboard('monotonic_cst',\n",
       "                          this.parentElement.nextElementSibling)\"\n",
       "            ></i></td>\n",
       "            <td class=\"param\">monotonic_cst&nbsp;</td>\n",
       "            <td class=\"value\">None</td>\n",
       "        </tr>\n",
       "    \n",
       "                  </tbody>\n",
       "                </table>\n",
       "            </details>\n",
       "        </div>\n",
       "    </div></div></div></div></div><script>function copyToClipboard(text, element) {\n",
       "    // Get the parameter prefix from the closest toggleable content\n",
       "    const toggleableContent = element.closest('.sk-toggleable__content');\n",
       "    const paramPrefix = toggleableContent ? toggleableContent.dataset.paramPrefix : '';\n",
       "    const fullParamName = paramPrefix ? `${paramPrefix}${text}` : text;\n",
       "\n",
       "    const originalStyle = element.style;\n",
       "    const computedStyle = window.getComputedStyle(element);\n",
       "    const originalWidth = computedStyle.width;\n",
       "    const originalHTML = element.innerHTML.replace('Copied!', '');\n",
       "\n",
       "    navigator.clipboard.writeText(fullParamName)\n",
       "        .then(() => {\n",
       "            element.style.width = originalWidth;\n",
       "            element.style.color = 'green';\n",
       "            element.innerHTML = \"Copied!\";\n",
       "\n",
       "            setTimeout(() => {\n",
       "                element.innerHTML = originalHTML;\n",
       "                element.style = originalStyle;\n",
       "            }, 2000);\n",
       "        })\n",
       "        .catch(err => {\n",
       "            console.error('Failed to copy:', err);\n",
       "            element.style.color = 'red';\n",
       "            element.innerHTML = \"Failed!\";\n",
       "            setTimeout(() => {\n",
       "                element.innerHTML = originalHTML;\n",
       "                element.style = originalStyle;\n",
       "            }, 2000);\n",
       "        });\n",
       "    return false;\n",
       "}\n",
       "\n",
       "document.querySelectorAll('.fa-regular.fa-copy').forEach(function(element) {\n",
       "    const toggleableContent = element.closest('.sk-toggleable__content');\n",
       "    const paramPrefix = toggleableContent ? toggleableContent.dataset.paramPrefix : '';\n",
       "    const paramName = element.parentElement.nextElementSibling.textContent.trim();\n",
       "    const fullParamName = paramPrefix ? `${paramPrefix}${paramName}` : paramName;\n",
       "\n",
       "    element.setAttribute('title', fullParamName);\n",
       "});\n",
       "</script></body>"
      ],
      "text/plain": [
       "RandomForestRegressor(n_jobs=-1, random_state=42)"
      ]
     },
     "execution_count": 47,
     "metadata": {},
     "output_type": "execute_result"
    }
   ],
   "source": [
    "from sklearn.ensemble import RandomForestRegressor\n",
    "\n",
    "# Creamos el modelo\n",
    "modelo = RandomForestRegressor(n_estimators=100, random_state=42, n_jobs=-1)\n",
    "\n",
    "# Entrenamos el modelo con los datos de entrenamiento\n",
    "modelo.fit(X_train, y_train)"
   ]
  },
  {
   "cell_type": "code",
   "execution_count": 48,
   "id": "f04ddd52",
   "metadata": {},
   "outputs": [
    {
     "name": "stdout",
     "output_type": "stream",
     "text": [
      "Error Absoluto Medio (MAE): 0.76°C\n",
      "Coeficiente de Determinación (R²): 0.98\n"
     ]
    }
   ],
   "source": [
    "from sklearn.metrics import mean_absolute_error, r2_score\n",
    "\n",
    "# Hacemos las predicciones sobre el conjunto de prueba\n",
    "predicciones = modelo.predict(X_test)\n",
    "\n",
    "# Calculamos las métricas de error\n",
    "mae = mean_absolute_error(y_test, predicciones)\n",
    "r2 = r2_score(y_test, predicciones)\n",
    "\n",
    "print(f\"Error Absoluto Medio (MAE): {mae:.2f}°C\")\n",
    "print(f\"Coeficiente de Determinación (R²): {r2:.2f}\")"
   ]
  },
  {
   "cell_type": "code",
   "execution_count": 49,
   "id": "1546d9c1",
   "metadata": {},
   "outputs": [
    {
     "name": "stdout",
     "output_type": "stream",
     "text": [
      "--- DataFrame de Comparación: Real vs. Predicción ---\n",
      "      TEMP_Real  TEMP_Predicha  Error\n",
      "49         10.0         11.048 -1.048\n",
      "898        16.7         16.729 -0.029\n",
      "1316       13.5         11.532  1.968\n",
      "363        13.8         13.370   0.43\n",
      "925        10.8         11.292 -0.492\n",
      "415        16.0         16.786 -0.786\n",
      "566        15.4         15.442 -0.042\n",
      "1242        9.0          7.472  1.528\n",
      "974         1.7          1.853 -0.153\n",
      "1013       19.2         19.364 -0.164\n"
     ]
    }
   ],
   "source": [
    "# Asumiendo que ya tienes 'y_test' y 'predicciones' del paso anterior\n",
    "\n",
    "# Creamos un nuevo DataFrame para la comparación\n",
    "# y_test ya tiene el índice correcto, pandas alineará las predicciones automáticamente\n",
    "df_resultados = pd.DataFrame({\n",
    "    'TEMP_Real': y_test,\n",
    "    'TEMP_Predicha': predicciones\n",
    "})\n",
    "\n",
    "# Opcional: añadimos una columna con la diferencia o error\n",
    "df_resultados['Error'] = df_resultados['TEMP_Real'] - df_resultados['TEMP_Predicha']\n",
    "\n",
    "# Mostramos las primeras filas del nuevo DataFrame\n",
    "print(\"--- DataFrame de Comparación: Real vs. Predicción ---\")\n",
    "print(df_resultados.head(10))"
   ]
  },
  {
   "cell_type": "code",
   "execution_count": 50,
   "id": "71377ee6",
   "metadata": {},
   "outputs": [
    {
     "data": {
      "image/png": "[encoded data removed]",
      "text/plain": [
       "<Figure size 1000x1000 with 1 Axes>"
      ]
     },
     "metadata": {},
     "output_type": "display_data"
    }
   ],
   "source": [
    "import matplotlib.pyplot as plt\n",
    "import seaborn as sns\n",
    "\n",
    "plt.figure(figsize=(10, 10))\n",
    "\n",
    "# Graficamos los puntos\n",
    "sns.scatterplot(x='TEMP_Real', y='TEMP_Predicha', data=df_resultados, alpha=0.6)\n",
    "\n",
    "# Dibujamos la línea de referencia para un \"modelo perfecto\"\n",
    "plt.plot([df_resultados['TEMP_Real'].min(), df_resultados['TEMP_Real'].max()],\n",
    "         [df_resultados['TEMP_Real'].min(), df_resultados['TEMP_Real'].max()],\n",
    "         '--r', linewidth=2)\n",
    "\n",
    "plt.title('Valor Real vs. Valor Predicho', fontsize=16)\n",
    "plt.xlabel('Temperatura Real (°C)', fontsize=12)\n",
    "plt.ylabel('Temperatura Predicha (°C)', fontsize=12)\n",
    "plt.axis('equal') # Asegura que la escala de los ejes sea la misma\n",
    "plt.grid(True)\n",
    "plt.show()"
   ]
  },
  {
   "cell_type": "code",
   "execution_count": 53,
   "id": "f4ac307b",
   "metadata": {},
   "outputs": [
    {
     "name": "stdout",
     "output_type": "stream",
     "text": [
      "--- DataFrame listo para el mapa de errores ---\n",
      "      TEMP (°C)  HUM (%)  PNM (hPa)  DD (g)  FF (km/h)  ALTURA        LAT  \\\n",
      "49         10.0       92     1016.2      10         15    83.0 -38.700000   \n",
      "898        16.7       82     1015.4      70          9    52.0 -27.433333   \n",
      "1316       13.5      100     1014.0     230          9   312.0 -36.216667   \n",
      "363        13.8       92     1017.0      50          7    12.0 -34.600000   \n",
      "925        10.8       99     1013.5     290          6   421.0 -33.083333   \n",
      "\n",
      "            LON  HORA_sen  HORA_cos  ...  PROV_SAN JUAN  PROV_SAN LUIS  \\\n",
      "49   -62.150000  0.258819  0.965926  ...          False          False   \n",
      "898  -59.033333       1.0       0.0  ...          False          False   \n",
      "1316 -65.433333 -0.707107 -0.707107  ...          False          False   \n",
      "363  -58.600000  0.965926 -0.258819  ...          False          False   \n",
      "925  -64.266667  0.707107 -0.707107  ...          False          False   \n",
      "\n",
      "      PROV_SANTA CRUZ  PROV_SANTA FE  PROV_SANTIAGO DEL ES  \\\n",
      "49              False          False                 False   \n",
      "898             False          False                 False   \n",
      "1316            False          False                 False   \n",
      "363             False          False                 False   \n",
      "925             False          False                 False   \n",
      "\n",
      "      PROV_TIERRA DEL FUEG  PROV_TUCUMAN  TEMP_Predicha  Error  Error_Absoluto  \n",
      "49                   False         False         11.048 -1.048           1.048  \n",
      "898                  False         False         16.729 -0.029           0.029  \n",
      "1316                 False         False         11.532  1.968           1.968  \n",
      "363                  False         False         13.370   0.43            0.43  \n",
      "925                  False         False         11.292 -0.492           0.492  \n",
      "\n",
      "[5 rows x 37 columns]\n"
     ]
    }
   ],
   "source": [
    "# Partimos de 'df_resultados' y 'X_test' que ya teníamos.\n",
    "# 'df_resultados' tiene el error y comparte el índice con 'X_test'.\n",
    "\n",
    "# Para obtener las coordenadas y el nombre, usamos el índice de X_test\n",
    "# para buscar en el DataFrame que tenía todo junto ('df_final').\n",
    "df_errores = df_ok.loc[X_test.index].copy()\n",
    "\n",
    "# Añadimos las columnas de predicción y error que ya calculamos\n",
    "df_errores['TEMP_Predicha'] = df_resultados['TEMP_Predicha']\n",
    "df_errores['Error'] = df_resultados['Error']\n",
    "\n",
    "# Creamos una columna con el error absoluto para usarla en el tamaño de la burbuja\n",
    "df_errores['Error_Absoluto'] = np.abs(df_errores['Error'])\n",
    "\n",
    "print(\"--- DataFrame listo para el mapa de errores ---\")\n",
    "print(df_errores.head())"
   ]
  },
  {
   "cell_type": "code",
   "execution_count": 65,
   "id": "d1762c33",
   "metadata": {},
   "outputs": [
    {
     "name": "stderr",
     "output_type": "stream",
     "text": [
      "C:\\Users\\dsput\\AppData\\Local\\Temp\\ipykernel_16496\\595924369.py:3: DeprecationWarning:\n",
      "\n",
      "*scatter_mapbox* is deprecated! Use *scatter_map* instead. Learn more at: https://plotly.com/python/mapbox-to-maplibre/\n",
      "\n"
     ]
    },
    {
     "data": {
      "application/vnd.plotly.v1+json": {
       "config": {
        "plotlyServerURL": "https://plot.ly"
       },
       "data": [
        {
         "customdata": {
          "bdata": "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",
          "dtype": "f8",
          "shape": "272, 3"
         },
         "hovertemplate": "LAT=%{lat}<br>LON=%{lon}<br>TEMP (°C)=%{customdata[0]:.2f}<br>TEMP_Predicha=%{customdata[1]:.2f}<br>Error=%{customdata[2]:.2f}<br>Error_Absoluto=%{marker.color}<extra></extra>",
         "lat": {
          "bdata": "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",
          "dtype": "f8"
         },
         "legendgroup": "",
         "lon": {
          "bdata": "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",
          "dtype": "f8"
         },
         "marker": {
          "color": {
           "bdata": "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",
           "dtype": "f8"
          },
          "coloraxis": "coloraxis",
          "size": 12
         },
         "mode": "markers",
         "name": "",
         "showlegend": false,
         "subplot": "mapbox",
         "type": "scattermapbox"
        }
       ],
       "layout": {
        "coloraxis": {
         "colorbar": {
          "title": {
           "text": "Error_Absoluto"
          }
         },
         "colorscale": [
          [
           0,
           "rgb(5,48,97)"
          ],
          [
           0.1,
           "rgb(33,102,172)"
          ],
          [
           0.2,
           "rgb(67,147,195)"
          ],
          [
           0.3,
           "rgb(146,197,222)"
          ],
          [
           0.4,
           "rgb(209,229,240)"
          ],
          [
           0.5,
           "rgb(247,247,247)"
          ],
          [
           0.6,
           "rgb(253,219,199)"
          ],
          [
           0.7,
           "rgb(244,165,130)"
          ],
          [
           0.8,
           "rgb(214,96,77)"
          ],
          [
           0.9,
           "rgb(178,24,43)"
          ],
          [
           1,
           "rgb(103,0,31)"
          ]
         ]
        },
        "legend": {
         "tracegroupgap": 0
        },
        "mapbox": {
         "center": {
          "lat": -40,
          "lon": -64
         },
         "domain": {
          "x": [
           0,
           1
          ],
          "y": [
           0,
           1
          ]
         },
         "style": "open-street-map",
         "zoom": 3
        },
        "template": {
         "data": {
          "bar": [
           {
            "error_x": {
             "color": "#2a3f5f"
            },
            "error_y": {
             "color": "#2a3f5f"
            },
            "marker": {
             "line": {
              "color": "#E5ECF6",
              "width": 0.5
             },
             "pattern": {
              "fillmode": "overlay",
              "size": 10,
              "solidity": 0.2
             }
            },
            "type": "bar"
           }
          ],
          "barpolar": [
           {
            "marker": {
             "line": {
              "color": "#E5ECF6",
              "width": 0.5
             },
             "pattern": {
              "fillmode": "overlay",
              "size": 10,
              "solidity": 0.2
             }
            },
            "type": "barpolar"
           }
          ],
          "carpet": [
           {
            "aaxis": {
             "endlinecolor": "#2a3f5f",
             "gridcolor": "white",
             "linecolor": "white",
             "minorgridcolor": "white",
             "startlinecolor": "#2a3f5f"
            },
            "baxis": {
             "endlinecolor": "#2a3f5f",
             "gridcolor": "white",
             "linecolor": "white",
             "minorgridcolor": "white",
             "startlinecolor": "#2a3f5f"
            },
            "type": "carpet"
           }
          ],
          "choropleth": [
           {
            "colorbar": {
             "outlinewidth": 0,
             "ticks": ""
            },
            "type": "choropleth"
           }
          ],
          "contour": [
           {
            "colorbar": {
             "outlinewidth": 0,
             "ticks": ""
            },
            "colorscale": [
             [
              0,
              "#0d0887"
             ],
             [
              0.1111111111111111,
              "#46039f"
             ],
             [
              0.2222222222222222,
              "#7201a8"
             ],
             [
              0.3333333333333333,
              "#9c179e"
             ],
             [
              0.4444444444444444,
              "#bd3786"
             ],
             [
              0.5555555555555556,
              "#d8576b"
             ],
             [
              0.6666666666666666,
              "#ed7953"
             ],
             [
              0.7777777777777778,
              "#fb9f3a"
             ],
             [
              0.8888888888888888,
              "#fdca26"
             ],
             [
              1,
              "#f0f921"
             ]
            ],
            "type": "contour"
           }
          ],
          "contourcarpet": [
           {
            "colorbar": {
             "outlinewidth": 0,
             "ticks": ""
            },
            "type": "contourcarpet"
           }
          ],
          "heatmap": [
           {
            "colorbar": {
             "outlinewidth": 0,
             "ticks": ""
            },
            "colorscale": [
             [
              0,
              "#0d0887"
             ],
             [
              0.1111111111111111,
              "#46039f"
             ],
             [
              0.2222222222222222,
              "#7201a8"
             ],
             [
              0.3333333333333333,
              "#9c179e"
             ],
             [
              0.4444444444444444,
              "#bd3786"
             ],
             [
              0.5555555555555556,
              "#d8576b"
             ],
             [
              0.6666666666666666,
              "#ed7953"
             ],
             [
              0.7777777777777778,
              "#fb9f3a"
             ],
             [
              0.8888888888888888,
              "#fdca26"
             ],
             [
              1,
              "#f0f921"
             ]
            ],
            "type": "heatmap"
           }
          ],
          "histogram": [
           {
            "marker": {
             "pattern": {
              "fillmode": "overlay",
              "size": 10,
              "solidity": 0.2
             }
            },
            "type": "histogram"
           }
          ],
          "histogram2d": [
           {
            "colorbar": {
             "outlinewidth": 0,
             "ticks": ""
            },
            "colorscale": [
             [
              0,
              "#0d0887"
             ],
             [
              0.1111111111111111,
              "#46039f"
             ],
             [
              0.2222222222222222,
              "#7201a8"
             ],
             [
              0.3333333333333333,
              "#9c179e"
             ],
             [
              0.4444444444444444,
              "#bd3786"
             ],
             [
              0.5555555555555556,
              "#d8576b"
             ],
             [
              0.6666666666666666,
              "#ed7953"
             ],
             [
              0.7777777777777778,
              "#fb9f3a"
             ],
             [
              0.8888888888888888,
              "#fdca26"
             ],
             [
              1,
              "#f0f921"
             ]
            ],
            "type": "histogram2d"
           }
          ],
          "histogram2dcontour": [
           {
            "colorbar": {
             "outlinewidth": 0,
             "ticks": ""
            },
            "colorscale": [
             [
              0,
              "#0d0887"
             ],
             [
              0.1111111111111111,
              "#46039f"
             ],
             [
              0.2222222222222222,
              "#7201a8"
             ],
             [
              0.3333333333333333,
              "#9c179e"
             ],
             [
              0.4444444444444444,
              "#bd3786"
             ],
             [
              0.5555555555555556,
              "#d8576b"
             ],
             [
              0.6666666666666666,
              "#ed7953"
             ],
             [
              0.7777777777777778,
              "#fb9f3a"
             ],
             [
              0.8888888888888888,
              "#fdca26"
             ],
             [
              1,
              "#f0f921"
             ]
            ],
            "type": "histogram2dcontour"
           }
          ],
          "mesh3d": [
           {
            "colorbar": {
             "outlinewidth": 0,
             "ticks": ""
            },
            "type": "mesh3d"
           }
          ],
          "parcoords": [
           {
            "line": {
             "colorbar": {
              "outlinewidth": 0,
              "ticks": ""
             }
            },
            "type": "parcoords"
           }
          ],
          "pie": [
           {
            "automargin": true,
            "type": "pie"
           }
          ],
          "scatter": [
           {
            "fillpattern": {
             "fillmode": "overlay",
             "size": 10,
             "solidity": 0.2
            },
            "type": "scatter"
           }
          ],
          "scatter3d": [
           {
            "line": {
             "colorbar": {
              "outlinewidth": 0,
              "ticks": ""
             }
            },
            "marker": {
             "colorbar": {
              "outlinewidth": 0,
              "ticks": ""
             }
            },
            "type": "scatter3d"
           }
          ],
          "scattercarpet": [
           {
            "marker": {
             "colorbar": {
              "outlinewidth": 0,
              "ticks": ""
             }
            },
            "type": "scattercarpet"
           }
          ],
          "scattergeo": [
           {
            "marker": {
             "colorbar": {
              "outlinewidth": 0,
              "ticks": ""
             }
            },
            "type": "scattergeo"
           }
          ],
          "scattergl": [
           {
            "marker": {
             "colorbar": {
              "outlinewidth": 0,
              "ticks": ""
             }
            },
            "type": "scattergl"
           }
          ],
          "scattermap": [
           {
            "marker": {
             "colorbar": {
              "outlinewidth": 0,
              "ticks": ""
             }
            },
            "type": "scattermap"
           }
          ],
          "scattermapbox": [
           {
            "marker": {
             "colorbar": {
              "outlinewidth": 0,
              "ticks": ""
             }
            },
            "type": "scattermapbox"
           }
          ],
          "scatterpolar": [
           {
            "marker": {
             "colorbar": {
              "outlinewidth": 0,
              "ticks": ""
             }
            },
            "type": "scatterpolar"
           }
          ],
          "scatterpolargl": [
           {
            "marker": {
             "colorbar": {
              "outlinewidth": 0,
              "ticks": ""
             }
            },
            "type": "scatterpolargl"
           }
          ],
          "scatterternary": [
           {
            "marker": {
             "colorbar": {
              "outlinewidth": 0,
              "ticks": ""
             }
            },
            "type": "scatterternary"
           }
          ],
          "surface": [
           {
            "colorbar": {
             "outlinewidth": 0,
             "ticks": ""
            },
            "colorscale": [
             [
              0,
              "#0d0887"
             ],
             [
              0.1111111111111111,
              "#46039f"
             ],
             [
              0.2222222222222222,
              "#7201a8"
             ],
             [
              0.3333333333333333,
              "#9c179e"
             ],
             [
              0.4444444444444444,
              "#bd3786"
             ],
             [
              0.5555555555555556,
              "#d8576b"
             ],
             [
              0.6666666666666666,
              "#ed7953"
             ],
             [
              0.7777777777777778,
              "#fb9f3a"
             ],
             [
              0.8888888888888888,
              "#fdca26"
             ],
             [
              1,
              "#f0f921"
             ]
            ],
            "type": "surface"
           }
          ],
          "table": [
           {
            "cells": {
             "fill": {
              "color": "#EBF0F8"
             },
             "line": {
              "color": "white"
             }
            },
            "header": {
             "fill": {
              "color": "#C8D4E3"
             },
             "line": {
              "color": "white"
             }
            },
            "type": "table"
           }
          ]
         },
         "layout": {
          "annotationdefaults": {
           "arrowcolor": "#2a3f5f",
           "arrowhead": 0,
           "arrowwidth": 1
          },
          "autotypenumbers": "strict",
          "coloraxis": {
           "colorbar": {
            "outlinewidth": 0,
            "ticks": ""
           }
          },
          "colorscale": {
           "diverging": [
            [
             0,
             "#8e0152"
            ],
            [
             0.1,
             "#c51b7d"
            ],
            [
             0.2,
             "#de77ae"
            ],
            [
             0.3,
             "#f1b6da"
            ],
            [
             0.4,
             "#fde0ef"
            ],
            [
             0.5,
             "#f7f7f7"
            ],
            [
             0.6,
             "#e6f5d0"
            ],
            [
             0.7,
             "#b8e186"
            ],
            [
             0.8,
             "#7fbc41"
            ],
            [
             0.9,
             "#4d9221"
            ],
            [
             1,
             "#276419"
            ]
           ],
           "sequential": [
            [
             0,
             "#0d0887"
            ],
            [
             0.1111111111111111,
             "#46039f"
            ],
            [
             0.2222222222222222,
             "#7201a8"
            ],
            [
             0.3333333333333333,
             "#9c179e"
            ],
            [
             0.4444444444444444,
             "#bd3786"
            ],
            [
             0.5555555555555556,
             "#d8576b"
            ],
            [
             0.6666666666666666,
             "#ed7953"
            ],
            [
             0.7777777777777778,
             "#fb9f3a"
            ],
            [
             0.8888888888888888,
             "#fdca26"
            ],
            [
             1,
             "#f0f921"
            ]
           ],
           "sequentialminus": [
            [
             0,
             "#0d0887"
            ],
            [
             0.1111111111111111,
             "#46039f"
            ],
            [
             0.2222222222222222,
             "#7201a8"
            ],
            [
             0.3333333333333333,
             "#9c179e"
            ],
            [
             0.4444444444444444,
             "#bd3786"
            ],
            [
             0.5555555555555556,
             "#d8576b"
            ],
            [
             0.6666666666666666,
             "#ed7953"
            ],
            [
             0.7777777777777778,
             "#fb9f3a"
            ],
            [
             0.8888888888888888,
             "#fdca26"
            ],
            [
             1,
             "#f0f921"
            ]
           ]
          },
          "colorway": [
           "#636efa",
           "#EF553B",
           "#00cc96",
           "#ab63fa",
           "#FFA15A",
           "#19d3f3",
           "#FF6692",
           "#B6E880",
           "#FF97FF",
           "#FECB52"
          ],
          "font": {
           "color": "#2a3f5f"
          },
          "geo": {
           "bgcolor": "white",
           "lakecolor": "white",
           "landcolor": "#E5ECF6",
           "showlakes": true,
           "showland": true,
           "subunitcolor": "white"
          },
          "hoverlabel": {
           "align": "left"
          },
          "hovermode": "closest",
          "mapbox": {
           "style": "light"
          },
          "paper_bgcolor": "white",
          "plot_bgcolor": "#E5ECF6",
          "polar": {
           "angularaxis": {
            "gridcolor": "white",
            "linecolor": "white",
            "ticks": ""
           },
           "bgcolor": "#E5ECF6",
           "radialaxis": {
            "gridcolor": "white",
            "linecolor": "white",
            "ticks": ""
           }
          },
          "scene": {
           "xaxis": {
            "backgroundcolor": "#E5ECF6",
            "gridcolor": "white",
            "gridwidth": 2,
            "linecolor": "white",
            "showbackground": true,
            "ticks": "",
            "zerolinecolor": "white"
           },
           "yaxis": {
            "backgroundcolor": "#E5ECF6",
            "gridcolor": "white",
            "gridwidth": 2,
            "linecolor": "white",
            "showbackground": true,
            "ticks": "",
            "zerolinecolor": "white"
           },
           "zaxis": {
            "backgroundcolor": "#E5ECF6",
            "gridcolor": "white",
            "gridwidth": 2,
            "linecolor": "white",
            "showbackground": true,
            "ticks": "",
            "zerolinecolor": "white"
           }
          },
          "shapedefaults": {
           "line": {
            "color": "#2a3f5f"
           }
          },
          "ternary": {
           "aaxis": {
            "gridcolor": "white",
            "linecolor": "white",
            "ticks": ""
           },
           "baxis": {
            "gridcolor": "white",
            "linecolor": "white",
            "ticks": ""
           },
           "bgcolor": "#E5ECF6",
           "caxis": {
            "gridcolor": "white",
            "linecolor": "white",
            "ticks": ""
           }
          },
          "title": {
           "x": 0.05
          },
          "xaxis": {
           "automargin": true,
           "gridcolor": "white",
           "linecolor": "white",
           "ticks": "",
           "title": {
            "standoff": 15
           },
           "zerolinecolor": "white",
           "zerolinewidth": 2
          },
          "yaxis": {
           "automargin": true,
           "gridcolor": "white",
           "linecolor": "white",
           "ticks": "",
           "title": {
            "standoff": 15
           },
           "zerolinecolor": "white",
           "zerolinewidth": 2
          }
         }
        },
        "title": {
         "text": "Mapa de Errores de Predicción de Temperatura"
        }
       }
      }
     },
     "metadata": {},
     "output_type": "display_data"
    }
   ],
   "source": [
    "import plotly.express as px\n",
    "\n",
    "fig = px.scatter_mapbox(\n",
    "    df_errores,\n",
    "    lat=\"LAT\",\n",
    "    lon=\"LON\",\n",
    "    color=\"Error_Absoluto\",\n",
    "    hover_data={'TEMP (°C)': ':.2f', 'TEMP_Predicha': ':.2f', 'Error': ':.2f'},\n",
    "    color_continuous_scale=px.colors.diverging.RdBu_r, # Rojo para error positivo, Azul para negativo\n",
    "    mapbox_style=\"open-street-map\",\n",
    "    zoom=3,\n",
    "    center={\"lat\": -40, \"lon\": -64},\n",
    "    title=\"Mapa de Errores de Predicción de Temperatura\"\n",
    ")\n",
    "\n",
    "fig.update_traces(marker=dict(size=12))\n",
    "fig.show()"
   ]
  },
  {
   "cell_type": "code",
   "execution_count": 15,
   "id": "215510ef",
   "metadata": {},
   "outputs": [
    {
     "name": "stdout",
     "output_type": "stream",
     "text": [
      "\n",
      "--- GeoDataFrame Creado (primeras filas) ---\n",
      "  FECHA (ddmmyyyy)  HORA  TEMP (°C)  HUM (%)  PNM (hPa)  DD (g)  FF (km/h)  \\\n",
      "0       2025-07-15     0       13.7       88     1020.2      80         13   \n",
      "1       2025-07-15     1       13.6       91     1019.6      80         11   \n",
      "2       2025-07-15     2       13.4       91     1019.3      80         11   \n",
      "3       2025-07-15     3       13.4       94     1018.7      80         13   \n",
      "4       2025-07-15     4       13.7       91     1018.2      90          9   \n",
      "\n",
      "          ESTACION        PROVINCIA  LAT_GRAD  LAT_MIN  LON_GRAD  LON_MIN  \\\n",
      "0  AEROPARQUE AERO  CAPITAL FEDERAL     -34.0     33.0     -58.0     25.0   \n",
      "1  AEROPARQUE AERO  CAPITAL FEDERAL     -34.0     33.0     -58.0     25.0   \n",
      "2  AEROPARQUE AERO  CAPITAL FEDERAL     -34.0     33.0     -58.0     25.0   \n",
      "3  AEROPARQUE AERO  CAPITAL FEDERAL     -34.0     33.0     -58.0     25.0   \n",
      "4  AEROPARQUE AERO  CAPITAL FEDERAL     -34.0     33.0     -58.0     25.0   \n",
      "\n",
      "   ALTURA      NUM NroOACI    LAT        LON                  geometry  \n",
      "0     6.0  87582.0    SABE -34.55 -58.416667  POINT (-58.41667 -34.55)  \n",
      "1     6.0  87582.0    SABE -34.55 -58.416667  POINT (-58.41667 -34.55)  \n",
      "2     6.0  87582.0    SABE -34.55 -58.416667  POINT (-58.41667 -34.55)  \n",
      "3     6.0  87582.0    SABE -34.55 -58.416667  POINT (-58.41667 -34.55)  \n",
      "4     6.0  87582.0    SABE -34.55 -58.416667  POINT (-58.41667 -34.55)  \n",
      "\n",
      "Visualizando las estaciones en un mapa...\n"
     ]
    },
    {
     "data": {
      "image/png": "[encoded data removed]",
      "text/plain": [
       "<Figure size 1000x1000 with 1 Axes>"
      ]
     },
     "metadata": {},
     "output_type": "display_data"
    }
   ],
   "source": [
    "# Creamos el GeoDataFrame a partir del DataFrame combinado\n",
    "# Especificamos que la geometría se crea a partir de las columnas 'lon' y 'lat'\n",
    "gdf = gpd.GeoDataFrame(\n",
    "    df_combinado,\n",
    "    geometry=gpd.points_from_xy(df_combinado.LON, df_combinado.LAT),\n",
    "    crs=\"EPSG:4326\"  # CRS estándar para coordenadas lat/lon\n",
    ")\n",
    "\n",
    "print(\"\\n--- GeoDataFrame Creado (primeras filas) ---\")\n",
    "print(gdf.head())\n",
    "\n",
    "# Puedes hacer una visualización rápida para confirmar que funciona\n",
    "print(\"\\nVisualizando las estaciones en un mapa...\")\n",
    "gdf.plot(figsize=(10, 10))\n",
    "plt.title(\"Ubicación de Estaciones Meteorológicas\")\n",
    "plt.show()"
   ]
  },
  {
   "cell_type": "code",
   "execution_count": null,
   "id": "cd2958cb",
   "metadata": {},
   "outputs": [],
   "source": []
  },
  {
   "cell_type": "code",
   "execution_count": 16,
   "id": "d492265a",
   "metadata": {},
   "outputs": [
    {
     "data": {
      "image/png": "[encoded data removed]",
      "text/plain": [
       "<Figure size 1200x1200 with 2 Axes>"
      ]
     },
     "metadata": {},
     "output_type": "display_data"
    }
   ],
   "source": [
    "# 1. Reproyectar el GeoDataFrame al sistema de coordenadas de Web Mercator\n",
    "gdf_wm = gdf.to_crs(epsg=3857)\n",
    "\n",
    "# 2. Crear el gráfico de los puntos\n",
    "fig, ax = plt.subplots(figsize=(12, 12))\n",
    "gdf_wm.plot(ax=ax,\n",
    "            column='TEMP (°C)',  # Columna para colorear los puntos por provincia\n",
    "            cmap='coolwarm',  # Mapa de colores\n",
    "            edgecolor='black',\n",
    "            alpha=0.7,\n",
    "            markersize=50,\n",
    "            legend=True)\n",
    "\n",
    "# 3. Añadir el mapa de fondo usando contextily\n",
    "# Usaremos OpenStreetMap como fuente del mapa\n",
    "ctx.add_basemap(ax, source=ctx.providers.OpenStreetMap.Mapnik)\n",
    "\n",
    "# 4. Limpiar y mostrar el gráfico\n",
    "ax.set_axis_off() # Ocultamos los ejes, ya no son necesarios\n",
    "plt.title(\"Ubicación de Estaciones Meteorológicas en Argentina\", fontsize=16)\n",
    "plt.show()"
   ]
  },
  {
   "cell_type": "code",
   "execution_count": 17,
   "id": "6568dd90",
   "metadata": {},
   "outputs": [
    {
     "name": "stdout",
     "output_type": "stream",
     "text": [
      "--- DataFrame Agregado (una fila por estación) ---\n",
      "            ESTACION        LAT        LON  TEMP_media\n",
      "0    AEROPARQUE AERO -34.550000 -58.416667     15.2375\n",
      "1          AZUL AERO -36.816667 -59.883333     10.9875\n",
      "2  BAHIA BLANCA AERO -38.700000 -62.150000      12.625\n",
      "3     BARILOCHE AERO -41.133333 -71.150000    4.654167\n",
      "4   BASE BELGRANO II -77.866667 -34.616667      -17.55\n"
     ]
    },
    {
     "data": {
      "image/png": "[encoded data removed]",
      "text/plain": [
       "<Figure size 1200x1200 with 2 Axes>"
      ]
     },
     "metadata": {},
     "output_type": "display_data"
    }
   ],
   "source": [
    "# --- PASO 1: AGREGAR LOS DATOS ---\n",
    "# Agrupamos por estación para tener UNA fila por estación.\n",
    "# Calculamos la temperatura MEDIA para cada una.\n",
    "df_agregado = df_combinado.groupby(['ESTACION', \"LAT\", \"LON\"]).agg(\n",
    "    TEMP_media=('TEMP (°C)', 'mean')\n",
    ").reset_index()\n",
    "\n",
    "print(\"--- DataFrame Agregado (una fila por estación) ---\")\n",
    "print(df_agregado.head())\n",
    "\n",
    "\n",
    "# --- PASO 2: CREAR EL GEODATAFRAME CON LOS DATOS AGREGADOS ---\n",
    "gdf_agregado = gpd.GeoDataFrame(\n",
    "    df_agregado,\n",
    "    geometry=gpd.points_from_xy(df_agregado.LON, df_agregado.LAT),\n",
    "    crs=\"EPSG:4326\"\n",
    ")\n",
    "\n",
    "\n",
    "# --- PASO 3: GRAFICAR EL NUEVO GEODATAFRAME ---\n",
    "# Reproyectar al CRS correcto para el mapa base\n",
    "gdf_agregado_wm = gdf_agregado.to_crs(epsg=3857)\n",
    "\n",
    "# Crear el gráfico\n",
    "fig, ax = plt.subplots(figsize=(12, 12))\n",
    "\n",
    "# Graficar usando la nueva columna 'TEMP_media'\n",
    "gdf_agregado_wm.plot(ax=ax,\n",
    "                     column='TEMP_media', # <-- Usamos la nueva columna con el promedio\n",
    "                     cmap='coolwarm',\n",
    "                     legend=True,\n",
    "                     legend_kwds={'label': \"Temperatura Media (°C)\"},\n",
    "                     alpha=0.8,\n",
    "                     markersize=60,\n",
    "                     edgecolor='black')\n",
    "\n",
    "# Añadir mapa de fondo\n",
    "ctx.add_basemap(ax, source=ctx.providers.OpenStreetMap.Mapnik)\n",
    "\n",
    "ax.set_axis_off()\n",
    "plt.title(\"Temperatura Media por Estación en Argentina\", fontsize=16)\n",
    "plt.show()"
   ]
  },
  {
   "cell_type": "code",
   "execution_count": 18,
   "id": "cabe92f1",
   "metadata": {},
   "outputs": [
    {
     "name": "stderr",
     "output_type": "stream",
     "text": [
      "C:\\Users\\dsput\\AppData\\Local\\Temp\\ipykernel_16496\\1165637625.py:6: DeprecationWarning: *scatter_mapbox* is deprecated! Use *scatter_map* instead. Learn more at: https://plotly.com/python/mapbox-to-maplibre/\n",
      "  fig = px.scatter_mapbox(\n"
     ]
    },
    {
     "data": {
      "application/vnd.plotly.v1+json": {
       "config": {
        "plotlyServerURL": "https://plot.ly"
       },
       "data": [
        {
         "customdata": {
          "bdata": "mZmZmZl5LkCZmZmZmfklQAAAAAAAQClA3t3d3d2dEkDNzMzMzIwxwAAAAAAAAPh/mpmZmZmZIsAzMzMzM3MowAAAAAAAgCXAmpmZmZmZIsDrUbgehesnQAAAAAAAAPh/AAAAAADgKkAAAAAAAAD4fwAAAAAAAPh/iYiIiIhIMUDv7u7u7s41QGZmZmZmzjJAZmZmZmYGF0AiIiIiIiIyQAAAAAAAACNAAAAAAAAA+H+8u7u7u5sxQAAAAAAAUDBAAAAAAAAA+H8AAAAAAAD4f2dmZmZmtjVA7+7u7u6uJ0Bcj8L1KFwZQO/u7u7u7v4/RERERETUMEAAAAAAAAD4f97d3d3dXRBAMzMzMzNjMEBVVVVVVXU1QAAAAAAAgCpAAAAAAAAA+H8AAAAAABA0QN7d3d3dfTNAzczMzMzMNUBlZmZmZmYrQFVVVVVVVTJAZmZmZmbeMUB3d3d3d1cxQCMiIiIiYixAAAAAAAAA+H+IiIiIiOguQM3MzMzMDDJAMzMzMzMzLEAzMzMzM5s5QAAAAAAAABZAIiIiIiIiCEAAAAAAAAD4fwAAAAAAAPh/AAAAAAAA+H8jIiIiIqInQAAAAAAAAPh/AAAAAAAA+H8FW7AFW7AxQGdmZmZmZjJAAAAAAAAA+H8AAAAAAFAxQAAAAAAAwBpAAAAAAACAMEAjIiIiIiI0QJqZmZmZeSRAAAAAAADQNUDv7u7u7k4zQCMiIiIiIhpAAAAAAAAA+H+amZmZmfktQAAAAAAAAPh/2Ymd2ImdJ0AAAAAAAAD4f97d3d3dDTRAAAAAAAAA+H8AAAAAAAD4fwAAAAAAAPh/G7mRG7mRK0DNzMzMzMwzQLy7u7u7uzRAREREREQ0NUBVVVVVVXUsQAAAAAAAgAdAIyIiIiKiBkAAAAAAAAA6QHd3d3d3FzNAAAAAAACALkAAAAAAAAD4f2dmZmZmJjBAzczMzMwMKEAzMzMzM3MaQHh3d3d31yxABD/wAz/wK0AREREREfEjQERERERERBBAmZmZmZlZJ0AAAAAAAAD4fwAAAAAAAPh/3t3d3d29M0B3d3d3d1czQNVBHdRBHSZAmpmZmZmZNkAAAAAAAAD4f93d3d3d3S9A3d3d3d1dHkBI4XoUrkctQMzMzMzMTCZAvLu7u7t7MUDNzMzMzIwQQB6F61G4HiZAAAAAAAAA+H/v7u7u7u4mQGdmZmZmZiVAAAAAAAAA+H8AAAAAAAD4f4M6qIM6qCZAAAAAAAAA+H8=",
          "dtype": "f8",
          "shape": "118, 1"
         },
         "hovertemplate": "<b>%{hovertext}</b><br><br>LAT=%{lat}<br>LON=%{lon}<br>TEMP_media=%{marker.color:.2f}<extra></extra>",
         "hovertext": [
          "AEROPARQUE AERO",
          "AZUL AERO",
          "BAHIA BLANCA AERO",
          "BARILOCHE AERO",
          "BASE BELGRANO II",
          "BASE CARLINI (EX JUBANY)",
          "BASE ESPERANZA",
          "BASE MARAMBIO",
          "BASE ORCADAS",
          "BASE SAN MARTIN",
          "BENITO JUAREZ",
          "BERNARDO DE IRIGOYEN AERO",
          "BOLIVAR AERO",
          "BUENOS AIRES OBSERVATORIO",
          "CAMPO DE MAYO AERO",
          "CATAMARCA AERO",
          "CERES AERO",
          "CHAMICAL AERO",
          "CHAPELCO AERO",
          "CHEPES",
          "CHILECITO AERO",
          "COMODORO RIVADAVIA AERO",
          "CONCORDIA AERO",
          "CORDOBA AERO",
          "CORDOBA OBSERVATORIO",
          "CORONEL SUAREZ AERO",
          "CORRIENTES AERO",
          "DOLORES AERO",
          "EL BOLSON AERO",
          "EL CALAFATE AERO",
          "EL PALOMAR AERO",
          "ESCUELA DE AVIACION MILITAR AE",
          "ESQUEL AERO",
          "EZEIZA AERO",
          "FORMOSA AERO",
          "GENERAL PICO AERO",
          "GOBERNADOR GREGORES AERO",
          "GUALEGUAYCHU AERO",
          "IGUAZU AERO",
          "ITUZAINGO",
          "JACHAL",
          "JUJUY AERO",
          "JUJUY U N",
          "JUNIN AERO",
          "LA PLATA AERO",
          "LA QUIACA OBSERVATORIO",
          "LA RIOJA AERO",
          "LABOULAYE AERO",
          "LAS FLORES",
          "LAS LOMITAS",
          "MALARGUE AERO",
          "MAQUINCHAO",
          "MAR DEL PLATA AERO",
          "MARCOS JUAREZ AERO",
          "MARIANO MORENO AERO",
          "MENDOZA AERO",
          "MENDOZA OBSERVATORIO",
          "MERCEDES AERO (CTES)",
          "MERLO AERO",
          "METAN",
          "MONTE CASEROS AERO",
          "MORON AERO",
          "NEUQUEN AERO",
          "NUEVE DE JULIO",
          "OBERA",
          "OLAVARRIA AERO",
          "ORAN AERO",
          "PARANA AERO",
          "PASO DE INDIOS",
          "PASO DE LOS LIBRES AERO",
          "PEHUAJO AERO",
          "PERITO MORENO AERO",
          "PIGUE AERO",
          "PILAR OBSERVATORIO",
          "POSADAS AERO",
          "PRESIDENCIA ROQUE SAENZ PEÑA A",
          "PUERTO DESEADO AERO",
          "PUERTO MADRYN AERO",
          "PUNTA INDIO B.A.",
          "RAFAELA AERO",
          "RECONQUISTA AERO",
          "RESISTENCIA AERO",
          "RIO CUARTO AERO",
          "RIO GALLEGOS AERO",
          "RIO GRANDE B.A.",
          "RIVADAVIA",
          "ROSARIO AERO",
          "SALTA AERO",
          "SAN ANTONIO OESTE AERO",
          "SAN FERNANDO AERO",
          "SAN JUAN AERO",
          "SAN JULIAN AERO",
          "SAN LUIS AERO",
          "SAN MARTIN (MZA)",
          "SAN RAFAEL AERO",
          "SANTA CRUZ AERO",
          "SANTA ROSA AERO",
          "SANTA ROSA DE CONLARA AERO",
          "SANTIAGO DEL ESTERO AERO",
          "SAUCE VIEJO AERO",
          "SUNCHALES AERO",
          "TANDIL AERO",
          "TARTAGAL AERO",
          "TERMAS DE RIO HONDO AERO",
          "TINOGASTA",
          "TRELEW AERO",
          "TRENQUE LAUQUEN",
          "TRES ARROYOS",
          "TUCUMAN AERO",
          "USHUAIA AERO",
          "USPALLATA",
          "VENADO TUERTO AERO",
          "VICTORICA",
          "VIEDMA AERO",
          "VILLA DE MARIA DEL RIO SECO",
          "VILLA DOLORES AERO",
          "VILLA GESELL AERO",
          "VILLA REYNOLDS AERO"
         ],
         "lat": {
          "bdata": "ZmZmZmZGQcCJiIiIiGhCwJqZmZmZWUPAERERERGRRMB3d3d3d3dTwN7d3d3dHU/AERERERGxT8Dv7u7u7g5QwN7d3d3dXU7Ad3d3d3cHUcCamZmZmdlCwERERERERDrAd3d3d3cXQsCrqqqqqkpBwEREREREREHAVVVVVVWVPMDe3d3d3d09wFVVVVVVVT7AiYiIiIgIRMCamZmZmVk/wHd3d3d3Nz3ARERERETkRsDNzMzMzEw/wImIiIiISD/Aq6qqqqpqP8CamZmZmblCwO/u7u7ubjvAiYiIiIgoQsCamZmZmflEwEREREREJEnAzczMzMxMQcDv7u7u7m4/wDMzMzMzc0XAiYiIiIhoQcAzMzMzMzM6wHd3d3d310HAIiIiIiJiSMAAAAAAAIBAwHd3d3d3tznAVVVVVVWVO8B3d3d3dzc+wCIiIiIiYjjAq6qqqqoqOMBmZmZmZkZBwJqZmZmZeUHAmpmZmZkZNsDe3d3d3V09wO/u7u7uDkHAREREREQEQsAzMzMzM7M4wLy7u7u7u0HA3t3d3d2dRMBVVVVVVfVCwFVVVVVVVUDAZmZmZmZGQcCrqqqqqmpAwBERERERcUDAd3d3d3c3PcB3d3d3d1dBwEREREREhDnAAAAAAABAPsBVVVVVVVVBwJqZmZmZeUPAd3d3d3e3QcC8u7u7u3s7wBERERERcULAZmZmZmYmN8CJiIiIiMg/wM3MzMzM7EXA7+7u7u6uPcCrqqqqqupBwEREREREREfAzczMzMzMQsCrqqqqqqo/wCIiIiIiYjvAvLu7u7u7OsDe3d3d3d1HwAAAAAAAYEXAzczMzMysQcBEREREREQ/wDMzMzMzMz3A7+7u7u5uO8CrqqqqqopAwM3MzMzMzEnAIiIiIiLiSsDv7u7u7i44wDMzMzMzc0DAVVVVVVXVOMAAAAAAAGBEwJqZmZmZOUHAERERERGRP8BmZmZmZqZIwCIiIiIiokDAiYiIiIiIQMCrqqqqqkpBwCIiIiIiAknAq6qqqqpKQsDv7u7u7i5AwAAAAAAAwDvAMzMzMzOzP8AzMzMzM/M+wN7d3d3dnULAmpmZmZmZNsAAAAAAAIA7wBERERERETzAmpmZmZmZRcC8u7u7u/tBwM3MzMzMLEPAVVVVVVXVOsCrqqqqqmpLwKuqqqqqSkDAVVVVVVXVQMC8u7u7uxtCwM3MzMzMbETAZmZmZmbmPcAzMzMzM/M/wN7d3d3dnULAvLu7u7vbQMA=",
          "dtype": "f8"
         },
         "legendgroup": "",
         "lon": {
          "bdata": "VVVVVVU1TcAREREREfFNwDMzMzMzE0/AmpmZmZnJUcDv7u7u7k5BwDMzMzMzU03A3t3d3d19TMDv7u7u7k5MwN7d3d3dXUbAZmZmZmbGUMBERERERORNwFVVVVVV1UrAiYiIiIiITsDe3d3d3T1NwFVVVVVVVU3AAAAAAABwUMB3d3d3d/dOwCIiIiIiklDAiYiIiIjIUcBERERERKRQwLy7u7u721DAzczMzMzcUMAAAAAAAABNwM3MzMzMDFDAvLu7u7sLUMAREREREfFOwAAAAAAAYE3AvLu7u7vbTMAiIiIiIuJRwDMzMzMzA1LAzczMzMxMTcARERERERFQwImIiIiIyFHARERERERETcC8u7u7uxtNwAAAAAAA4E/AmpmZmZmJUcDNzMzMzExNwLy7u7u7O0vAVVVVVVVVTMDv7u7u7i5RwFVVVVVVRVDARERERERUUMBVVVVVVXVOwBERERER8UzAZmZmZmZmUMAiIiIiIrJQwO/u7u7urk/AERERERGRTcCrqqqqqkpOwFVVVVVVZVHAzczMzMwsUcCJiIiIiMhMwDMzMzMzE0/ARERERERkTcAiIiIiIjJRwHd3d3d3N1HAq6qqqqoKTcDe3d3d3V1NwN7d3d3dPVDAERERERHRTMAREREREVFNwImIiIiICFHA7+7u7u5uTsDv7u7u7o5LwLy7u7u7G07AREREREQUUMDe3d3d3T1OwCIiIiIiQlHAERERERGRTMDNzMzMzOxOwO/u7u7uvlHAERERERExT8Dv7u7u7u5PwLy7u7u7+0vA3t3d3d09TsCamZmZmXlQwGZmZmZmRlDARERERESkTMAAAAAAAMBOwHd3d3d3103ARERERESETcARERERERFQwDMzMzMzU1HAAAAAAADwUMAREREREXFPwCIiIiIiYk7A3t3d3d1dUMAREREREUFQwKuqqqqqSk3Aq6qqqqoaUcAzMzMzM/NQwGZmZmZmllDAzczMzMwcUcCamZmZmRlRwEREREREJFHAERERERERUMCrqqqqqkpQwCIiIiIiElDAZmZmZmZmTsAiIiIiIsJOwLy7u7u7m03ARERERETkT8C8u7u7uztQwDMzMzMz41DAERERERFRUMC8u7u7u1tPwEREREREJE7AZmZmZmZGUMAzMzMzMxNRwFVVVVVVVVHAmpmZmZn5TsC8u7u7u1tQwAAAAAAAgE/AvLu7u7vbT8CJiIiIiEhQwCIiIiIigkzAd3d3d3dXUMA=",
          "dtype": "f8"
         },
         "marker": {
          "color": {
           "bdata": "mZmZmZl5LkCZmZmZmfklQAAAAAAAQClA3t3d3d2dEkDNzMzMzIwxwAAAAAAAAPh/mpmZmZmZIsAzMzMzM3MowAAAAAAAgCXAmpmZmZmZIsDrUbgehesnQAAAAAAAAPh/AAAAAADgKkAAAAAAAAD4fwAAAAAAAPh/iYiIiIhIMUDv7u7u7s41QGZmZmZmzjJAZmZmZmYGF0AiIiIiIiIyQAAAAAAAACNAAAAAAAAA+H+8u7u7u5sxQAAAAAAAUDBAAAAAAAAA+H8AAAAAAAD4f2dmZmZmtjVA7+7u7u6uJ0Bcj8L1KFwZQO/u7u7u7v4/RERERETUMEAAAAAAAAD4f97d3d3dXRBAMzMzMzNjMEBVVVVVVXU1QAAAAAAAgCpAAAAAAAAA+H8AAAAAABA0QN7d3d3dfTNAzczMzMzMNUBlZmZmZmYrQFVVVVVVVTJAZmZmZmbeMUB3d3d3d1cxQCMiIiIiYixAAAAAAAAA+H+IiIiIiOguQM3MzMzMDDJAMzMzMzMzLEAzMzMzM5s5QAAAAAAAABZAIiIiIiIiCEAAAAAAAAD4fwAAAAAAAPh/AAAAAAAA+H8jIiIiIqInQAAAAAAAAPh/AAAAAAAA+H8FW7AFW7AxQGdmZmZmZjJAAAAAAAAA+H8AAAAAAFAxQAAAAAAAwBpAAAAAAACAMEAjIiIiIiI0QJqZmZmZeSRAAAAAAADQNUDv7u7u7k4zQCMiIiIiIhpAAAAAAAAA+H+amZmZmfktQAAAAAAAAPh/2Ymd2ImdJ0AAAAAAAAD4f97d3d3dDTRAAAAAAAAA+H8AAAAAAAD4fwAAAAAAAPh/G7mRG7mRK0DNzMzMzMwzQLy7u7u7uzRAREREREQ0NUBVVVVVVXUsQAAAAAAAgAdAIyIiIiKiBkAAAAAAAAA6QHd3d3d3FzNAAAAAAACALkAAAAAAAAD4f2dmZmZmJjBAzczMzMwMKEAzMzMzM3MaQHh3d3d31yxABD/wAz/wK0AREREREfEjQERERERERBBAmZmZmZlZJ0AAAAAAAAD4fwAAAAAAAPh/3t3d3d29M0B3d3d3d1czQNVBHdRBHSZAmpmZmZmZNkAAAAAAAAD4f93d3d3d3S9A3d3d3d1dHkBI4XoUrkctQMzMzMzMTCZAvLu7u7t7MUDNzMzMzIwQQB6F61G4HiZAAAAAAAAA+H/v7u7u7u4mQGdmZmZmZiVAAAAAAAAA+H8AAAAAAAD4f4M6qIM6qCZAAAAAAAAA+H8=",
           "dtype": "f8"
          },
          "coloraxis": "coloraxis"
         },
         "mode": "markers",
         "name": "",
         "showlegend": false,
         "subplot": "mapbox",
         "type": "scattermapbox"
        }
       ],
       "layout": {
        "coloraxis": {
         "colorbar": {
          "title": {
           "text": "TEMP_media"
          }
         },
         "colorscale": [
          [
           0,
           "#0d0887"
          ],
          [
           0.1111111111111111,
           "#46039f"
          ],
          [
           0.2222222222222222,
           "#7201a8"
          ],
          [
           0.3333333333333333,
           "#9c179e"
          ],
          [
           0.4444444444444444,
           "#bd3786"
          ],
          [
           0.5555555555555556,
           "#d8576b"
          ],
          [
           0.6666666666666666,
           "#ed7953"
          ],
          [
           0.7777777777777778,
           "#fb9f3a"
          ],
          [
           0.8888888888888888,
           "#fdca26"
          ],
          [
           1,
           "#f0f921"
          ]
         ]
        },
        "legend": {
         "tracegroupgap": 0
        },
        "mapbox": {
         "center": {
          "lat": -40,
          "lon": -64
         },
         "domain": {
          "x": [
           0,
           1
          ],
          "y": [
           0,
           1
          ]
         },
         "style": "open-street-map",
         "zoom": 3
        },
        "template": {
         "data": {
          "bar": [
           {
            "error_x": {
             "color": "#2a3f5f"
            },
            "error_y": {
             "color": "#2a3f5f"
            },
            "marker": {
             "line": {
              "color": "#E5ECF6",
              "width": 0.5
             },
             "pattern": {
              "fillmode": "overlay",
              "size": 10,
              "solidity": 0.2
             }
            },
            "type": "bar"
           }
          ],
          "barpolar": [
           {
            "marker": {
             "line": {
              "color": "#E5ECF6",
              "width": 0.5
             },
             "pattern": {
              "fillmode": "overlay",
              "size": 10,
              "solidity": 0.2
             }
            },
            "type": "barpolar"
           }
          ],
          "carpet": [
           {
            "aaxis": {
             "endlinecolor": "#2a3f5f",
             "gridcolor": "white",
             "linecolor": "white",
             "minorgridcolor": "white",
             "startlinecolor": "#2a3f5f"
            },
            "baxis": {
             "endlinecolor": "#2a3f5f",
             "gridcolor": "white",
             "linecolor": "white",
             "minorgridcolor": "white",
             "startlinecolor": "#2a3f5f"
            },
            "type": "carpet"
           }
          ],
          "choropleth": [
           {
            "colorbar": {
             "outlinewidth": 0,
             "ticks": ""
            },
            "type": "choropleth"
           }
          ],
          "contour": [
           {
            "colorbar": {
             "outlinewidth": 0,
             "ticks": ""
            },
            "colorscale": [
             [
              0,
              "#0d0887"
             ],
             [
              0.1111111111111111,
              "#46039f"
             ],
             [
              0.2222222222222222,
              "#7201a8"
             ],
             [
              0.3333333333333333,
              "#9c179e"
             ],
             [
              0.4444444444444444,
              "#bd3786"
             ],
             [
              0.5555555555555556,
              "#d8576b"
             ],
             [
              0.6666666666666666,
              "#ed7953"
             ],
             [
              0.7777777777777778,
              "#fb9f3a"
             ],
             [
              0.8888888888888888,
              "#fdca26"
             ],
             [
              1,
              "#f0f921"
             ]
            ],
            "type": "contour"
           }
          ],
          "contourcarpet": [
           {
            "colorbar": {
             "outlinewidth": 0,
             "ticks": ""
            },
            "type": "contourcarpet"
           }
          ],
          "heatmap": [
           {
            "colorbar": {
             "outlinewidth": 0,
             "ticks": ""
            },
            "colorscale": [
             [
              0,
              "#0d0887"
             ],
             [
              0.1111111111111111,
              "#46039f"
             ],
             [
              0.2222222222222222,
              "#7201a8"
             ],
             [
              0.3333333333333333,
              "#9c179e"
             ],
             [
              0.4444444444444444,
              "#bd3786"
             ],
             [
              0.5555555555555556,
              "#d8576b"
             ],
             [
              0.6666666666666666,
              "#ed7953"
             ],
             [
              0.7777777777777778,
              "#fb9f3a"
             ],
             [
              0.8888888888888888,
              "#fdca26"
             ],
             [
              1,
              "#f0f921"
             ]
            ],
            "type": "heatmap"
           }
          ],
          "histogram": [
           {
            "marker": {
             "pattern": {
              "fillmode": "overlay",
              "size": 10,
              "solidity": 0.2
             }
            },
            "type": "histogram"
           }
          ],
          "histogram2d": [
           {
            "colorbar": {
             "outlinewidth": 0,
             "ticks": ""
            },
            "colorscale": [
             [
              0,
              "#0d0887"
             ],
             [
              0.1111111111111111,
              "#46039f"
             ],
             [
              0.2222222222222222,
              "#7201a8"
             ],
             [
              0.3333333333333333,
              "#9c179e"
             ],
             [
              0.4444444444444444,
              "#bd3786"
             ],
             [
              0.5555555555555556,
              "#d8576b"
             ],
             [
              0.6666666666666666,
              "#ed7953"
             ],
             [
              0.7777777777777778,
              "#fb9f3a"
             ],
             [
              0.8888888888888888,
              "#fdca26"
             ],
             [
              1,
              "#f0f921"
             ]
            ],
            "type": "histogram2d"
           }
          ],
          "histogram2dcontour": [
           {
            "colorbar": {
             "outlinewidth": 0,
             "ticks": ""
            },
            "colorscale": [
             [
              0,
              "#0d0887"
             ],
             [
              0.1111111111111111,
              "#46039f"
             ],
             [
              0.2222222222222222,
              "#7201a8"
             ],
             [
              0.3333333333333333,
              "#9c179e"
             ],
             [
              0.4444444444444444,
              "#bd3786"
             ],
             [
              0.5555555555555556,
              "#d8576b"
             ],
             [
              0.6666666666666666,
              "#ed7953"
             ],
             [
              0.7777777777777778,
              "#fb9f3a"
             ],
             [
              0.8888888888888888,
              "#fdca26"
             ],
             [
              1,
              "#f0f921"
             ]
            ],
            "type": "histogram2dcontour"
           }
          ],
          "mesh3d": [
           {
            "colorbar": {
             "outlinewidth": 0,
             "ticks": ""
            },
            "type": "mesh3d"
           }
          ],
          "parcoords": [
           {
            "line": {
             "colorbar": {
              "outlinewidth": 0,
              "ticks": ""
             }
            },
            "type": "parcoords"
           }
          ],
          "pie": [
           {
            "automargin": true,
            "type": "pie"
           }
          ],
          "scatter": [
           {
            "fillpattern": {
             "fillmode": "overlay",
             "size": 10,
             "solidity": 0.2
            },
            "type": "scatter"
           }
          ],
          "scatter3d": [
           {
            "line": {
             "colorbar": {
              "outlinewidth": 0,
              "ticks": ""
             }
            },
            "marker": {
             "colorbar": {
              "outlinewidth": 0,
              "ticks": ""
             }
            },
            "type": "scatter3d"
           }
          ],
          "scattercarpet": [
           {
            "marker": {
             "colorbar": {
              "outlinewidth": 0,
              "ticks": ""
             }
            },
            "type": "scattercarpet"
           }
          ],
          "scattergeo": [
           {
            "marker": {
             "colorbar": {
              "outlinewidth": 0,
              "ticks": ""
             }
            },
            "type": "scattergeo"
           }
          ],
          "scattergl": [
           {
            "marker": {
             "colorbar": {
              "outlinewidth": 0,
              "ticks": ""
             }
            },
            "type": "scattergl"
           }
          ],
          "scattermap": [
           {
            "marker": {
             "colorbar": {
              "outlinewidth": 0,
              "ticks": ""
             }
            },
            "type": "scattermap"
           }
          ],
          "scattermapbox": [
           {
            "marker": {
             "colorbar": {
              "outlinewidth": 0,
              "ticks": ""
             }
            },
            "type": "scattermapbox"
           }
          ],
          "scatterpolar": [
           {
            "marker": {
             "colorbar": {
              "outlinewidth": 0,
              "ticks": ""
             }
            },
            "type": "scatterpolar"
           }
          ],
          "scatterpolargl": [
           {
            "marker": {
             "colorbar": {
              "outlinewidth": 0,
              "ticks": ""
             }
            },
            "type": "scatterpolargl"
           }
          ],
          "scatterternary": [
           {
            "marker": {
             "colorbar": {
              "outlinewidth": 0,
              "ticks": ""
             }
            },
            "type": "scatterternary"
           }
          ],
          "surface": [
           {
            "colorbar": {
             "outlinewidth": 0,
             "ticks": ""
            },
            "colorscale": [
             [
              0,
              "#0d0887"
             ],
             [
              0.1111111111111111,
              "#46039f"
             ],
             [
              0.2222222222222222,
              "#7201a8"
             ],
             [
              0.3333333333333333,
              "#9c179e"
             ],
             [
              0.4444444444444444,
              "#bd3786"
             ],
             [
              0.5555555555555556,
              "#d8576b"
             ],
             [
              0.6666666666666666,
              "#ed7953"
             ],
             [
              0.7777777777777778,
              "#fb9f3a"
             ],
             [
              0.8888888888888888,
              "#fdca26"
             ],
             [
              1,
              "#f0f921"
             ]
            ],
            "type": "surface"
           }
          ],
          "table": [
           {
            "cells": {
             "fill": {
              "color": "#EBF0F8"
             },
             "line": {
              "color": "white"
             }
            },
            "header": {
             "fill": {
              "color": "#C8D4E3"
             },
             "line": {
              "color": "white"
             }
            },
            "type": "table"
           }
          ]
         },
         "layout": {
          "annotationdefaults": {
           "arrowcolor": "#2a3f5f",
           "arrowhead": 0,
           "arrowwidth": 1
          },
          "autotypenumbers": "strict",
          "coloraxis": {
           "colorbar": {
            "outlinewidth": 0,
            "ticks": ""
           }
          },
          "colorscale": {
           "diverging": [
            [
             0,
             "#8e0152"
            ],
            [
             0.1,
             "#c51b7d"
            ],
            [
             0.2,
             "#de77ae"
            ],
            [
             0.3,
             "#f1b6da"
            ],
            [
             0.4,
             "#fde0ef"
            ],
            [
             0.5,
             "#f7f7f7"
            ],
            [
             0.6,
             "#e6f5d0"
            ],
            [
             0.7,
             "#b8e186"
            ],
            [
             0.8,
             "#7fbc41"
            ],
            [
             0.9,
             "#4d9221"
            ],
            [
             1,
             "#276419"
            ]
           ],
           "sequential": [
            [
             0,
             "#0d0887"
            ],
            [
             0.1111111111111111,
             "#46039f"
            ],
            [
             0.2222222222222222,
             "#7201a8"
            ],
            [
             0.3333333333333333,
             "#9c179e"
            ],
            [
             0.4444444444444444,
             "#bd3786"
            ],
            [
             0.5555555555555556,
             "#d8576b"
            ],
            [
             0.6666666666666666,
             "#ed7953"
            ],
            [
             0.7777777777777778,
             "#fb9f3a"
            ],
            [
             0.8888888888888888,
             "#fdca26"
            ],
            [
             1,
             "#f0f921"
            ]
           ],
           "sequentialminus": [
            [
             0,
             "#0d0887"
            ],
            [
             0.1111111111111111,
             "#46039f"
            ],
            [
             0.2222222222222222,
             "#7201a8"
            ],
            [
             0.3333333333333333,
             "#9c179e"
            ],
            [
             0.4444444444444444,
             "#bd3786"
            ],
            [
             0.5555555555555556,
             "#d8576b"
            ],
            [
             0.6666666666666666,
             "#ed7953"
            ],
            [
             0.7777777777777778,
             "#fb9f3a"
            ],
            [
             0.8888888888888888,
             "#fdca26"
            ],
            [
             1,
             "#f0f921"
            ]
           ]
          },
          "colorway": [
           "#636efa",
           "#EF553B",
           "#00cc96",
           "#ab63fa",
           "#FFA15A",
           "#19d3f3",
           "#FF6692",
           "#B6E880",
           "#FF97FF",
           "#FECB52"
          ],
          "font": {
           "color": "#2a3f5f"
          },
          "geo": {
           "bgcolor": "white",
           "lakecolor": "white",
           "landcolor": "#E5ECF6",
           "showlakes": true,
           "showland": true,
           "subunitcolor": "white"
          },
          "hoverlabel": {
           "align": "left"
          },
          "hovermode": "closest",
          "mapbox": {
           "style": "light"
          },
          "paper_bgcolor": "white",
          "plot_bgcolor": "#E5ECF6",
          "polar": {
           "angularaxis": {
            "gridcolor": "white",
            "linecolor": "white",
            "ticks": ""
           },
           "bgcolor": "#E5ECF6",
           "radialaxis": {
            "gridcolor": "white",
            "linecolor": "white",
            "ticks": ""
           }
          },
          "scene": {
           "xaxis": {
            "backgroundcolor": "#E5ECF6",
            "gridcolor": "white",
            "gridwidth": 2,
            "linecolor": "white",
            "showbackground": true,
            "ticks": "",
            "zerolinecolor": "white"
           },
           "yaxis": {
            "backgroundcolor": "#E5ECF6",
            "gridcolor": "white",
            "gridwidth": 2,
            "linecolor": "white",
            "showbackground": true,
            "ticks": "",
            "zerolinecolor": "white"
           },
           "zaxis": {
            "backgroundcolor": "#E5ECF6",
            "gridcolor": "white",
            "gridwidth": 2,
            "linecolor": "white",
            "showbackground": true,
            "ticks": "",
            "zerolinecolor": "white"
           }
          },
          "shapedefaults": {
           "line": {
            "color": "#2a3f5f"
           }
          },
          "ternary": {
           "aaxis": {
            "gridcolor": "white",
            "linecolor": "white",
            "ticks": ""
           },
           "baxis": {
            "gridcolor": "white",
            "linecolor": "white",
            "ticks": ""
           },
           "bgcolor": "#E5ECF6",
           "caxis": {
            "gridcolor": "white",
            "linecolor": "white",
            "ticks": ""
           }
          },
          "title": {
           "x": 0.05
          },
          "xaxis": {
           "automargin": true,
           "gridcolor": "white",
           "linecolor": "white",
           "ticks": "",
           "title": {
            "standoff": 15
           },
           "zerolinecolor": "white",
           "zerolinewidth": 2
          },
          "yaxis": {
           "automargin": true,
           "gridcolor": "white",
           "linecolor": "white",
           "ticks": "",
           "title": {
            "standoff": 15
           },
           "zerolinecolor": "white",
           "zerolinewidth": 2
          }
         }
        },
        "title": {
         "text": "Temperatura Media por Estación en Argentina"
        }
       }
      }
     },
     "metadata": {},
     "output_type": "display_data"
    }
   ],
   "source": [
    "import plotly.express as px\n",
    "\n",
    "# Asumiendo que tienes el DataFrame 'df_agregado' del paso anterior\n",
    "\n",
    "# Creamos la figura interactiva con una sola línea de código\n",
    "fig = px.scatter_mapbox(\n",
    "    df_agregado,\n",
    "    lat=\"LAT\",\n",
    "    lon=\"LON\",\n",
    "    color=\"TEMP_media\",              # El tamaño de la burbuja también se basa en la temp.\n",
    "    hover_name=\"ESTACION\",            # Muestra el nombre de la estación al pasar el mouse\n",
    "    hover_data={'TEMP_media': ':.2f'}, # Info extra en el hover, con 2 decimales\n",
    "    color_continuous_scale=px.colors.sequential.Plasma, # Paleta de colores\n",
    "    mapbox_style=\"open-street-map\", # Estilo del mapa de fondo\n",
    "    zoom=3,                         # Nivel de zoom inicial\n",
    "    center={\"lat\": -40, \"lon\": -64}, # Centra el mapa en Argentina\n",
    "    title=\"Temperatura Media por Estación en Argentina\"\n",
    ")\n",
    "\n",
    "# Mostramos la figura interactiva\n",
    "fig.show()"
   ]
  },
  {
   "cell_type": "code",
   "execution_count": null,
   "id": "081f91eb",
   "metadata": {},
   "outputs": [],
   "source": []
  }
 ],
 "metadata": {
  "kernelspec": {
   "display_name": "Python 3",
   "language": "python",
   "name": "python3"
  },
  "language_info": {
   "codemirror_mode": {
    "name": "ipython",
    "version": 3
   },
   "file_extension": ".py",
   "mimetype": "text/x-python",
   "name": "python",
   "nbconvert_exporter": "python",
   "pygments_lexer": "ipython3",
   "version": "3.11.9"
  }
 },
 "nbformat": 4,
 "nbformat_minor": 5
}
